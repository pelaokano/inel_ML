{
 "cells": [
  {
   "cell_type": "markdown",
   "metadata": {},
   "source": [
    "<h1><font color=\"#113D68\" size=6>Deep Learning con Python y Keras</font></h1>\n",
    "\n",
    "<h1><font color=\"#113D68\" size=5>Multilayer Perceptron</font></h1>\n",
    "\n",
    "<h1><font color=\"#113D68\" size=4>Proyecto de clasificación binaria</font></h1>"
   ]
  },
  {
   "cell_type": "markdown",
   "metadata": {},
   "source": [
    "---\n",
    "<a id=\"section0\"></a>\n",
    "# <font color=\"#004D7F\" size=6> 0. Contexto</font>"
   ]
  },
  {
   "cell_type": "markdown",
   "metadata": {},
   "source": [
    "En este tutorial se trabajará en un proyecto de clasificación binaria:\n",
    "* Cómo diseñar y entrenar una red neuronal.\n",
    "* Cómo evaluar el rendimiento de un modelo de red neuronal.\n",
    "* Cómo realizar la preparación de datos para mejorar la habilidad al usar redes neuronales.\n",
    "* Cómo optimizar la topología y configuración de redes neuronales."
   ]
  },
  {
   "cell_type": "code",
   "execution_count": 1,
   "metadata": {},
   "outputs": [],
   "source": [
    "import tensorflow as tf\n",
    "# Eliminar warning\n",
    "tf.compat.v1.logging.set_verbosity(tf.compat.v1.logging.ERROR)"
   ]
  },
  {
   "cell_type": "markdown",
   "metadata": {},
   "source": [
    "<a id=\"section1\"></a>\n",
    "# <font color=\"#004D7F\" size=6>1. Rendimiento del modelo de red neuronal de referencia</font>"
   ]
  },
  {
   "cell_type": "markdown",
   "metadata": {},
   "source": [
    "En este problema vamos a utilizar un problema de clasificación binaria como es Sonar en el cual los resultados de Accuracy rondan el 84%.\n",
    "\n",
    "Creemos un modelo de referencia y un resultado para este problema. Comenzaremos importando todas las clases y funciones que necesitaremos."
   ]
  },
  {
   "cell_type": "markdown",
   "metadata": {},
   "source": [
    "<div class=\"alert alert-block alert-info\">\n",
    "    \n",
    "<i class=\"fa fa-info-circle\" aria-hidden=\"true\"></i>\n",
    "Más información sobre el dataset [Sonar](https://archive.ics.uci.edu/ml/datasets/Connectionist+Bench+(Sonar,+Mines+vs.+Rocks))"
   ]
  },
  {
   "cell_type": "code",
   "execution_count": 2,
   "metadata": {},
   "outputs": [],
   "source": [
    "# Binary Classification with Sonar Dataset: Baseline\n",
    "import pandas as pd\n",
    "from tensorflow.keras.models import Sequential\n",
    "from tensorflow.keras.layers import Dense\n",
    "#from tensorflow.keras.wrappers.scikit_learn import KerasClassifier\n",
    "from sklearn.model_selection import cross_val_score\n",
    "from sklearn.model_selection import KFold\n",
    "from sklearn.preprocessing import LabelEncoder\n",
    "from scikeras.wrappers import KerasClassifier\n",
    "from sklearn.model_selection import StratifiedKFold\n",
    "\n",
    "# load dataset\n",
    "\n",
    "dataframe=pd.read_csv(\"sonar.csv\",header=None)\n",
    "dataset=dataframe.values\n",
    "\n",
    "# split into input (X) and output (Y) variables\n",
    "\n",
    "X=dataset[:,0:60].astype(float)\n",
    "y=dataset[:,60]\n"
   ]
  },
  {
   "cell_type": "code",
   "execution_count": 3,
   "metadata": {},
   "outputs": [
    {
     "data": {
      "text/plain": [
       "array([[0.02  , 0.0371, 0.0428, ..., 0.0084, 0.009 , 0.0032],\n",
       "       [0.0453, 0.0523, 0.0843, ..., 0.0049, 0.0052, 0.0044],\n",
       "       [0.0262, 0.0582, 0.1099, ..., 0.0164, 0.0095, 0.0078],\n",
       "       ...,\n",
       "       [0.0522, 0.0437, 0.018 , ..., 0.0138, 0.0077, 0.0031],\n",
       "       [0.0303, 0.0353, 0.049 , ..., 0.0079, 0.0036, 0.0048],\n",
       "       [0.026 , 0.0363, 0.0136, ..., 0.0036, 0.0061, 0.0115]])"
      ]
     },
     "execution_count": 3,
     "metadata": {},
     "output_type": "execute_result"
    }
   ],
   "source": [
    "X"
   ]
  },
  {
   "cell_type": "markdown",
   "metadata": {},
   "source": [
    "La variable de salida son de tipo string. Debemos convertirlos en valores enteros 0 y 1. Podemos hacer esto usando la clase `LabelEncoder` a través de `fit()` y `transform()`."
   ]
  },
  {
   "cell_type": "code",
   "execution_count": 4,
   "metadata": {},
   "outputs": [
    {
     "data": {
      "text/plain": [
       "array([1, 1, 1, 1, 1, 1, 1, 1, 1, 1, 1, 1, 1, 1, 1, 1, 1, 1, 1, 1, 1, 1,\n",
       "       1, 1, 1, 1, 1, 1, 1, 1, 1, 1, 1, 1, 1, 1, 1, 1, 1, 1, 1, 1, 1, 1,\n",
       "       1, 1, 1, 1, 1, 1, 1, 1, 1, 1, 1, 1, 1, 1, 1, 1, 1, 1, 1, 1, 1, 1,\n",
       "       1, 1, 1, 1, 1, 1, 1, 1, 1, 1, 1, 1, 1, 1, 1, 1, 1, 1, 1, 1, 1, 1,\n",
       "       1, 1, 1, 1, 1, 1, 1, 1, 1, 0, 0, 0, 0, 0, 0, 0, 0, 0, 0, 0, 0, 0,\n",
       "       0, 0, 0, 0, 0, 0, 0, 0, 0, 0, 0, 0, 0, 0, 0, 0, 0, 0, 0, 0, 0, 0,\n",
       "       0, 0, 0, 0, 0, 0, 0, 0, 0, 0, 0, 0, 0, 0, 0, 0, 0, 0, 0, 0, 0, 0,\n",
       "       0, 0, 0, 0, 0, 0, 0, 0, 0, 0, 0, 0, 0, 0, 0, 0, 0, 0, 0, 0, 0, 0,\n",
       "       0, 0, 0, 0, 0, 0, 0, 0, 0, 0, 0, 0, 0, 0, 0, 0, 0, 0, 0, 0, 0, 0,\n",
       "       0, 0, 0, 0, 0, 0, 0, 0, 0, 0])"
      ]
     },
     "execution_count": 4,
     "metadata": {},
     "output_type": "execute_result"
    }
   ],
   "source": [
    "# encode class values as integers\n",
    "encoder=LabelEncoder()\n",
    "encoder.fit(y)\n",
    "encoded_y=encoder.transform(y)\n",
    "encoded_y"
   ]
  },
  {
   "cell_type": "markdown",
   "metadata": {},
   "source": [
    "Para usar modelos de Keras con scikit-learn, debemos usar el contenedor `KerasClassifier`. También toma argumentos que pasará a la llamada a `fit()` como el número de épocas y el tamaño del batch. \n",
    "\n",
    "Comencemos por definir la función que crea nuestro modelo de línea de base. \n",
    "1. Tendrá una única capa oculta completamente conectada.\n",
    "2. Se utilizara la función de activación ReLu. \n",
    "3. La capa de salida contiene una sola neurona para hacer predicciones utilizando función de activación Sigmoidal. \n",
    "4. Se usará la función de pérdida logarítmica binaria (`binary_crossentropy`). \n",
    "6. Utilizar el algoritmo de optimización Adam y Accuracy como métrica."
   ]
  },
  {
   "cell_type": "code",
   "execution_count": 5,
   "metadata": {},
   "outputs": [],
   "source": [
    "# baseline model\n",
    "def create_model():\n",
    "    model=Sequential()\n",
    "    model.add(Dense(60,input_dim=60,activation=\"relu\"))\n",
    "    model.add(Dense(1,activation=\"sigmoid\"))\n",
    "    model.compile(loss=\"binary_crossentropy\",optimizer=\"adam\",metrics=[\"accuracy\"])\n",
    "    return model"
   ]
  },
  {
   "cell_type": "code",
   "execution_count": 6,
   "metadata": {},
   "outputs": [
    {
     "name": "stdout",
     "output_type": "stream",
     "text": [
      "Epoch 1/100\n",
      "42/42 [==============================] - 1s 3ms/step - loss: 0.6915 - accuracy: 0.5192\n",
      "Epoch 2/100\n",
      "42/42 [==============================] - 0s 2ms/step - loss: 0.6618 - accuracy: 0.6058\n",
      "Epoch 3/100\n",
      "42/42 [==============================] - 0s 3ms/step - loss: 0.6412 - accuracy: 0.6731\n",
      "Epoch 4/100\n",
      "42/42 [==============================] - 0s 3ms/step - loss: 0.6146 - accuracy: 0.6827\n",
      "Epoch 5/100\n",
      "42/42 [==============================] - 0s 3ms/step - loss: 0.5923 - accuracy: 0.7115\n",
      "Epoch 6/100\n",
      "42/42 [==============================] - 0s 3ms/step - loss: 0.5766 - accuracy: 0.6827\n",
      "Epoch 7/100\n",
      "42/42 [==============================] - 0s 3ms/step - loss: 0.5541 - accuracy: 0.7308\n",
      "Epoch 8/100\n",
      "42/42 [==============================] - 0s 3ms/step - loss: 0.5372 - accuracy: 0.7404\n",
      "Epoch 9/100\n",
      "42/42 [==============================] - 0s 4ms/step - loss: 0.5152 - accuracy: 0.7500\n",
      "Epoch 10/100\n",
      "42/42 [==============================] - 0s 6ms/step - loss: 0.5027 - accuracy: 0.7644\n",
      "Epoch 11/100\n",
      "42/42 [==============================] - 0s 5ms/step - loss: 0.4887 - accuracy: 0.7548\n",
      "Epoch 12/100\n",
      "42/42 [==============================] - 0s 4ms/step - loss: 0.4829 - accuracy: 0.7837\n",
      "Epoch 13/100\n",
      "42/42 [==============================] - 0s 6ms/step - loss: 0.4694 - accuracy: 0.7933\n",
      "Epoch 14/100\n",
      "42/42 [==============================] - 0s 5ms/step - loss: 0.4596 - accuracy: 0.7885\n",
      "Epoch 15/100\n",
      "42/42 [==============================] - 0s 5ms/step - loss: 0.4525 - accuracy: 0.8077\n",
      "Epoch 16/100\n",
      "42/42 [==============================] - 0s 6ms/step - loss: 0.4498 - accuracy: 0.7885\n",
      "Epoch 17/100\n",
      "42/42 [==============================] - 0s 6ms/step - loss: 0.4335 - accuracy: 0.8173\n",
      "Epoch 18/100\n",
      "42/42 [==============================] - 0s 6ms/step - loss: 0.4296 - accuracy: 0.8173\n",
      "Epoch 19/100\n",
      "42/42 [==============================] - 0s 6ms/step - loss: 0.4203 - accuracy: 0.8125\n",
      "Epoch 20/100\n",
      "42/42 [==============================] - 0s 6ms/step - loss: 0.4136 - accuracy: 0.7981\n",
      "Epoch 21/100\n",
      "42/42 [==============================] - 0s 6ms/step - loss: 0.4081 - accuracy: 0.8125\n",
      "Epoch 22/100\n",
      "42/42 [==============================] - 0s 6ms/step - loss: 0.3980 - accuracy: 0.8269\n",
      "Epoch 23/100\n",
      "42/42 [==============================] - 0s 6ms/step - loss: 0.3969 - accuracy: 0.8317\n",
      "Epoch 24/100\n",
      "42/42 [==============================] - 0s 6ms/step - loss: 0.3919 - accuracy: 0.8173\n",
      "Epoch 25/100\n",
      "42/42 [==============================] - 0s 6ms/step - loss: 0.3859 - accuracy: 0.8317\n",
      "Epoch 26/100\n",
      "42/42 [==============================] - 0s 6ms/step - loss: 0.3781 - accuracy: 0.8365\n",
      "Epoch 27/100\n",
      "42/42 [==============================] - 0s 6ms/step - loss: 0.3787 - accuracy: 0.8173\n",
      "Epoch 28/100\n",
      "42/42 [==============================] - 0s 6ms/step - loss: 0.3745 - accuracy: 0.8462\n",
      "Epoch 29/100\n",
      "42/42 [==============================] - 0s 5ms/step - loss: 0.3695 - accuracy: 0.8317\n",
      "Epoch 30/100\n",
      "42/42 [==============================] - 0s 5ms/step - loss: 0.3599 - accuracy: 0.8462\n",
      "Epoch 31/100\n",
      "42/42 [==============================] - 0s 5ms/step - loss: 0.3562 - accuracy: 0.8510\n",
      "Epoch 32/100\n",
      "42/42 [==============================] - 0s 4ms/step - loss: 0.3484 - accuracy: 0.8510\n",
      "Epoch 33/100\n",
      "42/42 [==============================] - 0s 4ms/step - loss: 0.3542 - accuracy: 0.8413\n",
      "Epoch 34/100\n",
      "42/42 [==============================] - 0s 4ms/step - loss: 0.3431 - accuracy: 0.8510\n",
      "Epoch 35/100\n",
      "42/42 [==============================] - 0s 4ms/step - loss: 0.3345 - accuracy: 0.8510\n",
      "Epoch 36/100\n",
      "42/42 [==============================] - 0s 5ms/step - loss: 0.3398 - accuracy: 0.8654\n",
      "Epoch 37/100\n",
      "42/42 [==============================] - 0s 5ms/step - loss: 0.3277 - accuracy: 0.8654\n",
      "Epoch 38/100\n",
      "42/42 [==============================] - 0s 5ms/step - loss: 0.3285 - accuracy: 0.8606\n",
      "Epoch 39/100\n",
      "42/42 [==============================] - 0s 5ms/step - loss: 0.3174 - accuracy: 0.8702\n",
      "Epoch 40/100\n",
      "42/42 [==============================] - 0s 5ms/step - loss: 0.3171 - accuracy: 0.8750\n",
      "Epoch 41/100\n",
      "42/42 [==============================] - 0s 5ms/step - loss: 0.3088 - accuracy: 0.8702\n",
      "Epoch 42/100\n",
      "42/42 [==============================] - 0s 5ms/step - loss: 0.3127 - accuracy: 0.8798\n",
      "Epoch 43/100\n",
      "42/42 [==============================] - 0s 5ms/step - loss: 0.2996 - accuracy: 0.8654\n",
      "Epoch 44/100\n",
      "42/42 [==============================] - 0s 4ms/step - loss: 0.2919 - accuracy: 0.8846\n",
      "Epoch 45/100\n",
      "42/42 [==============================] - 0s 4ms/step - loss: 0.2928 - accuracy: 0.8702\n",
      "Epoch 46/100\n",
      "42/42 [==============================] - 0s 5ms/step - loss: 0.2887 - accuracy: 0.8846\n",
      "Epoch 47/100\n",
      "42/42 [==============================] - 0s 5ms/step - loss: 0.2933 - accuracy: 0.8750\n",
      "Epoch 48/100\n",
      "42/42 [==============================] - 0s 4ms/step - loss: 0.2864 - accuracy: 0.9135\n",
      "Epoch 49/100\n",
      "42/42 [==============================] - 0s 4ms/step - loss: 0.2729 - accuracy: 0.8942\n",
      "Epoch 50/100\n",
      "42/42 [==============================] - 0s 4ms/step - loss: 0.2756 - accuracy: 0.9087\n",
      "Epoch 51/100\n",
      "42/42 [==============================] - 0s 4ms/step - loss: 0.2702 - accuracy: 0.8990\n",
      "Epoch 52/100\n",
      "42/42 [==============================] - 0s 3ms/step - loss: 0.2625 - accuracy: 0.9087\n",
      "Epoch 53/100\n",
      "42/42 [==============================] - 0s 5ms/step - loss: 0.2639 - accuracy: 0.8846\n",
      "Epoch 54/100\n",
      "42/42 [==============================] - 0s 4ms/step - loss: 0.2608 - accuracy: 0.9135\n",
      "Epoch 55/100\n",
      "42/42 [==============================] - 0s 5ms/step - loss: 0.2548 - accuracy: 0.9183\n",
      "Epoch 56/100\n",
      "42/42 [==============================] - 0s 5ms/step - loss: 0.2502 - accuracy: 0.9135\n",
      "Epoch 57/100\n",
      "42/42 [==============================] - 0s 4ms/step - loss: 0.2576 - accuracy: 0.8942\n",
      "Epoch 58/100\n",
      "42/42 [==============================] - 0s 4ms/step - loss: 0.2501 - accuracy: 0.9038\n",
      "Epoch 59/100\n",
      "42/42 [==============================] - 0s 4ms/step - loss: 0.2408 - accuracy: 0.9231\n",
      "Epoch 60/100\n",
      "42/42 [==============================] - 0s 4ms/step - loss: 0.2395 - accuracy: 0.9183\n",
      "Epoch 61/100\n",
      "42/42 [==============================] - 0s 4ms/step - loss: 0.2321 - accuracy: 0.9327\n",
      "Epoch 62/100\n",
      "42/42 [==============================] - 0s 4ms/step - loss: 0.2381 - accuracy: 0.9087\n",
      "Epoch 63/100\n",
      "42/42 [==============================] - 0s 4ms/step - loss: 0.2373 - accuracy: 0.8942\n",
      "Epoch 64/100\n",
      "42/42 [==============================] - 0s 4ms/step - loss: 0.2286 - accuracy: 0.9135\n",
      "Epoch 65/100\n",
      "42/42 [==============================] - 0s 4ms/step - loss: 0.2259 - accuracy: 0.9327\n",
      "Epoch 66/100\n",
      "42/42 [==============================] - 0s 4ms/step - loss: 0.2175 - accuracy: 0.9183\n",
      "Epoch 67/100\n",
      "42/42 [==============================] - 0s 4ms/step - loss: 0.2128 - accuracy: 0.9279\n",
      "Epoch 68/100\n",
      "42/42 [==============================] - 0s 4ms/step - loss: 0.2201 - accuracy: 0.9135\n",
      "Epoch 69/100\n",
      "42/42 [==============================] - 0s 4ms/step - loss: 0.2239 - accuracy: 0.9183\n",
      "Epoch 70/100\n",
      "42/42 [==============================] - 0s 4ms/step - loss: 0.2051 - accuracy: 0.9423\n",
      "Epoch 71/100\n",
      "42/42 [==============================] - 0s 4ms/step - loss: 0.2040 - accuracy: 0.9231\n",
      "Epoch 72/100\n",
      "42/42 [==============================] - 0s 4ms/step - loss: 0.1975 - accuracy: 0.9519\n",
      "Epoch 73/100\n",
      "42/42 [==============================] - 0s 5ms/step - loss: 0.2030 - accuracy: 0.9231\n",
      "Epoch 74/100\n",
      "42/42 [==============================] - 0s 5ms/step - loss: 0.1983 - accuracy: 0.9135\n",
      "Epoch 75/100\n",
      "42/42 [==============================] - 0s 4ms/step - loss: 0.1877 - accuracy: 0.9375\n",
      "Epoch 76/100\n",
      "42/42 [==============================] - 0s 4ms/step - loss: 0.1917 - accuracy: 0.9519\n",
      "Epoch 77/100\n",
      "42/42 [==============================] - 0s 5ms/step - loss: 0.1983 - accuracy: 0.9423\n",
      "Epoch 78/100\n",
      "42/42 [==============================] - 0s 5ms/step - loss: 0.1808 - accuracy: 0.9471\n",
      "Epoch 79/100\n",
      "42/42 [==============================] - 0s 5ms/step - loss: 0.1859 - accuracy: 0.9375\n",
      "Epoch 80/100\n",
      "42/42 [==============================] - 0s 4ms/step - loss: 0.1799 - accuracy: 0.9423\n",
      "Epoch 81/100\n",
      "42/42 [==============================] - 0s 4ms/step - loss: 0.1754 - accuracy: 0.9471\n",
      "Epoch 82/100\n",
      "42/42 [==============================] - 0s 4ms/step - loss: 0.1773 - accuracy: 0.9471\n",
      "Epoch 83/100\n"
     ]
    },
    {
     "name": "stdout",
     "output_type": "stream",
     "text": [
      "42/42 [==============================] - 0s 4ms/step - loss: 0.1764 - accuracy: 0.9471\n",
      "Epoch 84/100\n",
      "42/42 [==============================] - 0s 4ms/step - loss: 0.1760 - accuracy: 0.9471\n",
      "Epoch 85/100\n",
      "42/42 [==============================] - 0s 3ms/step - loss: 0.1637 - accuracy: 0.9567\n",
      "Epoch 86/100\n",
      "42/42 [==============================] - 0s 3ms/step - loss: 0.1652 - accuracy: 0.9567\n",
      "Epoch 87/100\n",
      "42/42 [==============================] - 0s 3ms/step - loss: 0.1642 - accuracy: 0.9567\n",
      "Epoch 88/100\n",
      "42/42 [==============================] - 0s 3ms/step - loss: 0.1657 - accuracy: 0.9519\n",
      "Epoch 89/100\n",
      "42/42 [==============================] - 0s 3ms/step - loss: 0.1589 - accuracy: 0.9519\n",
      "Epoch 90/100\n",
      "42/42 [==============================] - 0s 3ms/step - loss: 0.1596 - accuracy: 0.9519\n",
      "Epoch 91/100\n",
      "42/42 [==============================] - 0s 3ms/step - loss: 0.1556 - accuracy: 0.9663\n",
      "Epoch 92/100\n",
      "42/42 [==============================] - 0s 3ms/step - loss: 0.1555 - accuracy: 0.9663\n",
      "Epoch 93/100\n",
      "42/42 [==============================] - 0s 4ms/step - loss: 0.1542 - accuracy: 0.9519\n",
      "Epoch 94/100\n",
      "42/42 [==============================] - 0s 4ms/step - loss: 0.1474 - accuracy: 0.9663\n",
      "Epoch 95/100\n",
      "42/42 [==============================] - 0s 3ms/step - loss: 0.1501 - accuracy: 0.9471\n",
      "Epoch 96/100\n",
      "42/42 [==============================] - 0s 3ms/step - loss: 0.1446 - accuracy: 0.9663\n",
      "Epoch 97/100\n",
      "42/42 [==============================] - 0s 3ms/step - loss: 0.1420 - accuracy: 0.9567\n",
      "Epoch 98/100\n",
      "42/42 [==============================] - 0s 3ms/step - loss: 0.1385 - accuracy: 0.9615\n",
      "Epoch 99/100\n",
      "42/42 [==============================] - 0s 3ms/step - loss: 0.1359 - accuracy: 0.9663\n",
      "Epoch 100/100\n",
      "42/42 [==============================] - 0s 3ms/step - loss: 0.1356 - accuracy: 0.9712\n"
     ]
    },
    {
     "data": {
      "text/plain": [
       "<keras.callbacks.History at 0x1c7e5fcd6a0>"
      ]
     },
     "execution_count": 6,
     "metadata": {},
     "output_type": "execute_result"
    }
   ],
   "source": [
    "modelo=create_model()\n",
    "modelo.fit(X,encoded_y,epochs=100,batch_size=5)\n"
   ]
  },
  {
   "cell_type": "code",
   "execution_count": 8,
   "metadata": {},
   "outputs": [
    {
     "name": "stdout",
     "output_type": "stream",
     "text": [
      "7/7 [==============================] - 0s 4ms/step - loss: 0.1275 - accuracy: 0.9760\n",
      "acuracy: 97.60\n"
     ]
    }
   ],
   "source": [
    "_,accuracy=modelo.evaluate(X,encoded_y)\n",
    "print(\"acuracy: %.2f\"%(accuracy*100))"
   ]
  },
  {
   "cell_type": "code",
   "execution_count": 9,
   "metadata": {},
   "outputs": [
    {
     "data": {
      "text/plain": [
       "208"
      ]
     },
     "execution_count": 9,
     "metadata": {},
     "output_type": "execute_result"
    }
   ],
   "source": [
    "len(X)"
   ]
  },
  {
   "cell_type": "code",
   "execution_count": 10,
   "metadata": {},
   "outputs": [
    {
     "name": "stdout",
     "output_type": "stream",
     "text": [
      "7/7 [==============================] - 0s 3ms/step\n"
     ]
    },
    {
     "data": {
      "text/plain": [
       "208"
      ]
     },
     "execution_count": 10,
     "metadata": {},
     "output_type": "execute_result"
    }
   ],
   "source": [
    "#hacer prediccion\n",
    "prediccion=modelo.predict(X)\n",
    "len(prediccion)"
   ]
  },
  {
   "cell_type": "code",
   "execution_count": 11,
   "metadata": {},
   "outputs": [
    {
     "data": {
      "text/plain": [
       "array([[6.97255671e-01],\n",
       "       [9.19836879e-01],\n",
       "       [8.79068196e-01],\n",
       "       [9.59894657e-01],\n",
       "       [9.18854773e-01],\n",
       "       [9.70962048e-01],\n",
       "       [9.29333687e-01],\n",
       "       [5.52648783e-01],\n",
       "       [6.99267805e-01],\n",
       "       [6.82345629e-01],\n",
       "       [9.95006025e-01],\n",
       "       [9.79740739e-01],\n",
       "       [6.30295515e-01],\n",
       "       [9.84879375e-01],\n",
       "       [8.75589907e-01],\n",
       "       [9.98075008e-01],\n",
       "       [8.68827462e-01],\n",
       "       [6.89499736e-01],\n",
       "       [9.99684453e-01],\n",
       "       [5.36350906e-01],\n",
       "       [8.00196052e-01],\n",
       "       [9.44913328e-01],\n",
       "       [8.92557144e-01],\n",
       "       [9.94810343e-01],\n",
       "       [9.99621987e-01],\n",
       "       [9.74977136e-01],\n",
       "       [3.91198605e-01],\n",
       "       [8.87586534e-01],\n",
       "       [7.39801109e-01],\n",
       "       [8.00859332e-01],\n",
       "       [9.80351686e-01],\n",
       "       [9.78980780e-01],\n",
       "       [9.92401302e-01],\n",
       "       [6.61615133e-01],\n",
       "       [9.58482385e-01],\n",
       "       [7.74393260e-01],\n",
       "       [9.96969342e-01],\n",
       "       [9.92246985e-01],\n",
       "       [9.94731486e-01],\n",
       "       [9.97655332e-01],\n",
       "       [9.93079305e-01],\n",
       "       [9.99846101e-01],\n",
       "       [9.99906063e-01],\n",
       "       [9.99825358e-01],\n",
       "       [8.21195364e-01],\n",
       "       [9.35205638e-01],\n",
       "       [8.60600233e-01],\n",
       "       [7.53000021e-01],\n",
       "       [8.29645216e-01],\n",
       "       [8.31094086e-01],\n",
       "       [9.98190343e-01],\n",
       "       [9.99657094e-01],\n",
       "       [9.14361835e-01],\n",
       "       [9.53176677e-01],\n",
       "       [8.22674155e-01],\n",
       "       [7.82421947e-01],\n",
       "       [5.89021444e-01],\n",
       "       [9.97788012e-01],\n",
       "       [9.98060882e-01],\n",
       "       [9.98287857e-01],\n",
       "       [9.96442914e-01],\n",
       "       [9.96244490e-01],\n",
       "       [9.99120712e-01],\n",
       "       [9.94064152e-01],\n",
       "       [9.97934699e-01],\n",
       "       [9.98577297e-01],\n",
       "       [9.98615265e-01],\n",
       "       [9.96401846e-01],\n",
       "       [8.84943962e-01],\n",
       "       [9.87526417e-01],\n",
       "       [9.28673148e-01],\n",
       "       [9.62678671e-01],\n",
       "       [9.30070937e-01],\n",
       "       [7.04347253e-01],\n",
       "       [9.97362435e-01],\n",
       "       [9.90486860e-01],\n",
       "       [9.89801168e-01],\n",
       "       [9.63465095e-01],\n",
       "       [9.56417263e-01],\n",
       "       [9.17369545e-01],\n",
       "       [8.17120910e-01],\n",
       "       [7.59443521e-01],\n",
       "       [8.26120973e-01],\n",
       "       [8.39505851e-01],\n",
       "       [6.15852237e-01],\n",
       "       [9.63445008e-01],\n",
       "       [9.89412725e-01],\n",
       "       [9.74901080e-01],\n",
       "       [9.60306942e-01],\n",
       "       [9.84439492e-01],\n",
       "       [9.99058366e-01],\n",
       "       [9.98840749e-01],\n",
       "       [8.81587386e-01],\n",
       "       [8.88476968e-01],\n",
       "       [9.15248692e-01],\n",
       "       [9.98503268e-01],\n",
       "       [9.63679075e-01],\n",
       "       [7.01941431e-01],\n",
       "       [1.34791136e-02],\n",
       "       [5.92213750e-01],\n",
       "       [3.18298936e-02],\n",
       "       [2.41421685e-01],\n",
       "       [2.48545185e-02],\n",
       "       [6.24986365e-02],\n",
       "       [4.83018868e-02],\n",
       "       [7.47651011e-02],\n",
       "       [2.37784475e-01],\n",
       "       [3.66178870e-01],\n",
       "       [1.12149179e-01],\n",
       "       [4.32063252e-01],\n",
       "       [1.18307084e-01],\n",
       "       [2.78649013e-02],\n",
       "       [8.09130594e-02],\n",
       "       [1.44239083e-01],\n",
       "       [1.41582042e-01],\n",
       "       [1.24492668e-01],\n",
       "       [1.22376904e-01],\n",
       "       [2.49863975e-02],\n",
       "       [2.76303351e-01],\n",
       "       [6.14834018e-02],\n",
       "       [3.20658386e-01],\n",
       "       [8.88437554e-02],\n",
       "       [1.05240881e-01],\n",
       "       [2.74683416e-01],\n",
       "       [6.70683235e-02],\n",
       "       [3.01056415e-01],\n",
       "       [1.42462716e-01],\n",
       "       [1.26750246e-01],\n",
       "       [7.64966160e-02],\n",
       "       [1.22020794e-02],\n",
       "       [1.70806814e-02],\n",
       "       [1.07410382e-02],\n",
       "       [2.24649217e-02],\n",
       "       [2.91770534e-03],\n",
       "       [4.85233366e-02],\n",
       "       [2.68413536e-02],\n",
       "       [3.34550883e-03],\n",
       "       [4.15731128e-03],\n",
       "       [1.88803840e-02],\n",
       "       [6.05744310e-02],\n",
       "       [2.22850847e-03],\n",
       "       [5.46290027e-03],\n",
       "       [7.37465511e-04],\n",
       "       [1.68136193e-03],\n",
       "       [2.34652683e-02],\n",
       "       [6.66503459e-02],\n",
       "       [5.88150870e-04],\n",
       "       [6.97631796e-04],\n",
       "       [5.29967286e-02],\n",
       "       [5.49064390e-02],\n",
       "       [3.10748309e-01],\n",
       "       [1.84106246e-01],\n",
       "       [9.94607285e-02],\n",
       "       [2.18942985e-01],\n",
       "       [2.55999953e-01],\n",
       "       [3.29996586e-01],\n",
       "       [5.33421617e-03],\n",
       "       [1.91608295e-02],\n",
       "       [2.76540499e-02],\n",
       "       [1.25145480e-01],\n",
       "       [1.32129649e-02],\n",
       "       [4.25962033e-03],\n",
       "       [4.03552838e-02],\n",
       "       [3.33402306e-01],\n",
       "       [3.06559391e-02],\n",
       "       [5.26103795e-01],\n",
       "       [7.83589762e-03],\n",
       "       [1.67156547e-01],\n",
       "       [4.18505847e-01],\n",
       "       [3.02405834e-01],\n",
       "       [2.86481023e-01],\n",
       "       [7.92491529e-03],\n",
       "       [1.12134963e-01],\n",
       "       [1.07656613e-01],\n",
       "       [1.68967026e-03],\n",
       "       [2.94429203e-03],\n",
       "       [5.52575989e-03],\n",
       "       [4.26483452e-01],\n",
       "       [7.16537356e-01],\n",
       "       [9.26829055e-02],\n",
       "       [1.59959207e-04],\n",
       "       [3.15359037e-04],\n",
       "       [5.37761138e-04],\n",
       "       [4.50875261e-04],\n",
       "       [2.67399184e-04],\n",
       "       [2.55224848e-04],\n",
       "       [1.19217148e-04],\n",
       "       [2.77383695e-03],\n",
       "       [2.31481660e-02],\n",
       "       [6.30354360e-02],\n",
       "       [8.76939222e-02],\n",
       "       [1.04115814e-01],\n",
       "       [3.05197146e-02],\n",
       "       [1.72981277e-01],\n",
       "       [3.51743512e-02],\n",
       "       [2.70178774e-03],\n",
       "       [2.82217539e-03],\n",
       "       [1.55295860e-02],\n",
       "       [4.35136771e-03],\n",
       "       [2.41932366e-02],\n",
       "       [1.56134483e-03],\n",
       "       [2.68424768e-03],\n",
       "       [3.57498042e-03],\n",
       "       [5.05921105e-03],\n",
       "       [1.87905002e-02],\n",
       "       [5.72713539e-02],\n",
       "       [1.41259860e-02],\n",
       "       [1.17513001e-01]], dtype=float32)"
      ]
     },
     "execution_count": 11,
     "metadata": {},
     "output_type": "execute_result"
    }
   ],
   "source": [
    "prediccion"
   ]
  },
  {
   "cell_type": "markdown",
   "metadata": {},
   "source": [
    "Ahora es el momento de evaluar este modelo. Pasamos el número de épocas de entrenamiento al `KerasClassifier` y realizarmos una validación cruzada de 10-fold."
   ]
  },
  {
   "cell_type": "code",
   "execution_count": 12,
   "metadata": {},
   "outputs": [
    {
     "name": "stderr",
     "output_type": "stream",
     "text": [
      "C:\\Users\\56965\\AppData\\Roaming\\Python\\Python39\\site-packages\\scikeras\\wrappers.py:301: UserWarning: ``build_fn`` will be renamed to ``model`` in a future release, at which point use of ``build_fn`` will raise an Error instead.\n",
      "  warnings.warn(\n",
      "C:\\Users\\56965\\AppData\\Roaming\\Python\\Python39\\site-packages\\scikeras\\wrappers.py:301: UserWarning: ``build_fn`` will be renamed to ``model`` in a future release, at which point use of ``build_fn`` will raise an Error instead.\n",
      "  warnings.warn(\n",
      "C:\\Users\\56965\\AppData\\Roaming\\Python\\Python39\\site-packages\\scikeras\\wrappers.py:301: UserWarning: ``build_fn`` will be renamed to ``model`` in a future release, at which point use of ``build_fn`` will raise an Error instead.\n",
      "  warnings.warn(\n",
      "C:\\Users\\56965\\AppData\\Roaming\\Python\\Python39\\site-packages\\scikeras\\wrappers.py:301: UserWarning: ``build_fn`` will be renamed to ``model`` in a future release, at which point use of ``build_fn`` will raise an Error instead.\n",
      "  warnings.warn(\n",
      "C:\\Users\\56965\\AppData\\Roaming\\Python\\Python39\\site-packages\\scikeras\\wrappers.py:301: UserWarning: ``build_fn`` will be renamed to ``model`` in a future release, at which point use of ``build_fn`` will raise an Error instead.\n",
      "  warnings.warn(\n",
      "C:\\Users\\56965\\AppData\\Roaming\\Python\\Python39\\site-packages\\scikeras\\wrappers.py:301: UserWarning: ``build_fn`` will be renamed to ``model`` in a future release, at which point use of ``build_fn`` will raise an Error instead.\n",
      "  warnings.warn(\n",
      "C:\\Users\\56965\\AppData\\Roaming\\Python\\Python39\\site-packages\\scikeras\\wrappers.py:301: UserWarning: ``build_fn`` will be renamed to ``model`` in a future release, at which point use of ``build_fn`` will raise an Error instead.\n",
      "  warnings.warn(\n",
      "C:\\Users\\56965\\AppData\\Roaming\\Python\\Python39\\site-packages\\scikeras\\wrappers.py:301: UserWarning: ``build_fn`` will be renamed to ``model`` in a future release, at which point use of ``build_fn`` will raise an Error instead.\n",
      "  warnings.warn(\n",
      "C:\\Users\\56965\\AppData\\Roaming\\Python\\Python39\\site-packages\\scikeras\\wrappers.py:301: UserWarning: ``build_fn`` will be renamed to ``model`` in a future release, at which point use of ``build_fn`` will raise an Error instead.\n",
      "  warnings.warn(\n",
      "C:\\Users\\56965\\AppData\\Roaming\\Python\\Python39\\site-packages\\scikeras\\wrappers.py:301: UserWarning: ``build_fn`` will be renamed to ``model`` in a future release, at which point use of ``build_fn`` will raise an Error instead.\n",
      "  warnings.warn(\n"
     ]
    },
    {
     "name": "stdout",
     "output_type": "stream",
     "text": [
      "Accuracy: 82.19 y desvacion 8.60\n"
     ]
    }
   ],
   "source": [
    "estimator=KerasClassifier(build_fn=create_model,epochs=100,batch_size=5,verbose=0)\n",
    "\n",
    "kfold=StratifiedKFold(n_splits=10,shuffle=True)\n",
    "result=cross_val_score(estimator,X,encoded_y,cv=kfold)\n",
    "print(f\"Accuracy: {float(result.mean())*100:.2f} y desvacion {float(result.std())*100:.2f}\")"
   ]
  },
  {
   "cell_type": "markdown",
   "metadata": {},
   "source": [
    "<a id=\"section2\"></a>\n",
    "# <font color=\"#004D7F\" size=6>2. Optimizar el rendimiento con procesamiento de datos</font>"
   ]
  },
  {
   "cell_type": "markdown",
   "metadata": {},
   "source": [
    "La **estandarización** preserva las distribuciones gaussianas mientras normaliza las tendencias centrales para cada atributo. Para ello utilizamos `StandardScaler` de scikit-learn. \n",
    "\n",
    "Es una buena práctica entrenar el procedimiento de estandarización en los datos de entrenamiento dentro de una ejecución de validación cruzada y usar la instancia de estandarización entrenada para preparar el fold de validación no etiquetada. Podemos lograr esto en scikit-learn usando una clase `Pipeline`. \n"
   ]
  },
  {
   "cell_type": "code",
   "execution_count": 13,
   "metadata": {},
   "outputs": [
    {
     "name": "stderr",
     "output_type": "stream",
     "text": [
      "C:\\Users\\56965\\AppData\\Roaming\\Python\\Python39\\site-packages\\scikeras\\wrappers.py:301: UserWarning: ``build_fn`` will be renamed to ``model`` in a future release, at which point use of ``build_fn`` will raise an Error instead.\n",
      "  warnings.warn(\n",
      "C:\\Users\\56965\\AppData\\Roaming\\Python\\Python39\\site-packages\\scikeras\\wrappers.py:301: UserWarning: ``build_fn`` will be renamed to ``model`` in a future release, at which point use of ``build_fn`` will raise an Error instead.\n",
      "  warnings.warn(\n",
      "C:\\Users\\56965\\AppData\\Roaming\\Python\\Python39\\site-packages\\scikeras\\wrappers.py:301: UserWarning: ``build_fn`` will be renamed to ``model`` in a future release, at which point use of ``build_fn`` will raise an Error instead.\n",
      "  warnings.warn(\n",
      "C:\\Users\\56965\\AppData\\Roaming\\Python\\Python39\\site-packages\\scikeras\\wrappers.py:301: UserWarning: ``build_fn`` will be renamed to ``model`` in a future release, at which point use of ``build_fn`` will raise an Error instead.\n",
      "  warnings.warn(\n",
      "C:\\Users\\56965\\AppData\\Roaming\\Python\\Python39\\site-packages\\scikeras\\wrappers.py:301: UserWarning: ``build_fn`` will be renamed to ``model`` in a future release, at which point use of ``build_fn`` will raise an Error instead.\n",
      "  warnings.warn(\n",
      "C:\\Users\\56965\\AppData\\Roaming\\Python\\Python39\\site-packages\\scikeras\\wrappers.py:301: UserWarning: ``build_fn`` will be renamed to ``model`` in a future release, at which point use of ``build_fn`` will raise an Error instead.\n",
      "  warnings.warn(\n",
      "C:\\Users\\56965\\AppData\\Roaming\\Python\\Python39\\site-packages\\scikeras\\wrappers.py:301: UserWarning: ``build_fn`` will be renamed to ``model`` in a future release, at which point use of ``build_fn`` will raise an Error instead.\n",
      "  warnings.warn(\n",
      "C:\\Users\\56965\\AppData\\Roaming\\Python\\Python39\\site-packages\\scikeras\\wrappers.py:301: UserWarning: ``build_fn`` will be renamed to ``model`` in a future release, at which point use of ``build_fn`` will raise an Error instead.\n",
      "  warnings.warn(\n",
      "C:\\Users\\56965\\AppData\\Roaming\\Python\\Python39\\site-packages\\scikeras\\wrappers.py:301: UserWarning: ``build_fn`` will be renamed to ``model`` in a future release, at which point use of ``build_fn`` will raise an Error instead.\n",
      "  warnings.warn(\n",
      "C:\\Users\\56965\\AppData\\Roaming\\Python\\Python39\\site-packages\\scikeras\\wrappers.py:301: UserWarning: ``build_fn`` will be renamed to ``model`` in a future release, at which point use of ``build_fn`` will raise an Error instead.\n",
      "  warnings.warn(\n"
     ]
    },
    {
     "name": "stdout",
     "output_type": "stream",
     "text": [
      "Accuracy: 85.57 y desvacion 3.70\n"
     ]
    }
   ],
   "source": [
    "# Binary Classification with Sonar Dataset: Standardized\n",
    "from sklearn.preprocessing import StandardScaler\n",
    "from sklearn.pipeline import Pipeline\n",
    "\n",
    "# evaluate baseline model with standardized dataset\n",
    "estimators=[]\n",
    "estimators.append((\"standarize\",StandardScaler()))\n",
    "estimators.append((\"mlp\",KerasClassifier(build_fn=create_model,epochs=100,batch_size=5,verbose=0)))\n",
    "pipeline=Pipeline(estimators)\n",
    "kfold=StratifiedKFold(n_splits=10,shuffle=True)\n",
    "result=cross_val_score(pipeline,X,encoded_y,cv=kfold)\n",
    "print(f\"Accuracy: {float(result.mean())*100:.2f} y desvacion {float(result.std())*100:.2f}\")"
   ]
  },
  {
   "cell_type": "code",
   "execution_count": null,
   "metadata": {},
   "outputs": [],
   "source": [
    "estimators"
   ]
  },
  {
   "cell_type": "markdown",
   "metadata": {},
   "source": [
    "<a id=\"section3\"></a>\n",
    "# <font color=\"#004D7F\" size=6>3. Ajuste de capas y neuronas</font>"
   ]
  },
  {
   "cell_type": "markdown",
   "metadata": {},
   "source": [
    "En esta sección echamos un vistazo a dos experimentos sobre la estructura de la red: hacerla más pequeña y hacerla más grande."
   ]
  },
  {
   "cell_type": "markdown",
   "metadata": {},
   "source": [
    "<a id=\"section3.1\"></a>\n",
    "# <font color=\"#004D7F\" size=5>3.1. Evaluar una topología más pequeña</font>"
   ]
  },
  {
   "cell_type": "markdown",
   "metadata": {},
   "source": [
    "Podemos forzar un tipo de extracción de características por parte de la red restringiendo el espacio de representación en la primera capa oculta.\n",
    "\n",
    "En este experimento, tomamos nuestro modelo de línea base con 60 neuronas en la capa oculta y lo reducimos a la mitad a 30. "
   ]
  },
  {
   "cell_type": "code",
   "execution_count": 14,
   "metadata": {},
   "outputs": [
    {
     "name": "stderr",
     "output_type": "stream",
     "text": [
      "C:\\Users\\56965\\AppData\\Roaming\\Python\\Python39\\site-packages\\scikeras\\wrappers.py:301: UserWarning: ``build_fn`` will be renamed to ``model`` in a future release, at which point use of ``build_fn`` will raise an Error instead.\n",
      "  warnings.warn(\n",
      "C:\\Users\\56965\\AppData\\Roaming\\Python\\Python39\\site-packages\\scikeras\\wrappers.py:301: UserWarning: ``build_fn`` will be renamed to ``model`` in a future release, at which point use of ``build_fn`` will raise an Error instead.\n",
      "  warnings.warn(\n",
      "C:\\Users\\56965\\AppData\\Roaming\\Python\\Python39\\site-packages\\scikeras\\wrappers.py:301: UserWarning: ``build_fn`` will be renamed to ``model`` in a future release, at which point use of ``build_fn`` will raise an Error instead.\n",
      "  warnings.warn(\n",
      "C:\\Users\\56965\\AppData\\Roaming\\Python\\Python39\\site-packages\\scikeras\\wrappers.py:301: UserWarning: ``build_fn`` will be renamed to ``model`` in a future release, at which point use of ``build_fn`` will raise an Error instead.\n",
      "  warnings.warn(\n",
      "C:\\Users\\56965\\AppData\\Roaming\\Python\\Python39\\site-packages\\scikeras\\wrappers.py:301: UserWarning: ``build_fn`` will be renamed to ``model`` in a future release, at which point use of ``build_fn`` will raise an Error instead.\n",
      "  warnings.warn(\n",
      "C:\\Users\\56965\\AppData\\Roaming\\Python\\Python39\\site-packages\\scikeras\\wrappers.py:301: UserWarning: ``build_fn`` will be renamed to ``model`` in a future release, at which point use of ``build_fn`` will raise an Error instead.\n",
      "  warnings.warn(\n",
      "C:\\Users\\56965\\AppData\\Roaming\\Python\\Python39\\site-packages\\scikeras\\wrappers.py:301: UserWarning: ``build_fn`` will be renamed to ``model`` in a future release, at which point use of ``build_fn`` will raise an Error instead.\n",
      "  warnings.warn(\n",
      "C:\\Users\\56965\\AppData\\Roaming\\Python\\Python39\\site-packages\\scikeras\\wrappers.py:301: UserWarning: ``build_fn`` will be renamed to ``model`` in a future release, at which point use of ``build_fn`` will raise an Error instead.\n",
      "  warnings.warn(\n",
      "C:\\Users\\56965\\AppData\\Roaming\\Python\\Python39\\site-packages\\scikeras\\wrappers.py:301: UserWarning: ``build_fn`` will be renamed to ``model`` in a future release, at which point use of ``build_fn`` will raise an Error instead.\n",
      "  warnings.warn(\n",
      "C:\\Users\\56965\\AppData\\Roaming\\Python\\Python39\\site-packages\\scikeras\\wrappers.py:301: UserWarning: ``build_fn`` will be renamed to ``model`` in a future release, at which point use of ``build_fn`` will raise an Error instead.\n",
      "  warnings.warn(\n"
     ]
    },
    {
     "name": "stdout",
     "output_type": "stream",
     "text": [
      "Accuracy: 85.62 y desvacion 9.71\n"
     ]
    }
   ],
   "source": [
    "def create_smaller():\n",
    "    model=Sequential()\n",
    "    model.add(Dense(30,input_dim=60,activation=\"relu\"))\n",
    "    model.add(Dense(1,activation=\"sigmoid\"))\n",
    "    model.compile(loss=\"binary_crossentropy\",optimizer=\"adam\",metrics=[\"accuracy\"])\n",
    "    return model\n",
    "\n",
    "## Results\n",
    "\n",
    "# evaluate baseline model with standardized dataset\n",
    "estimators=[]\n",
    "estimators.append((\"standarize\",StandardScaler()))\n",
    "estimators.append((\"mlp\",KerasClassifier(build_fn=create_smaller,epochs=100,batch_size=5,verbose=0)))\n",
    "\n",
    "pipeline=Pipeline(estimators)\n",
    "kfold=StratifiedKFold(n_splits=10,shuffle=True)\n",
    "result=cross_val_score(pipeline,X,encoded_y,cv=kfold)\n",
    "print(f\"Accuracy: {float(result.mean())*100:.2f} y desvacion {float(result.std())*100:.2f}\")"
   ]
  },
  {
   "cell_type": "markdown",
   "metadata": {},
   "source": [
    "<a id=\"section3.2\"></a>\n",
    "# <font color=\"#004D7F\" size=5>3.2. Evaluar una topología más grande</font>"
   ]
  },
  {
   "cell_type": "markdown",
   "metadata": {},
   "source": [
    "Una topología de red neuronal con más capas ofrece más oportunidades para que la red extraiga características clave y las recombine de formas útiles no lineales. Nuestra red ahora tiene la topología:\n",
    "```\n",
    "    60 inputs -> [60 -> 30] -> 1 output\n",
    "``` "
   ]
  },
  {
   "cell_type": "code",
   "execution_count": 15,
   "metadata": {},
   "outputs": [
    {
     "name": "stderr",
     "output_type": "stream",
     "text": [
      "C:\\Users\\56965\\AppData\\Roaming\\Python\\Python39\\site-packages\\scikeras\\wrappers.py:301: UserWarning: ``build_fn`` will be renamed to ``model`` in a future release, at which point use of ``build_fn`` will raise an Error instead.\n",
      "  warnings.warn(\n",
      "C:\\Users\\56965\\AppData\\Roaming\\Python\\Python39\\site-packages\\scikeras\\wrappers.py:301: UserWarning: ``build_fn`` will be renamed to ``model`` in a future release, at which point use of ``build_fn`` will raise an Error instead.\n",
      "  warnings.warn(\n",
      "C:\\Users\\56965\\AppData\\Roaming\\Python\\Python39\\site-packages\\scikeras\\wrappers.py:301: UserWarning: ``build_fn`` will be renamed to ``model`` in a future release, at which point use of ``build_fn`` will raise an Error instead.\n",
      "  warnings.warn(\n",
      "C:\\Users\\56965\\AppData\\Roaming\\Python\\Python39\\site-packages\\scikeras\\wrappers.py:301: UserWarning: ``build_fn`` will be renamed to ``model`` in a future release, at which point use of ``build_fn`` will raise an Error instead.\n",
      "  warnings.warn(\n",
      "C:\\Users\\56965\\AppData\\Roaming\\Python\\Python39\\site-packages\\scikeras\\wrappers.py:301: UserWarning: ``build_fn`` will be renamed to ``model`` in a future release, at which point use of ``build_fn`` will raise an Error instead.\n",
      "  warnings.warn(\n",
      "C:\\Users\\56965\\AppData\\Roaming\\Python\\Python39\\site-packages\\scikeras\\wrappers.py:301: UserWarning: ``build_fn`` will be renamed to ``model`` in a future release, at which point use of ``build_fn`` will raise an Error instead.\n",
      "  warnings.warn(\n",
      "C:\\Users\\56965\\AppData\\Roaming\\Python\\Python39\\site-packages\\scikeras\\wrappers.py:301: UserWarning: ``build_fn`` will be renamed to ``model`` in a future release, at which point use of ``build_fn`` will raise an Error instead.\n",
      "  warnings.warn(\n",
      "C:\\Users\\56965\\AppData\\Roaming\\Python\\Python39\\site-packages\\scikeras\\wrappers.py:301: UserWarning: ``build_fn`` will be renamed to ``model`` in a future release, at which point use of ``build_fn`` will raise an Error instead.\n",
      "  warnings.warn(\n",
      "C:\\Users\\56965\\AppData\\Roaming\\Python\\Python39\\site-packages\\scikeras\\wrappers.py:301: UserWarning: ``build_fn`` will be renamed to ``model`` in a future release, at which point use of ``build_fn`` will raise an Error instead.\n",
      "  warnings.warn(\n",
      "C:\\Users\\56965\\AppData\\Roaming\\Python\\Python39\\site-packages\\scikeras\\wrappers.py:301: UserWarning: ``build_fn`` will be renamed to ``model`` in a future release, at which point use of ``build_fn`` will raise an Error instead.\n",
      "  warnings.warn(\n"
     ]
    },
    {
     "name": "stdout",
     "output_type": "stream",
     "text": [
      "Accuracy: 85.14 y desvacion 8.31\n"
     ]
    }
   ],
   "source": [
    "# larger model\n",
    "def create_larger():\n",
    "    model=Sequential()\n",
    "    model.add(Dense(60,input_dim=60,activation=\"relu\"))\n",
    "    model.add(Dense(30,activation=\"relu\"))\n",
    "    model.add(Dense(1,activation=\"sigmoid\"))\n",
    "    model.compile(loss=\"binary_crossentropy\",optimizer=\"adam\",metrics=[\"accuracy\"])\n",
    "    return model\n",
    "\n",
    "## Results\n",
    "# evaluate baseline model with standardized dataset\n",
    "estimators=[]\n",
    "estimators.append((\"standarize\",StandardScaler()))\n",
    "estimators.append((\"mlp\",KerasClassifier(build_fn=create_larger,epochs=100,batch_size=5,verbose=0)))\n",
    "\n",
    "pipeline=Pipeline(estimators)\n",
    "kfold=StratifiedKFold(n_splits=10,shuffle=True)\n",
    "result=cross_val_score(pipeline,X,encoded_y,cv=kfold)\n",
    "print(f\"Accuracy: {float(result.mean())*100:.2f} y desvacion {float(result.std())*100:.2f}\")"
   ]
  },
  {
   "cell_type": "markdown",
   "metadata": {},
   "source": [
    "<a id=\"section3.3\"></a>\n",
    "# <font color=\"#004D7F\" size=5>3.3. Trabajo a realizar</font>"
   ]
  },
  {
   "cell_type": "markdown",
   "metadata": {},
   "source": [
    "Con un mayor ajuste de aspectos como el algoritmo de optimización y el número de épocas de entrenamiento, se espera que sean posibles más mejoras. ¿Cuál es la mejor puntuación que puede lograr en este conjunto de datos?"
   ]
  },
  {
   "cell_type": "code",
   "execution_count": null,
   "metadata": {},
   "outputs": [],
   "source": [
    "from sklearn.model_selection import GridSearchCV\n",
    "\n",
    "def create_model2(optimizer=\"rmsprop\",init=\"glorot_uniform\"):\n",
    "    model=Sequential()\n",
    "    model.add(Dense(60,input_dim=60,kernel_initializer=init,activation=\"relu\"))\n",
    "    model.add(Dense(1,activation=\"sigmoid\"))\n",
    "    model.compile(loss=\"binary_crossentropy\",optimizer=optimizer,metrics=[\"accuracy\"])\n",
    "    return model\n",
    "\n",
    "model=KerasClassifier(build_fn=create_model2)\n",
    "\n",
    "# grid search epochs, batch size and optimizer\n",
    "optimizers=[\"adam\",\"rmsprop\"]\n",
    "epochs=[50,100,150]\n",
    "batches=[5,10]\n",
    "\n",
    "param_grid=dict(optimizer=optimizers,epochs=epochs,batch_size=batches)\n",
    "\n",
    "grid=GridSearchCV(estimator=model,param_grid=param_grid,cv=3)\n",
    "grid_result=grid.fit(X,encoded_y)\n",
    "\n",
    "# summarize results\n",
    "print(f\"mejor: {grid_result.best_score_} usando: {grid_result.best_params_}\")\n",
    "\n",
    "means=grid_result.cv_results_[\"mean_test_score\"]\n",
    "stds=grid_result.cv_results_[\"std_test_score\"]\n",
    "params=grid_result.cv_results_[\"params\"]\n",
    "\n",
    "for m,s,p in zip(means,stds,params):\n",
    "    print(f\"media: {m}, desviacion: {s} y parametros: {p}\")"
   ]
  }
 ],
 "metadata": {
  "kernelspec": {
   "display_name": "Python 3 (ipykernel)",
   "language": "python",
   "name": "python3"
  },
  "language_info": {
   "codemirror_mode": {
    "name": "ipython",
    "version": 3
   },
   "file_extension": ".py",
   "mimetype": "text/x-python",
   "name": "python",
   "nbconvert_exporter": "python",
   "pygments_lexer": "ipython3",
   "version": "3.9.12"
  }
 },
 "nbformat": 4,
 "nbformat_minor": 2
}
