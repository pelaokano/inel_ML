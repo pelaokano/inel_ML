{
 "cells": [
  {
   "cell_type": "markdown",
   "metadata": {},
   "source": [
    "<h1><font color=\"#113D68\" size=6>Deep Learning con Python y Keras</font></h1>\n",
    "\n",
    "<h1><font color=\"#113D68\" size=5>Multilayer Perceptron</font></h1>\n",
    "\n",
    "<h1><font color=\"#113D68\" size=4>Desarrollar una red neuronal</font></h1>"
   ]
  },
  {
   "cell_type": "markdown",
   "metadata": {},
   "source": [
    "<a id=\"section1\"></a>\n",
    "# <font color=\"#004D7F\" size=6>1. Conjunto de datos</font>"
   ]
  },
  {
   "cell_type": "markdown",
   "metadata": {},
   "source": [
    "En este tutorial vamos a utilizar el conjunto de datos Pima Indians Diabetes. Describe los datos de los registros médicos de los pacientes y si tuvieron una aparición de diabetes dentro de los cinco años. Es un problema de clasificación binaria (aparición de diabetes como 1 o 0 si no aparece). Las variables de entrada que describen a cada paciente son numéricas y tienen escalas variables.\n",
    "\n",
    "Dado que todos los atributos son numéricos, es fácil de usar directamente con redes neuronales que esperan entradas y valores de salida numéricos."
   ]
  },
  {
   "cell_type": "markdown",
   "metadata": {},
   "source": [
    "<div class=\"alert alert-block alert-info\">\n",
    "    \n",
    "<i class=\"fa fa-info-circle\" aria-hidden=\"true\"></i>\n",
    "Puede descargar el Dataset desde [Kaggle](https://www.kaggle.com/uciml/pima-indians-diabetes-database)"
   ]
  },
  {
   "cell_type": "markdown",
   "metadata": {},
   "source": [
    "La precisión de la línea de base si se hacen todas las predicciones ya que no aparece la diabetes es del 65,1%. Los mejores resultados en el conjunto de datos están en el rango de 77,7% de precisión utilizando una validación cruzada de 10 veces."
   ]
  },
  {
   "cell_type": "markdown",
   "metadata": {},
   "source": [
    "<a id=\"section2\"></a>\n",
    "# <font color=\"#004D7F\" size=6>2. Cargar datos</font>"
   ]
  },
  {
   "cell_type": "markdown",
   "metadata": {},
   "source": [
    "VAmos a cargar el archivo directamente usando la función `loadtxt()` de NumPy y establecer dividir las características y target."
   ]
  },
  {
   "cell_type": "code",
   "execution_count": 1,
   "metadata": {
    "scrolled": true
   },
   "outputs": [
    {
     "data": {
      "text/plain": [
       "array([[  6., 148.,  72., ..., 627.,  50.,   1.],\n",
       "       [  1.,  85.,  66., ..., 351.,  31.,   0.],\n",
       "       [  8., 183.,  64., ..., 672.,  32.,   1.],\n",
       "       ...,\n",
       "       [  5., 121.,  72., ..., 245.,  30.,   0.],\n",
       "       [  1., 126.,  60., ..., 349.,  47.,   1.],\n",
       "       [  1.,  93.,  70., ..., 315.,  23.,   0.]])"
      ]
     },
     "execution_count": 1,
     "metadata": {},
     "output_type": "execute_result"
    }
   ],
   "source": [
    "import numpy as np\n",
    "\n",
    "dataset=np.loadtxt(\"pima-indians-diabetes.csv\",delimiter=\",\")\n",
    "dataset"
   ]
  },
  {
   "cell_type": "code",
   "execution_count": 4,
   "metadata": {},
   "outputs": [],
   "source": [
    "x=dataset[:,0:8]\n",
    "y=dataset[:,8]"
   ]
  },
  {
   "cell_type": "code",
   "execution_count": 5,
   "metadata": {},
   "outputs": [
    {
     "data": {
      "text/plain": [
       "array([[  6. , 148. ,  72. , ...,  33.6, 627. ,  50. ],\n",
       "       [  1. ,  85. ,  66. , ...,  26.6, 351. ,  31. ],\n",
       "       [  8. , 183. ,  64. , ...,  23.3, 672. ,  32. ],\n",
       "       ...,\n",
       "       [  5. , 121. ,  72. , ...,  26.2, 245. ,  30. ],\n",
       "       [  1. , 126. ,  60. , ...,  30.1, 349. ,  47. ],\n",
       "       [  1. ,  93. ,  70. , ...,  30.4, 315. ,  23. ]])"
      ]
     },
     "execution_count": 5,
     "metadata": {},
     "output_type": "execute_result"
    }
   ],
   "source": [
    "x"
   ]
  },
  {
   "cell_type": "code",
   "execution_count": 6,
   "metadata": {},
   "outputs": [
    {
     "data": {
      "text/plain": [
       "array([1., 0., 1., 0., 1., 0., 1., 0., 1., 1., 0., 1., 0., 1., 1., 1., 1.,\n",
       "       1., 0., 1., 0., 0., 1., 1., 1., 1., 1., 0., 0., 0., 0., 1., 0., 0.,\n",
       "       0., 0., 0., 1., 1., 1., 0., 0., 0., 1., 0., 1., 0., 0., 1., 0., 0.,\n",
       "       0., 0., 1., 0., 0., 1., 0., 0., 0., 0., 1., 0., 0., 1., 0., 1., 0.,\n",
       "       0., 0., 1., 0., 1., 0., 0., 0., 0., 0., 1., 0., 0., 0., 0., 0., 1.,\n",
       "       0., 0., 0., 1., 0., 0., 0., 0., 1., 0., 0., 0., 0., 0., 1., 1., 0.,\n",
       "       0., 0., 0., 0., 0., 0., 0., 1., 1., 1., 0., 0., 1., 1., 1., 0., 0.,\n",
       "       0., 1., 0., 0., 0., 1., 1., 0., 0., 1., 1., 1., 1., 1., 0., 0., 0.,\n",
       "       0., 0., 0., 0., 0., 0., 0., 1., 0., 0., 0., 0., 0., 0., 0., 0., 1.,\n",
       "       0., 1., 1., 0., 0., 0., 1., 0., 0., 0., 0., 1., 1., 0., 0., 0., 0.,\n",
       "       1., 1., 0., 0., 0., 1., 0., 1., 0., 1., 0., 0., 0., 0., 0., 1., 1.,\n",
       "       1., 1., 1., 0., 0., 1., 1., 0., 1., 0., 1., 1., 1., 0., 0., 0., 0.,\n",
       "       0., 0., 1., 1., 0., 1., 0., 0., 0., 1., 1., 1., 1., 0., 1., 1., 1.,\n",
       "       1., 0., 0., 0., 0., 0., 1., 0., 0., 1., 1., 0., 0., 0., 1., 1., 1.,\n",
       "       1., 0., 0., 0., 1., 1., 0., 1., 0., 0., 0., 0., 0., 0., 0., 0., 1.,\n",
       "       1., 0., 0., 0., 1., 0., 1., 0., 0., 1., 0., 1., 0., 0., 1., 1., 0.,\n",
       "       0., 0., 0., 0., 1., 0., 0., 0., 1., 0., 0., 1., 1., 0., 0., 1., 0.,\n",
       "       0., 0., 1., 1., 1., 0., 0., 1., 0., 1., 0., 1., 1., 0., 1., 0., 0.,\n",
       "       1., 0., 1., 1., 0., 0., 1., 0., 1., 0., 0., 1., 0., 1., 0., 1., 1.,\n",
       "       1., 0., 0., 1., 0., 1., 0., 0., 0., 1., 0., 0., 0., 0., 1., 1., 1.,\n",
       "       0., 0., 0., 0., 0., 0., 0., 0., 0., 1., 0., 0., 0., 0., 0., 1., 1.,\n",
       "       1., 0., 1., 1., 0., 0., 1., 0., 0., 1., 0., 0., 1., 1., 0., 0., 0.,\n",
       "       0., 1., 0., 0., 1., 0., 0., 0., 0., 0., 0., 0., 1., 1., 1., 0., 0.,\n",
       "       1., 0., 0., 1., 0., 0., 1., 0., 1., 1., 0., 1., 0., 1., 0., 1., 0.,\n",
       "       1., 1., 0., 0., 0., 0., 1., 1., 0., 1., 0., 1., 0., 0., 0., 0., 1.,\n",
       "       1., 0., 1., 0., 1., 0., 0., 0., 0., 0., 1., 0., 0., 0., 0., 1., 0.,\n",
       "       0., 1., 1., 1., 0., 0., 1., 0., 0., 1., 0., 0., 0., 1., 0., 0., 1.,\n",
       "       0., 0., 0., 0., 0., 0., 0., 0., 0., 1., 0., 0., 0., 0., 0., 0., 0.,\n",
       "       1., 0., 0., 0., 1., 0., 0., 0., 1., 1., 0., 0., 0., 0., 0., 0., 0.,\n",
       "       1., 0., 0., 0., 0., 1., 0., 0., 0., 1., 0., 0., 0., 1., 0., 0., 0.,\n",
       "       1., 0., 0., 0., 0., 1., 1., 0., 0., 0., 0., 0., 0., 1., 0., 0., 0.,\n",
       "       0., 0., 0., 0., 0., 0., 0., 0., 1., 0., 0., 0., 1., 1., 1., 1., 0.,\n",
       "       0., 1., 1., 0., 0., 0., 0., 0., 0., 0., 0., 0., 0., 0., 0., 0., 1.,\n",
       "       1., 0., 0., 0., 0., 0., 0., 0., 1., 0., 0., 0., 0., 0., 0., 0., 1.,\n",
       "       0., 1., 1., 0., 0., 0., 1., 0., 1., 0., 1., 0., 1., 0., 1., 0., 0.,\n",
       "       1., 0., 0., 1., 0., 0., 0., 0., 1., 1., 0., 1., 0., 0., 0., 0., 1.,\n",
       "       1., 0., 1., 0., 0., 0., 1., 1., 0., 0., 0., 0., 0., 0., 0., 0., 0.,\n",
       "       0., 1., 0., 0., 0., 0., 1., 0., 0., 1., 0., 0., 0., 1., 0., 0., 0.,\n",
       "       1., 1., 1., 0., 0., 0., 0., 0., 0., 1., 0., 0., 0., 1., 0., 1., 1.,\n",
       "       1., 1., 0., 1., 1., 0., 0., 0., 0., 0., 0., 0., 1., 1., 0., 1., 0.,\n",
       "       0., 1., 0., 1., 0., 0., 0., 0., 0., 1., 0., 1., 0., 1., 0., 1., 1.,\n",
       "       0., 0., 0., 0., 1., 1., 0., 0., 0., 1., 0., 1., 1., 0., 0., 1., 0.,\n",
       "       0., 1., 1., 0., 0., 1., 0., 0., 1., 0., 0., 0., 0., 0., 0., 0., 1.,\n",
       "       1., 1., 0., 0., 0., 0., 0., 0., 1., 1., 0., 0., 1., 0., 0., 1., 0.,\n",
       "       1., 1., 1., 0., 0., 1., 1., 1., 0., 1., 0., 1., 0., 1., 0., 0., 0.,\n",
       "       0., 1., 0.])"
      ]
     },
     "execution_count": 6,
     "metadata": {},
     "output_type": "execute_result"
    }
   ],
   "source": [
    "y"
   ]
  },
  {
   "cell_type": "code",
   "execution_count": 7,
   "metadata": {},
   "outputs": [
    {
     "data": {
      "text/plain": [
       "(768, 8)"
      ]
     },
     "execution_count": 7,
     "metadata": {},
     "output_type": "execute_result"
    }
   ],
   "source": [
    "x.shape"
   ]
  },
  {
   "cell_type": "code",
   "execution_count": 8,
   "metadata": {},
   "outputs": [
    {
     "data": {
      "text/plain": [
       "(768,)"
      ]
     },
     "execution_count": 8,
     "metadata": {},
     "output_type": "execute_result"
    }
   ],
   "source": [
    "y.shape"
   ]
  },
  {
   "cell_type": "markdown",
   "metadata": {},
   "source": [
    "<a id=\"section3\"></a>\n",
    "# <font color=\"#004D7F\" size=6>3. Definir modelo</font>"
   ]
  },
  {
   "cell_type": "markdown",
   "metadata": {},
   "source": [
    "Los modelos en Keras se definen como una secuencia de capas. Creamos un modelo **Secuencial** y agregamos capas de una en una hasta que estemos satisfechos con nuestra topología de red. \n",
    "\n",
    "Lo primero que debe hacer bien es asegurarse de que la capa de entrada tenga el número correcto de entradas. Esto se puede especificar al crear la primera capa con el argumento `input_dim` y establecerlo en 8. \n",
    "\n",
    "Pregunta, ¿Cómo sabemos la cantidad de capas que debemos usar y sus tipos? \n",
    "\n",
    "\n",
    "En sí el procedimiento a utilizar será:\n",
    "1. Las capas completamente conectadas se definen mediante la clase `Dense`. Se puede especificar:\n",
    "    * El número de neuronas en la capa como primer argumento y \n",
    "    * Especificar la función de activación usando el parámetro `activation`.\n",
    "2. Usaremos la función de activación ReLu en las dos primeras capas y la función de activación Sigmoidea en la capa de salida. \n",
    "3. Usamos una función de activación sigmoidea en la capa de salida para garantizar que la salida de nuestra red esté entre 0 y 1. "
   ]
  },
  {
   "cell_type": "code",
   "execution_count": 9,
   "metadata": {},
   "outputs": [],
   "source": [
    "from tensorflow.keras.models import Sequential\n",
    "from tensorflow.keras.layers import Dense"
   ]
  },
  {
   "cell_type": "code",
   "execution_count": 30,
   "metadata": {},
   "outputs": [],
   "source": [
    "#modelo de la red neuronal, una capa va tras la otra, secuencial\n",
    "model=Sequential()\n",
    "#primera capa oculta, la capa de entrada no se define\n",
    "#se debe indicar el numero de neuronas de la capa oculta\n",
    "#se debe indicar el numero de neuronas de entrada 8 \n",
    "#(input_dim) en este caso\n",
    "#se debe indicar la funcion de activacion\n",
    "model.add(Dense(12,input_dim=8,activation=\"relu\"))\n",
    "#se debe indicar el numero de neuronas\n",
    "#se debe indicar la funcion de activacion\n",
    "model.add(Dense(8,activation=\"relu\"))\n",
    "#se dene indicar el numero de neuronas, como es de salida\n",
    "#y el problema es de clasificacion para dos categorias\n",
    "#entonces se utiliza una neurona de salida\n",
    "model.add(Dense(1,activation=\"sigmoid\"))\n",
    "\n",
    "#se usa la funcion relu de activacion para las capas ocultas\n",
    "#se usa la funcion sigmoid para clasificacion y en la capa de\n",
    "#salida"
   ]
  },
  {
   "cell_type": "markdown",
   "metadata": {},
   "source": [
    "<a id=\"section4\"></a>\n",
    "# <font color=\"#004D7F\" size=6>4. Compilar modelo</font>"
   ]
  },
  {
   "cell_type": "markdown",
   "metadata": {},
   "source": [
    "Ahora que el modelo está definido, podemos compilarlo. \n",
    "\n",
    "Al compilar, debemos especificar algunas propiedades adicionales requeridas al entrenar la red. \n",
    "\n",
    "Debemos especificar:\n",
    "1. La función de pérdida que se utilizará para evaluar un conjunto de ponderaciones, \n",
    "2. El optimizador utilizado para buscar entre diferentes ponderaciones para la red y\n",
    "3. Cualquier métrica opcional que nos gustaría recopilar e informar durante el entrenamiento. \n",
    "    * En este caso usaremos la **pérdida logarítmica**, que para un problema de clasificación binaria se define como `binary_crossentropy`. \n",
    "4. También usaremos el algoritmo de Gradiente Descendiente `adam` \n",
    "5. Finalmente, debido a que es un problema de clasificación nuestra métrica será el Accuracy."
   ]
  },
  {
   "cell_type": "markdown",
   "metadata": {},
   "source": [
    "<div class=\"alert alert-block alert-info\">\n",
    "    \n",
    "<i class=\"fa fa-info-circle\" aria-hidden=\"true\"></i>\n",
    "Obtenga más información sobre el algoritmo de optimización de Adam en el artículo [_Adam: A Method for Stochastic Optimization_](https://arxiv.org/abs/1412.6980)"
   ]
  },
  {
   "cell_type": "code",
   "execution_count": 11,
   "metadata": {},
   "outputs": [],
   "source": [
    "#compilar modelo\n",
    "#para compilar se debe pasar la funcion de perdida\n",
    "#(loss) en este caso se usa binary_crossentropy que es\n",
    "#usada para problemas de clasificacion\n",
    "#se debe pasar el optimizador (optimizer) normalmente se \n",
    "#utiliza adam\n",
    "#y por ultimo se pasa las metricas para evaluar el modelo\n",
    "#estas se deben pasar como una lista en este caso se utiliza\n",
    "#accurracy\n",
    "model.compile(loss=\"binary_crossentropy\",optimizer=\"adam\",metrics=[\"accuracy\"])"
   ]
  },
  {
   "cell_type": "markdown",
   "metadata": {},
   "source": [
    "<a id=\"section5\"></a>\n",
    "# <font color=\"#004D7F\" size=6>5. Ajustar modelo</font>"
   ]
  },
  {
   "cell_type": "markdown",
   "metadata": {},
   "source": [
    "Hemos definido nuestro modelo y lo hemos compilado listo para un cálculo eficiente. Ahora es el momento de ejecutar el modelo en algunos datos llamando a la función `fit()`.\n",
    "* El proceso de entrenamiento se ejecutará para un número fijo de iteraciones usando el argumento `epochs`. \n",
    "* También podemos establecer el número de instancias que se evalúan antes de que se realice una actualización de peso en la red, denominada tamaño de batch, y se establece mediante el argumento `batch_size`. "
   ]
  },
  {
   "cell_type": "code",
   "execution_count": 12,
   "metadata": {
    "scrolled": true
   },
   "outputs": [
    {
     "name": "stdout",
     "output_type": "stream",
     "text": [
      "Epoch 1/200\n",
      "48/48 [==============================] - 2s 4ms/step - loss: 17.2965 - accuracy: 0.6107\n",
      "Epoch 2/200\n",
      "48/48 [==============================] - 0s 5ms/step - loss: 6.4032 - accuracy: 0.6198\n",
      "Epoch 3/200\n",
      "48/48 [==============================] - 0s 5ms/step - loss: 3.8645 - accuracy: 0.6211\n",
      "Epoch 4/200\n",
      "48/48 [==============================] - 0s 5ms/step - loss: 2.4511 - accuracy: 0.6367\n",
      "Epoch 5/200\n",
      "48/48 [==============================] - 0s 5ms/step - loss: 1.9846 - accuracy: 0.6354\n",
      "Epoch 6/200\n",
      "48/48 [==============================] - 0s 4ms/step - loss: 1.6198 - accuracy: 0.6263\n",
      "Epoch 7/200\n",
      "48/48 [==============================] - 0s 5ms/step - loss: 1.5735 - accuracy: 0.6224\n",
      "Epoch 8/200\n",
      "48/48 [==============================] - 0s 4ms/step - loss: 1.4198 - accuracy: 0.6133\n",
      "Epoch 9/200\n",
      "48/48 [==============================] - 0s 6ms/step - loss: 1.3397 - accuracy: 0.6146\n",
      "Epoch 10/200\n",
      "48/48 [==============================] - 0s 6ms/step - loss: 1.2068 - accuracy: 0.6003\n",
      "Epoch 11/200\n",
      "48/48 [==============================] - 0s 5ms/step - loss: 1.1795 - accuracy: 0.6250\n",
      "Epoch 12/200\n",
      "48/48 [==============================] - 0s 6ms/step - loss: 0.9814 - accuracy: 0.6445\n",
      "Epoch 13/200\n",
      "48/48 [==============================] - 0s 5ms/step - loss: 1.1591 - accuracy: 0.5885\n",
      "Epoch 14/200\n",
      "48/48 [==============================] - 0s 4ms/step - loss: 0.9198 - accuracy: 0.6289\n",
      "Epoch 15/200\n",
      "48/48 [==============================] - 0s 5ms/step - loss: 0.8967 - accuracy: 0.6315\n",
      "Epoch 16/200\n",
      "48/48 [==============================] - 0s 5ms/step - loss: 0.7993 - accuracy: 0.6589\n",
      "Epoch 17/200\n",
      "48/48 [==============================] - 0s 5ms/step - loss: 0.8334 - accuracy: 0.6576\n",
      "Epoch 18/200\n",
      "48/48 [==============================] - 0s 4ms/step - loss: 0.8236 - accuracy: 0.6484\n",
      "Epoch 19/200\n",
      "48/48 [==============================] - 0s 4ms/step - loss: 0.8851 - accuracy: 0.6224\n",
      "Epoch 20/200\n",
      "48/48 [==============================] - 0s 4ms/step - loss: 0.7668 - accuracy: 0.6445\n",
      "Epoch 21/200\n",
      "48/48 [==============================] - 0s 3ms/step - loss: 0.8304 - accuracy: 0.6302\n",
      "Epoch 22/200\n",
      "48/48 [==============================] - 0s 3ms/step - loss: 0.8107 - accuracy: 0.6406\n",
      "Epoch 23/200\n",
      "48/48 [==============================] - 0s 3ms/step - loss: 0.7240 - accuracy: 0.6549\n",
      "Epoch 24/200\n",
      "48/48 [==============================] - 0s 3ms/step - loss: 0.6637 - accuracy: 0.6836\n",
      "Epoch 25/200\n",
      "48/48 [==============================] - 0s 3ms/step - loss: 0.7374 - accuracy: 0.6549\n",
      "Epoch 26/200\n",
      "48/48 [==============================] - 0s 3ms/step - loss: 0.7233 - accuracy: 0.6484\n",
      "Epoch 27/200\n",
      "48/48 [==============================] - 0s 3ms/step - loss: 0.7179 - accuracy: 0.6602\n",
      "Epoch 28/200\n",
      "48/48 [==============================] - 0s 3ms/step - loss: 0.6685 - accuracy: 0.6667\n",
      "Epoch 29/200\n",
      "48/48 [==============================] - 0s 3ms/step - loss: 0.6608 - accuracy: 0.6784\n",
      "Epoch 30/200\n",
      "48/48 [==============================] - 0s 3ms/step - loss: 0.7762 - accuracy: 0.6419\n",
      "Epoch 31/200\n",
      "48/48 [==============================] - 0s 3ms/step - loss: 0.7002 - accuracy: 0.6667\n",
      "Epoch 32/200\n",
      "48/48 [==============================] - 0s 4ms/step - loss: 0.7117 - accuracy: 0.6641\n",
      "Epoch 33/200\n",
      "48/48 [==============================] - 0s 4ms/step - loss: 0.6641 - accuracy: 0.6771\n",
      "Epoch 34/200\n",
      "48/48 [==============================] - 0s 4ms/step - loss: 0.7191 - accuracy: 0.6497\n",
      "Epoch 35/200\n",
      "48/48 [==============================] - 0s 4ms/step - loss: 0.7356 - accuracy: 0.6615\n",
      "Epoch 36/200\n",
      "48/48 [==============================] - 0s 4ms/step - loss: 0.6938 - accuracy: 0.6523\n",
      "Epoch 37/200\n",
      "48/48 [==============================] - 0s 4ms/step - loss: 0.6521 - accuracy: 0.6693\n",
      "Epoch 38/200\n",
      "48/48 [==============================] - 0s 4ms/step - loss: 0.6973 - accuracy: 0.6680\n",
      "Epoch 39/200\n",
      "48/48 [==============================] - 0s 3ms/step - loss: 0.7340 - accuracy: 0.6576\n",
      "Epoch 40/200\n",
      "48/48 [==============================] - 0s 3ms/step - loss: 0.6433 - accuracy: 0.6875\n",
      "Epoch 41/200\n",
      "48/48 [==============================] - 0s 3ms/step - loss: 0.8392 - accuracy: 0.6237\n",
      "Epoch 42/200\n",
      "48/48 [==============================] - 0s 3ms/step - loss: 0.7204 - accuracy: 0.6771\n",
      "Epoch 43/200\n",
      "48/48 [==============================] - 0s 3ms/step - loss: 0.6220 - accuracy: 0.7005\n",
      "Epoch 44/200\n",
      "48/48 [==============================] - 0s 3ms/step - loss: 0.6393 - accuracy: 0.6797\n",
      "Epoch 45/200\n",
      "48/48 [==============================] - 0s 3ms/step - loss: 0.7029 - accuracy: 0.6836\n",
      "Epoch 46/200\n",
      "48/48 [==============================] - 0s 3ms/step - loss: 0.6570 - accuracy: 0.6745\n",
      "Epoch 47/200\n",
      "48/48 [==============================] - 0s 3ms/step - loss: 0.6352 - accuracy: 0.6719\n",
      "Epoch 48/200\n",
      "48/48 [==============================] - 0s 3ms/step - loss: 0.6393 - accuracy: 0.6901\n",
      "Epoch 49/200\n",
      "48/48 [==============================] - 0s 3ms/step - loss: 0.6785 - accuracy: 0.6771\n",
      "Epoch 50/200\n",
      "48/48 [==============================] - 0s 3ms/step - loss: 0.7282 - accuracy: 0.6432\n",
      "Epoch 51/200\n",
      "48/48 [==============================] - 0s 3ms/step - loss: 0.6321 - accuracy: 0.6940\n",
      "Epoch 52/200\n",
      "48/48 [==============================] - 0s 3ms/step - loss: 0.6572 - accuracy: 0.6823\n",
      "Epoch 53/200\n",
      "48/48 [==============================] - 0s 3ms/step - loss: 0.6679 - accuracy: 0.6966\n",
      "Epoch 54/200\n",
      "48/48 [==============================] - 0s 3ms/step - loss: 0.8457 - accuracy: 0.6562\n",
      "Epoch 55/200\n",
      "48/48 [==============================] - 0s 3ms/step - loss: 0.7284 - accuracy: 0.6536\n",
      "Epoch 56/200\n",
      "48/48 [==============================] - 0s 4ms/step - loss: 0.6100 - accuracy: 0.7031\n",
      "Epoch 57/200\n",
      "48/48 [==============================] - 0s 3ms/step - loss: 0.6579 - accuracy: 0.6836\n",
      "Epoch 58/200\n",
      "48/48 [==============================] - 0s 3ms/step - loss: 0.7198 - accuracy: 0.6641\n",
      "Epoch 59/200\n",
      "48/48 [==============================] - 0s 4ms/step - loss: 0.6755 - accuracy: 0.6576\n",
      "Epoch 60/200\n",
      "48/48 [==============================] - 0s 4ms/step - loss: 0.7474 - accuracy: 0.6549\n",
      "Epoch 61/200\n",
      "48/48 [==============================] - 0s 3ms/step - loss: 0.6238 - accuracy: 0.6953\n",
      "Epoch 62/200\n",
      "48/48 [==============================] - 0s 4ms/step - loss: 0.6700 - accuracy: 0.6615\n",
      "Epoch 63/200\n",
      "48/48 [==============================] - 0s 2ms/step - loss: 0.6603 - accuracy: 0.6732\n",
      "Epoch 64/200\n",
      "48/48 [==============================] - 0s 3ms/step - loss: 0.6532 - accuracy: 0.6875\n",
      "Epoch 65/200\n",
      "48/48 [==============================] - 0s 4ms/step - loss: 0.6508 - accuracy: 0.6667\n",
      "Epoch 66/200\n",
      "48/48 [==============================] - 0s 4ms/step - loss: 0.7075 - accuracy: 0.6654\n",
      "Epoch 67/200\n",
      "48/48 [==============================] - 0s 3ms/step - loss: 0.5803 - accuracy: 0.7005\n",
      "Epoch 68/200\n",
      "48/48 [==============================] - 0s 5ms/step - loss: 0.6173 - accuracy: 0.6966\n",
      "Epoch 69/200\n",
      "48/48 [==============================] - 0s 5ms/step - loss: 0.6101 - accuracy: 0.7057\n",
      "Epoch 70/200\n",
      "48/48 [==============================] - 0s 4ms/step - loss: 0.6884 - accuracy: 0.6667\n",
      "Epoch 71/200\n",
      "48/48 [==============================] - 0s 4ms/step - loss: 0.6661 - accuracy: 0.6641\n",
      "Epoch 72/200\n",
      "48/48 [==============================] - 0s 5ms/step - loss: 0.6814 - accuracy: 0.6732\n",
      "Epoch 73/200\n",
      "48/48 [==============================] - 0s 5ms/step - loss: 0.6043 - accuracy: 0.6901\n",
      "Epoch 74/200\n",
      "48/48 [==============================] - 0s 4ms/step - loss: 0.5754 - accuracy: 0.7227\n",
      "Epoch 75/200\n",
      "48/48 [==============================] - 0s 4ms/step - loss: 0.6316 - accuracy: 0.6992\n",
      "Epoch 76/200\n",
      "48/48 [==============================] - 0s 4ms/step - loss: 0.6865 - accuracy: 0.6706\n",
      "Epoch 77/200\n",
      "48/48 [==============================] - 0s 4ms/step - loss: 0.6869 - accuracy: 0.6628\n",
      "Epoch 78/200\n",
      "48/48 [==============================] - 0s 4ms/step - loss: 0.5639 - accuracy: 0.7305\n",
      "Epoch 79/200\n",
      "48/48 [==============================] - 0s 5ms/step - loss: 0.6457 - accuracy: 0.7044\n",
      "Epoch 80/200\n",
      "48/48 [==============================] - 0s 5ms/step - loss: 0.5722 - accuracy: 0.7135\n",
      "Epoch 81/200\n",
      "48/48 [==============================] - 0s 4ms/step - loss: 0.6213 - accuracy: 0.6979\n",
      "Epoch 82/200\n",
      "48/48 [==============================] - 0s 4ms/step - loss: 0.6039 - accuracy: 0.6979\n",
      "Epoch 83/200\n"
     ]
    },
    {
     "name": "stdout",
     "output_type": "stream",
     "text": [
      "48/48 [==============================] - 0s 4ms/step - loss: 0.5708 - accuracy: 0.7148\n",
      "Epoch 84/200\n",
      "48/48 [==============================] - 0s 4ms/step - loss: 0.6685 - accuracy: 0.6836\n",
      "Epoch 85/200\n",
      "48/48 [==============================] - 0s 4ms/step - loss: 0.5955 - accuracy: 0.7044\n",
      "Epoch 86/200\n",
      "48/48 [==============================] - 0s 4ms/step - loss: 0.6087 - accuracy: 0.6875\n",
      "Epoch 87/200\n",
      "48/48 [==============================] - 0s 3ms/step - loss: 0.6055 - accuracy: 0.6927\n",
      "Epoch 88/200\n",
      "48/48 [==============================] - 0s 3ms/step - loss: 0.5782 - accuracy: 0.7031\n",
      "Epoch 89/200\n",
      "48/48 [==============================] - 0s 3ms/step - loss: 0.6286 - accuracy: 0.7083\n",
      "Epoch 90/200\n",
      "48/48 [==============================] - 0s 4ms/step - loss: 0.6574 - accuracy: 0.6836\n",
      "Epoch 91/200\n",
      "48/48 [==============================] - 0s 4ms/step - loss: 0.6250 - accuracy: 0.7044\n",
      "Epoch 92/200\n",
      "48/48 [==============================] - 0s 4ms/step - loss: 0.6109 - accuracy: 0.7227\n",
      "Epoch 93/200\n",
      "48/48 [==============================] - 0s 4ms/step - loss: 0.6184 - accuracy: 0.7044\n",
      "Epoch 94/200\n",
      "48/48 [==============================] - 0s 5ms/step - loss: 0.6732 - accuracy: 0.6888\n",
      "Epoch 95/200\n",
      "48/48 [==============================] - 0s 5ms/step - loss: 0.6966 - accuracy: 0.6667\n",
      "Epoch 96/200\n",
      "48/48 [==============================] - 0s 5ms/step - loss: 0.5954 - accuracy: 0.7188\n",
      "Epoch 97/200\n",
      "48/48 [==============================] - 0s 5ms/step - loss: 0.6466 - accuracy: 0.6719\n",
      "Epoch 98/200\n",
      "48/48 [==============================] - 0s 4ms/step - loss: 0.6657 - accuracy: 0.6966\n",
      "Epoch 99/200\n",
      "48/48 [==============================] - 0s 4ms/step - loss: 0.6328 - accuracy: 0.6940\n",
      "Epoch 100/200\n",
      "48/48 [==============================] - 0s 4ms/step - loss: 0.6239 - accuracy: 0.6940\n",
      "Epoch 101/200\n",
      "48/48 [==============================] - 0s 3ms/step - loss: 0.5828 - accuracy: 0.7253\n",
      "Epoch 102/200\n",
      "48/48 [==============================] - 0s 3ms/step - loss: 0.5507 - accuracy: 0.7188\n",
      "Epoch 103/200\n",
      "48/48 [==============================] - 0s 3ms/step - loss: 0.7224 - accuracy: 0.6602\n",
      "Epoch 104/200\n",
      "48/48 [==============================] - 0s 3ms/step - loss: 0.5624 - accuracy: 0.7044\n",
      "Epoch 105/200\n",
      "48/48 [==============================] - 0s 3ms/step - loss: 0.5880 - accuracy: 0.7135\n",
      "Epoch 106/200\n",
      "48/48 [==============================] - 0s 3ms/step - loss: 0.5734 - accuracy: 0.7188\n",
      "Epoch 107/200\n",
      "48/48 [==============================] - 0s 3ms/step - loss: 0.5496 - accuracy: 0.7240\n",
      "Epoch 108/200\n",
      "48/48 [==============================] - 0s 3ms/step - loss: 0.7129 - accuracy: 0.6628\n",
      "Epoch 109/200\n",
      "48/48 [==============================] - 0s 3ms/step - loss: 0.6486 - accuracy: 0.6810\n",
      "Epoch 110/200\n",
      "48/48 [==============================] - 0s 3ms/step - loss: 0.6402 - accuracy: 0.6953\n",
      "Epoch 111/200\n",
      "48/48 [==============================] - 0s 3ms/step - loss: 0.5545 - accuracy: 0.7188\n",
      "Epoch 112/200\n",
      "48/48 [==============================] - 0s 3ms/step - loss: 0.6158 - accuracy: 0.7031\n",
      "Epoch 113/200\n",
      "48/48 [==============================] - 0s 3ms/step - loss: 0.6324 - accuracy: 0.6901\n",
      "Epoch 114/200\n",
      "48/48 [==============================] - 0s 3ms/step - loss: 0.6380 - accuracy: 0.6901\n",
      "Epoch 115/200\n",
      "48/48 [==============================] - 0s 3ms/step - loss: 0.5726 - accuracy: 0.7253\n",
      "Epoch 116/200\n",
      "48/48 [==============================] - 0s 3ms/step - loss: 0.5716 - accuracy: 0.6979\n",
      "Epoch 117/200\n",
      "48/48 [==============================] - 0s 3ms/step - loss: 0.5456 - accuracy: 0.7227\n",
      "Epoch 118/200\n",
      "48/48 [==============================] - 0s 3ms/step - loss: 0.5515 - accuracy: 0.7305\n",
      "Epoch 119/200\n",
      "48/48 [==============================] - 0s 3ms/step - loss: 0.5929 - accuracy: 0.7096\n",
      "Epoch 120/200\n",
      "48/48 [==============================] - 0s 3ms/step - loss: 0.6111 - accuracy: 0.7070\n",
      "Epoch 121/200\n",
      "48/48 [==============================] - 0s 3ms/step - loss: 0.6336 - accuracy: 0.7044\n",
      "Epoch 122/200\n",
      "48/48 [==============================] - 0s 3ms/step - loss: 0.7537 - accuracy: 0.6823\n",
      "Epoch 123/200\n",
      "48/48 [==============================] - 0s 3ms/step - loss: 0.6352 - accuracy: 0.6940\n",
      "Epoch 124/200\n",
      "48/48 [==============================] - 0s 3ms/step - loss: 0.7658 - accuracy: 0.6797\n",
      "Epoch 125/200\n",
      "48/48 [==============================] - 0s 3ms/step - loss: 0.5933 - accuracy: 0.7253\n",
      "Epoch 126/200\n",
      "48/48 [==============================] - 0s 3ms/step - loss: 0.5441 - accuracy: 0.7292\n",
      "Epoch 127/200\n",
      "48/48 [==============================] - 0s 3ms/step - loss: 0.5905 - accuracy: 0.7070\n",
      "Epoch 128/200\n",
      "48/48 [==============================] - 0s 3ms/step - loss: 0.5642 - accuracy: 0.7135\n",
      "Epoch 129/200\n",
      "48/48 [==============================] - 0s 3ms/step - loss: 0.6164 - accuracy: 0.7122\n",
      "Epoch 130/200\n",
      "48/48 [==============================] - 0s 3ms/step - loss: 0.5658 - accuracy: 0.7292\n",
      "Epoch 131/200\n",
      "48/48 [==============================] - 0s 3ms/step - loss: 0.5558 - accuracy: 0.7188\n",
      "Epoch 132/200\n",
      "48/48 [==============================] - 0s 3ms/step - loss: 0.5735 - accuracy: 0.7122\n",
      "Epoch 133/200\n",
      "48/48 [==============================] - 0s 3ms/step - loss: 0.5661 - accuracy: 0.7435\n",
      "Epoch 134/200\n",
      "48/48 [==============================] - 0s 3ms/step - loss: 0.5603 - accuracy: 0.7357\n",
      "Epoch 135/200\n",
      "48/48 [==============================] - 0s 3ms/step - loss: 0.5378 - accuracy: 0.7474\n",
      "Epoch 136/200\n",
      "48/48 [==============================] - 0s 3ms/step - loss: 0.5623 - accuracy: 0.7279\n",
      "Epoch 137/200\n",
      "48/48 [==============================] - 0s 3ms/step - loss: 0.5484 - accuracy: 0.7370\n",
      "Epoch 138/200\n",
      "48/48 [==============================] - 0s 3ms/step - loss: 0.5410 - accuracy: 0.7448\n",
      "Epoch 139/200\n",
      "48/48 [==============================] - 0s 3ms/step - loss: 0.5425 - accuracy: 0.7396\n",
      "Epoch 140/200\n",
      "48/48 [==============================] - 0s 3ms/step - loss: 0.5332 - accuracy: 0.7344\n",
      "Epoch 141/200\n",
      "48/48 [==============================] - 0s 3ms/step - loss: 0.5647 - accuracy: 0.7240\n",
      "Epoch 142/200\n",
      "48/48 [==============================] - 0s 3ms/step - loss: 0.5987 - accuracy: 0.7174\n",
      "Epoch 143/200\n",
      "48/48 [==============================] - 0s 3ms/step - loss: 0.5603 - accuracy: 0.7266\n",
      "Epoch 144/200\n",
      "48/48 [==============================] - 0s 3ms/step - loss: 0.5468 - accuracy: 0.7279\n",
      "Epoch 145/200\n",
      "48/48 [==============================] - 0s 3ms/step - loss: 0.5742 - accuracy: 0.7357\n",
      "Epoch 146/200\n",
      "48/48 [==============================] - 0s 3ms/step - loss: 0.6891 - accuracy: 0.6667\n",
      "Epoch 147/200\n",
      "48/48 [==============================] - 0s 3ms/step - loss: 0.5751 - accuracy: 0.7331\n",
      "Epoch 148/200\n",
      "48/48 [==============================] - 0s 3ms/step - loss: 0.5730 - accuracy: 0.7253\n",
      "Epoch 149/200\n",
      "48/48 [==============================] - 0s 3ms/step - loss: 0.5600 - accuracy: 0.7240\n",
      "Epoch 150/200\n",
      "48/48 [==============================] - 0s 3ms/step - loss: 0.5539 - accuracy: 0.7240\n",
      "Epoch 151/200\n",
      "48/48 [==============================] - 0s 3ms/step - loss: 0.6521 - accuracy: 0.6979\n",
      "Epoch 152/200\n",
      "48/48 [==============================] - 0s 3ms/step - loss: 0.6804 - accuracy: 0.6745\n",
      "Epoch 153/200\n",
      "48/48 [==============================] - 0s 3ms/step - loss: 0.6668 - accuracy: 0.6953\n",
      "Epoch 154/200\n",
      "48/48 [==============================] - 0s 3ms/step - loss: 0.5260 - accuracy: 0.7396\n",
      "Epoch 155/200\n",
      "48/48 [==============================] - 0s 3ms/step - loss: 0.5625 - accuracy: 0.7344\n",
      "Epoch 156/200\n",
      "48/48 [==============================] - 0s 3ms/step - loss: 0.5621 - accuracy: 0.7266\n",
      "Epoch 157/200\n",
      "48/48 [==============================] - 0s 3ms/step - loss: 0.5292 - accuracy: 0.7370\n",
      "Epoch 158/200\n",
      "48/48 [==============================] - 0s 3ms/step - loss: 0.5841 - accuracy: 0.7031\n",
      "Epoch 159/200\n",
      "48/48 [==============================] - 0s 3ms/step - loss: 0.5087 - accuracy: 0.7461\n",
      "Epoch 160/200\n",
      "48/48 [==============================] - 0s 3ms/step - loss: 0.5178 - accuracy: 0.7552\n",
      "Epoch 161/200\n",
      "48/48 [==============================] - 0s 3ms/step - loss: 0.5769 - accuracy: 0.7188\n",
      "Epoch 162/200\n",
      "48/48 [==============================] - 0s 3ms/step - loss: 0.5165 - accuracy: 0.7461\n",
      "Epoch 163/200\n",
      "48/48 [==============================] - 0s 3ms/step - loss: 0.5932 - accuracy: 0.6927\n",
      "Epoch 164/200\n",
      "48/48 [==============================] - 0s 3ms/step - loss: 0.5919 - accuracy: 0.7214\n",
      "Epoch 165/200\n",
      "48/48 [==============================] - 0s 3ms/step - loss: 0.5466 - accuracy: 0.7227\n",
      "Epoch 166/200\n",
      "48/48 [==============================] - 0s 3ms/step - loss: 0.5775 - accuracy: 0.7174\n",
      "Epoch 167/200\n",
      "48/48 [==============================] - 0s 3ms/step - loss: 0.5375 - accuracy: 0.7370\n",
      "Epoch 168/200\n",
      "48/48 [==============================] - 0s 3ms/step - loss: 0.5631 - accuracy: 0.7148\n",
      "Epoch 169/200\n",
      "48/48 [==============================] - 0s 3ms/step - loss: 0.6540 - accuracy: 0.6823\n",
      "Epoch 170/200\n",
      "48/48 [==============================] - 0s 3ms/step - loss: 0.5460 - accuracy: 0.7357\n",
      "Epoch 171/200\n",
      "48/48 [==============================] - 0s 3ms/step - loss: 0.5715 - accuracy: 0.7435\n",
      "Epoch 172/200\n",
      "48/48 [==============================] - 0s 3ms/step - loss: 0.5437 - accuracy: 0.7253\n",
      "Epoch 173/200\n",
      "48/48 [==============================] - 0s 3ms/step - loss: 0.5706 - accuracy: 0.7201\n",
      "Epoch 174/200\n",
      "48/48 [==============================] - 0s 3ms/step - loss: 0.5738 - accuracy: 0.7214\n",
      "Epoch 175/200\n",
      "48/48 [==============================] - 0s 3ms/step - loss: 0.5527 - accuracy: 0.7370\n",
      "Epoch 176/200\n",
      "48/48 [==============================] - 0s 3ms/step - loss: 0.5850 - accuracy: 0.7148\n",
      "Epoch 177/200\n",
      "48/48 [==============================] - 0s 3ms/step - loss: 0.8773 - accuracy: 0.6536\n",
      "Epoch 178/200\n",
      "48/48 [==============================] - 0s 3ms/step - loss: 0.6081 - accuracy: 0.7148\n",
      "Epoch 179/200\n",
      "48/48 [==============================] - 0s 3ms/step - loss: 0.5724 - accuracy: 0.7148\n",
      "Epoch 180/200\n",
      "48/48 [==============================] - 0s 3ms/step - loss: 0.5499 - accuracy: 0.7318\n",
      "Epoch 181/200\n",
      "48/48 [==============================] - 0s 3ms/step - loss: 0.5418 - accuracy: 0.7279\n",
      "Epoch 182/200\n",
      "48/48 [==============================] - 0s 3ms/step - loss: 0.5216 - accuracy: 0.7422\n",
      "Epoch 183/200\n",
      "48/48 [==============================] - 0s 3ms/step - loss: 0.5533 - accuracy: 0.7318\n",
      "Epoch 184/200\n",
      "48/48 [==============================] - 0s 3ms/step - loss: 0.5378 - accuracy: 0.7448\n",
      "Epoch 185/200\n",
      "48/48 [==============================] - 0s 3ms/step - loss: 0.5207 - accuracy: 0.7539\n",
      "Epoch 186/200\n",
      "48/48 [==============================] - 0s 3ms/step - loss: 0.5113 - accuracy: 0.7487\n",
      "Epoch 187/200\n",
      "48/48 [==============================] - 0s 3ms/step - loss: 0.5681 - accuracy: 0.7461\n",
      "Epoch 188/200\n",
      "48/48 [==============================] - 0s 3ms/step - loss: 0.5116 - accuracy: 0.7630\n",
      "Epoch 189/200\n",
      "48/48 [==============================] - 0s 3ms/step - loss: 0.5525 - accuracy: 0.7383\n",
      "Epoch 190/200\n",
      "48/48 [==============================] - 0s 3ms/step - loss: 0.5963 - accuracy: 0.7227\n",
      "Epoch 191/200\n",
      "48/48 [==============================] - 0s 3ms/step - loss: 0.5193 - accuracy: 0.7617\n",
      "Epoch 192/200\n",
      "48/48 [==============================] - 0s 3ms/step - loss: 0.5947 - accuracy: 0.7214\n",
      "Epoch 193/200\n",
      "48/48 [==============================] - 0s 3ms/step - loss: 0.5478 - accuracy: 0.7305\n",
      "Epoch 194/200\n",
      "48/48 [==============================] - 0s 3ms/step - loss: 0.5328 - accuracy: 0.7461\n",
      "Epoch 195/200\n",
      "48/48 [==============================] - 0s 3ms/step - loss: 0.5489 - accuracy: 0.7500\n",
      "Epoch 196/200\n",
      "48/48 [==============================] - 0s 3ms/step - loss: 0.5248 - accuracy: 0.7474\n",
      "Epoch 197/200\n",
      "48/48 [==============================] - 0s 3ms/step - loss: 0.7284 - accuracy: 0.6875\n",
      "Epoch 198/200\n",
      "48/48 [==============================] - 0s 3ms/step - loss: 0.5330 - accuracy: 0.7513\n",
      "Epoch 199/200\n",
      "48/48 [==============================] - 0s 3ms/step - loss: 0.5637 - accuracy: 0.7279\n",
      "Epoch 200/200\n",
      "48/48 [==============================] - 0s 3ms/step - loss: 0.5513 - accuracy: 0.7539\n"
     ]
    },
    {
     "data": {
      "text/plain": [
       "<keras.callbacks.History at 0x2195eacb670>"
      ]
     },
     "execution_count": 12,
     "metadata": {},
     "output_type": "execute_result"
    }
   ],
   "source": [
    "#se ajusta el modelo\n",
    "#se deben pasar las variables de entrada primero x en este caso\n",
    "#luego se pasan las salidas deseadas y en este caso\n",
    "#se pasa el numero de epocas (epochs) y numero de lotes (batch_size)\n",
    "\n",
    "model.fit(x,y,epochs=200,batch_size=16)"
   ]
  },
  {
   "cell_type": "markdown",
   "metadata": {},
   "source": [
    "<a id=\"section6\"></a>\n",
    "# <font color=\"#004D7F\" size=6>6. Evaluar modelo</font>"
   ]
  },
  {
   "cell_type": "markdown",
   "metadata": {},
   "source": [
    "Podemos evaluar tu modelo en tu conjunto de datos de entrenamiento usando la función de `evaluation()` y pasar la misma entrada y salida que usaste para entrenar el modelo."
   ]
  },
  {
   "cell_type": "code",
   "execution_count": 13,
   "metadata": {},
   "outputs": [
    {
     "name": "stdout",
     "output_type": "stream",
     "text": [
      "24/24 [==============================] - 1s 4ms/step - loss: 0.5051 - accuracy: 0.7526\n",
      "acuracy: 75.26\n"
     ]
    }
   ],
   "source": [
    "#evaluar el modelo\n",
    "\n",
    "_,accuracy=model.evaluate(x,y)\n",
    "print(\"acuracy: %.2f\"%(accuracy*100))"
   ]
  },
  {
   "cell_type": "markdown",
   "metadata": {},
   "source": [
    "<a id=\"section7\"></a>\n",
    "# <font color=\"#004D7F\" size=6>7. Hacer predicciones</font>"
   ]
  },
  {
   "cell_type": "markdown",
   "metadata": {},
   "source": [
    "Podemos llamar a la función `predict_classes()` para predecir clases directamente, por ejemplo:"
   ]
  },
  {
   "cell_type": "code",
   "execution_count": 15,
   "metadata": {},
   "outputs": [
    {
     "name": "stdout",
     "output_type": "stream",
     "text": [
      "24/24 [==============================] - 0s 2ms/step\n"
     ]
    }
   ],
   "source": [
    "#hacer prediccion\n",
    "prediccion=model.predict(x)"
   ]
  },
  {
   "cell_type": "code",
   "execution_count": 29,
   "metadata": {},
   "outputs": [
    {
     "name": "stdout",
     "output_type": "stream",
     "text": [
      "serie de x: [  6.  148.   72.   35.    0.   33.6 627.   50. ] --> 1 esperado: 1\n",
      "serie de x: [  1.   85.   66.   29.    0.   26.6 351.   31. ] --> 0 esperado: 0\n",
      "serie de x: [  8.  183.   64.    0.    0.   23.3 672.   32. ] --> 1 esperado: 1\n",
      "serie de x: [  1.   89.   66.   23.   94.   28.1 167.   21. ] --> 0 esperado: 0\n",
      "serie de x: [   0.   137.    40.    35.   168.    43.1 2288.    33. ] --> 1 esperado: 1\n",
      "serie de x: [  5.  116.   74.    0.    0.   25.6 201.   30. ] --> 0 esperado: 0\n",
      "serie de x: [  3.  78.  50.  32.  88.  31. 248.  26.] --> 0 esperado: 1\n",
      "serie de x: [ 10.  115.    0.    0.    0.   35.3 134.   29. ] --> 1 esperado: 0\n",
      "serie de x: [  2.  197.   70.   45.  543.   30.5 158.   53. ] --> 1 esperado: 1\n",
      "serie de x: [  8. 125.  96.   0.   0.   0. 232.  54.] --> 0 esperado: 1\n",
      "serie de x: [  4.  110.   92.    0.    0.   37.6 191.   30. ] --> 0 esperado: 0\n",
      "serie de x: [ 10. 168.  74.   0.   0.  38. 537.  34.] --> 1 esperado: 1\n",
      "serie de x: [  10.   139.    80.     0.     0.    27.1 1441.    57. ] --> 1 esperado: 0\n",
      "serie de x: [  1.  189.   60.   23.  846.   30.1 398.   59. ] --> 1 esperado: 1\n",
      "serie de x: [  5.  166.   72.   19.  175.   25.8 587.   51. ] --> 0 esperado: 1\n",
      "serie de x: [  7. 100.   0.   0.   0.  30. 484.  32.] --> 1 esperado: 1\n",
      "serie de x: [  0.  118.   84.   47.  230.   45.8 551.   31. ] --> 0 esperado: 1\n",
      "serie de x: [  7.  107.   74.    0.    0.   29.6 254.   31. ] --> 0 esperado: 1\n",
      "serie de x: [  1.  103.   30.   38.   83.   43.3 183.   33. ] --> 0 esperado: 0\n",
      "serie de x: [  1.  115.   70.   30.   96.   34.6 529.   32. ] --> 0 esperado: 1\n",
      "serie de x: [  3.  126.   88.   41.  235.   39.3 704.   27. ] --> 0 esperado: 0\n",
      "serie de x: [  8.   99.   84.    0.    0.   35.4 388.   50. ] --> 0 esperado: 0\n",
      "serie de x: [  7.  196.   90.    0.    0.   39.8 451.   41. ] --> 1 esperado: 1\n",
      "serie de x: [  9. 119.  80.  35.   0.  29. 263.  29.] --> 0 esperado: 1\n",
      "serie de x: [ 11.  143.   94.   33.  146.   36.6 254.   51. ] --> 0 esperado: 1\n",
      "serie de x: [ 10.  125.   70.   26.  115.   31.1 205.   41. ] --> 0 esperado: 1\n",
      "serie de x: [  7.  147.   76.    0.    0.   39.4 257.   43. ] --> 1 esperado: 1\n",
      "serie de x: [  1.   97.   66.   15.  140.   23.2 487.   22. ] --> 0 esperado: 0\n",
      "serie de x: [ 13.  145.   82.   19.  110.   22.2 245.   57. ] --> 1 esperado: 0\n",
      "serie de x: [  5.  117.   92.    0.    0.   34.1 337.   38. ] --> 0 esperado: 0\n",
      "serie de x: [  5. 109.  75.  26.   0.  36. 546.  60.] --> 0 esperado: 0\n",
      "serie de x: [  3.  158.   76.   36.  245.   31.6 851.   28. ] --> 0 esperado: 1\n",
      "serie de x: [  3.   88.   58.   11.   54.   24.8 267.   22. ] --> 0 esperado: 0\n",
      "serie de x: [  6.   92.   92.    0.    0.   19.9 188.   28. ] --> 0 esperado: 0\n",
      "serie de x: [ 10.  122.   78.   31.    0.   27.6 512.   45. ] --> 0 esperado: 0\n",
      "serie de x: [  4. 103.  60.  33. 192.  24. 966.  33.] --> 0 esperado: 0\n",
      "serie de x: [ 11.   138.    76.     0.     0.    33.2    0.42  35.  ] --> 0 esperado: 0\n",
      "serie de x: [  9.  102.   76.   37.    0.   32.9 665.   46. ] --> 0 esperado: 1\n",
      "serie de x: [  2.   90.   68.   42.    0.   38.2 503.   27. ] --> 0 esperado: 1\n",
      "serie de x: [  4.   111.    72.    47.   207.    37.1    1.39  56.  ] --> 0 esperado: 1\n",
      "serie de x: [  3. 180.  64.  25.  70.  34. 271.  26.] --> 1 esperado: 0\n",
      "serie de x: [  7.  133.   84.    0.    0.   40.2 696.   37. ] --> 0 esperado: 0\n",
      "serie de x: [  7.  106.   92.   18.    0.   22.7 235.   48. ] --> 0 esperado: 0\n",
      "serie de x: [  9.  171.  110.   24.  240.   45.4 721.   54. ] --> 1 esperado: 1\n",
      "serie de x: [  7.  159.   64.    0.    0.   27.4 294.   40. ] --> 1 esperado: 0\n",
      "serie de x: [   0.  180.   66.   39.    0.   42. 1893.   25.] --> 1 esperado: 1\n",
      "serie de x: [  1.  146.   56.    0.    0.   29.7 564.   29. ] --> 0 esperado: 0\n",
      "serie de x: [  2.  71.  70.  27.   0.  28. 586.  22.] --> 0 esperado: 0\n",
      "serie de x: [  7.  103.   66.   32.    0.   39.1 344.   31. ] --> 0 esperado: 1\n",
      "serie de x: [  7. 105.   0.   0.   0.   0. 305.  24.] --> 0 esperado: 0\n",
      "serie de x: [  1.  103.   80.   11.   82.   19.4 491.   22. ] --> 0 esperado: 0\n",
      "serie de x: [  1.  101.   50.   15.   36.   24.2 526.   26. ] --> 0 esperado: 0\n",
      "serie de x: [  5.   88.   66.   21.   23.   24.4 342.   30. ] --> 0 esperado: 0\n",
      "serie de x: [  8.  176.   90.   34.  300.   33.7 467.   58. ] --> 1 esperado: 1\n",
      "serie de x: [  7.  150.   66.   42.  342.   34.7 718.   42. ] --> 0 esperado: 0\n",
      "serie de x: [  1.  73.  50.  10.   0.  23. 248.  21.] --> 0 esperado: 0\n",
      "serie de x: [  7.  187.   68.   39.  304.   37.7 254.   41. ] --> 0 esperado: 1\n",
      "serie de x: [  0.  100.   88.   60.  110.   46.8 962.   31. ] --> 0 esperado: 0\n",
      "serie de x: [   0.   146.    82.     0.     0.    40.5 1781.    44. ] --> 0 esperado: 0\n",
      "serie de x: [  0.  105.   64.   41.  142.   41.5 173.   22. ] --> 0 esperado: 0\n",
      "serie de x: [  2.  84.   0.   0.   0.   0. 304.  21.] --> 0 esperado: 0\n",
      "serie de x: [  8.   133.    72.     0.     0.    32.9    0.27  39.  ] --> 0 esperado: 1\n",
      "serie de x: [  5.  44.  62.   0.   0.  25. 587.  36.] --> 0 esperado: 0\n",
      "serie de x: [  2.  141.   58.   34.  128.   25.4 699.   24. ] --> 0 esperado: 0\n",
      "serie de x: [  7.  114.   66.    0.    0.   32.8 258.   42. ] --> 0 esperado: 1\n",
      "serie de x: [  5.  99.  74.  27.   0.  29. 203.  32.] --> 0 esperado: 0\n",
      "serie de x: [  0.  109.   88.   30.    0.   32.5 855.   38. ] --> 0 esperado: 1\n",
      "serie de x: [  2.  109.   92.    0.    0.   42.7 845.   54. ] --> 0 esperado: 0\n",
      "serie de x: [  1.   95.   66.   13.   38.   19.6 334.   25. ] --> 0 esperado: 0\n",
      "serie de x: [  4.  146.   85.   27.  100.   28.9 189.   27. ] --> 0 esperado: 0\n",
      "serie de x: [  2.  100.   66.   20.   90.   32.9 867.   28. ] --> 0 esperado: 1\n",
      "serie de x: [  5.  139.   64.   35.  140.   28.6 411.   26. ] --> 0 esperado: 0\n",
      "serie de x: [ 13.  126.   90.    0.    0.   43.4 583.   42. ] --> 1 esperado: 1\n",
      "serie de x: [  4.  129.   86.   20.  270.   35.1 231.   23. ] --> 0 esperado: 0\n",
      "serie de x: [  1.  79.  75.  30.   0.  32. 396.  22.] --> 0 esperado: 0\n",
      "serie de x: [ 1.    0.   48.   20.    0.   24.7   0.14 22.  ] --> 0 esperado: 0\n",
      "serie de x: [  7.   62.   78.    0.    0.   32.6 391.   41. ] --> 0 esperado: 0\n",
      "serie de x: [ 5.   95.   72.   33.    0.   37.7   0.37 27.  ] --> 0 esperado: 0\n",
      "serie de x: [  0.   131.     0.     0.     0.    43.2    0.27  26.  ] --> 1 esperado: 1\n",
      "serie de x: [  2. 112.  66.  22.   0.  25. 307.  24.] --> 0 esperado: 0\n",
      "serie de x: [  3.   113.    44.    13.     0.    22.4    0.14  22.  ] --> 0 esperado: 0\n",
      "serie de x: [  2.  74.   0.   0.   0.   0. 102.  22.] --> 0 esperado: 0\n",
      "serie de x: [  7.   83.   78.   26.   71.   29.3 767.   36. ] --> 0 esperado: 0\n",
      "serie de x: [  0.  101.   65.   28.    0.   24.6 237.   22. ] --> 0 esperado: 0\n",
      "serie de x: [  5.  137.  108.    0.    0.   48.8 227.   37. ] --> 0 esperado: 1\n",
      "serie de x: [  2.  110.   74.   29.  125.   32.4 698.   27. ] --> 0 esperado: 0\n",
      "serie de x: [ 13.  106.   72.   54.    0.   36.6 178.   45. ] --> 1 esperado: 0\n",
      "serie de x: [  2.  100.   68.   25.   71.   38.5 324.   26. ] --> 0 esperado: 0\n",
      "serie de x: [ 15.  136.   70.   32.  110.   37.1 153.   43. ] --> 1 esperado: 1\n",
      "serie de x: [  1.  107.   68.   19.    0.   26.5 165.   24. ] --> 0 esperado: 0\n",
      "serie de x: [  1.   80.   55.    0.    0.   19.1 258.   21. ] --> 0 esperado: 0\n",
      "serie de x: [  4. 123.  80.  15. 176.  32. 443.  34.] --> 0 esperado: 0\n",
      "serie de x: [  7.   81.   78.   40.   48.   46.7 261.   42. ] --> 0 esperado: 0\n",
      "serie de x: [  4.  134.   72.    0.    0.   23.8 277.   60. ] --> 0 esperado: 1\n",
      "serie de x: [  2.  142.   82.   18.   64.   24.7 761.   21. ] --> 0 esperado: 0\n",
      "serie de x: [  6.  144.   72.   27.  228.   33.9 255.   40. ] --> 0 esperado: 0\n",
      "serie de x: [ 2.   92.   62.   28.    0.   31.6   0.13 24.  ] --> 0 esperado: 0\n",
      "serie de x: [  1.   71.   48.   18.   76.   20.4 323.   22. ] --> 0 esperado: 0\n",
      "serie de x: [  6.   93.   50.   30.   64.   28.7 356.   23. ] --> 0 esperado: 0\n",
      "serie de x: [  1.  122.   90.   51.  220.   49.7 325.   31. ] --> 0 esperado: 1\n"
     ]
    }
   ],
   "source": [
    "for i in range(100):\n",
    "    print(\"serie de x: %s --> %d esperado: %d\" %(x[i], list(map(lambda x: 1 if x>0.5 else 0,prediccion))[i],y[i]))"
   ]
  },
  {
   "cell_type": "markdown",
   "metadata": {},
   "source": [
    "Ejecutar el ejemplo no muestra la barra de progreso como antes, ya que hemos establecido el argumento `verbose` en 0. "
   ]
  }
 ],
 "metadata": {
  "kernelspec": {
   "display_name": "Python 3 (ipykernel)",
   "language": "python",
   "name": "python3"
  },
  "language_info": {
   "codemirror_mode": {
    "name": "ipython",
    "version": 3
   },
   "file_extension": ".py",
   "mimetype": "text/x-python",
   "name": "python",
   "nbconvert_exporter": "python",
   "pygments_lexer": "ipython3",
   "version": "3.9.12"
  }
 },
 "nbformat": 4,
 "nbformat_minor": 2
}
