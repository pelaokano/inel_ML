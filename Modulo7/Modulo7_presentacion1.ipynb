{
 "cells": [
  {
   "cell_type": "markdown",
   "id": "28abb57e",
   "metadata": {
    "slideshow": {
     "slide_type": "slide"
    }
   },
   "source": [
    "<img src=\"https://raw.githubusercontent.com/pelaokano/inel_ML/main/Modulo4/logo_inel.png\">\n",
    "<h1 align=\"center\">Machine Learning Aplicado a la Ingeniería Eléctrica</h1>\n",
    "\n",
    "<h2 align=\"center\">Modulo 7: Introducción a las Redes Neuronales</h2>\n",
    "\n",
    "<h3 align=\"center\">Innstructor: Adrian Alarcón Becerra</h3>"
   ]
  },
  {
   "cell_type": "markdown",
   "id": "0b4cec38",
   "metadata": {
    "slideshow": {
     "slide_type": "slide"
    }
   },
   "source": [
    "<h1 align=\"center\">Fundamentos de Redes Neuronales</h1>"
   ]
  },
  {
   "cell_type": "markdown",
   "id": "9480083d",
   "metadata": {
    "slideshow": {
     "slide_type": "slide"
    }
   },
   "source": [
    "<img src=\"https://raw.githubusercontent.com/pelaokano/inel_ML/main/Modulo7/1_image/3.+Fundamentos+Deep+Learning_1_page-0002.jpg\">\n"
   ]
  },
  {
   "cell_type": "markdown",
   "id": "7402bf16",
   "metadata": {
    "slideshow": {
     "slide_type": "slide"
    }
   },
   "source": [
    "<img src=\"https://raw.githubusercontent.com/pelaokano/inel_ML/main/Modulo7/1_image/3.+Fundamentos+Deep+Learning_1_page-0004.jpg\">\n"
   ]
  },
  {
   "cell_type": "markdown",
   "id": "d909dea5",
   "metadata": {
    "slideshow": {
     "slide_type": "slide"
    }
   },
   "source": [
    "<img src=\"https://raw.githubusercontent.com/pelaokano/inel_ML/main/Modulo7/1_image/3.+Fundamentos+Deep+Learning_1_page-0005.jpg\">\n"
   ]
  },
  {
   "cell_type": "markdown",
   "id": "a3c9967f",
   "metadata": {
    "slideshow": {
     "slide_type": "slide"
    }
   },
   "source": [
    "<img src=\"https://raw.githubusercontent.com/pelaokano/inel_ML/main/Modulo7/1_image/3.+Fundamentos+Deep+Learning_1_page-0006.jpg\">\n"
   ]
  },
  {
   "cell_type": "markdown",
   "id": "019087e6",
   "metadata": {
    "slideshow": {
     "slide_type": "slide"
    }
   },
   "source": [
    "<h1 align=\"center\">Neurona</h1>"
   ]
  },
  {
   "cell_type": "markdown",
   "id": "a0fdcfaa",
   "metadata": {
    "slideshow": {
     "slide_type": "slide"
    }
   },
   "source": [
    "<img src=\"https://raw.githubusercontent.com/pelaokano/inel_ML/main/Modulo7/1_image/3.+Fundamentos+Deep+Learning_1_page-0008.jpg\">\n"
   ]
  },
  {
   "cell_type": "markdown",
   "id": "df14c47a",
   "metadata": {
    "slideshow": {
     "slide_type": "slide"
    }
   },
   "source": [
    "<img src=\"https://raw.githubusercontent.com/pelaokano/inel_ML/main/Modulo7/1_image/3.+Fundamentos+Deep+Learning_1_page-0009.jpg\">\n"
   ]
  },
  {
   "cell_type": "markdown",
   "id": "a8803f46",
   "metadata": {
    "slideshow": {
     "slide_type": "slide"
    }
   },
   "source": [
    "<img src=\"https://raw.githubusercontent.com/pelaokano/inel_ML/main/Modulo7/1_image/3.+Fundamentos+Deep+Learning_1_page-0010.jpg\">\n"
   ]
  },
  {
   "cell_type": "markdown",
   "id": "3d9b5181",
   "metadata": {
    "slideshow": {
     "slide_type": "slide"
    }
   },
   "source": [
    "<img src=\"https://raw.githubusercontent.com/pelaokano/inel_ML/main/Modulo7/1_image/3.+Fundamentos+Deep+Learning_1_page-0011.jpg\">\n"
   ]
  },
  {
   "cell_type": "markdown",
   "id": "c142c9d1",
   "metadata": {
    "slideshow": {
     "slide_type": "slide"
    }
   },
   "source": [
    "<img src=\"https://raw.githubusercontent.com/pelaokano/inel_ML/main/Modulo7/1_image/3.+Fundamentos+Deep+Learning_1_page-0012.jpg\">\n"
   ]
  },
  {
   "cell_type": "markdown",
   "id": "18c435d7",
   "metadata": {
    "slideshow": {
     "slide_type": "slide"
    }
   },
   "source": [
    "<img src=\"https://raw.githubusercontent.com/pelaokano/inel_ML/main/Modulo7/1_image/3.+Fundamentos+Deep+Learning_1_page-0013.jpg\">\n"
   ]
  },
  {
   "cell_type": "markdown",
   "id": "56367ac9",
   "metadata": {
    "slideshow": {
     "slide_type": "slide"
    }
   },
   "source": [
    "<img src=\"https://raw.githubusercontent.com/pelaokano/inel_ML/main/Modulo7/1_image/3.+Fundamentos+Deep+Learning_1_page-0014.jpg\">\n"
   ]
  },
  {
   "cell_type": "markdown",
   "id": "d6a7456a",
   "metadata": {
    "slideshow": {
     "slide_type": "slide"
    }
   },
   "source": [
    "<img src=\"https://raw.githubusercontent.com/pelaokano/inel_ML/main/Modulo7/1_image/3.+Fundamentos+Deep+Learning_1_page-0015.jpg\">\n"
   ]
  },
  {
   "cell_type": "markdown",
   "id": "e6bf5a2d",
   "metadata": {
    "slideshow": {
     "slide_type": "slide"
    }
   },
   "source": [
    "<img src=\"https://raw.githubusercontent.com/pelaokano/inel_ML/main/Modulo7/1_image/3.+Fundamentos+Deep+Learning_1_page-0016.jpg\">\n"
   ]
  },
  {
   "cell_type": "markdown",
   "id": "92f88824",
   "metadata": {
    "slideshow": {
     "slide_type": "slide"
    }
   },
   "source": [
    "<img src=\"https://raw.githubusercontent.com/pelaokano/inel_ML/main/Modulo7/1_image/3.+Fundamentos+Deep+Learning_1_page-0017.jpg\">\n"
   ]
  },
  {
   "cell_type": "markdown",
   "id": "0f918339",
   "metadata": {
    "slideshow": {
     "slide_type": "slide"
    }
   },
   "source": [
    "<img src=\"https://raw.githubusercontent.com/pelaokano/inel_ML/main/Modulo7/1_image/3.+Fundamentos+Deep+Learning_1_page-0018.jpg\">\n"
   ]
  },
  {
   "cell_type": "markdown",
   "id": "72c46951",
   "metadata": {
    "slideshow": {
     "slide_type": "slide"
    }
   },
   "source": [
    "<img src=\"https://raw.githubusercontent.com/pelaokano/inel_ML/main/Modulo7/1_image/3.+Fundamentos+Deep+Learning_1_page-0019.jpg\">\n"
   ]
  },
  {
   "cell_type": "markdown",
   "id": "df88391f",
   "metadata": {
    "slideshow": {
     "slide_type": "slide"
    }
   },
   "source": [
    "<img src=\"https://raw.githubusercontent.com/pelaokano/inel_ML/main/Modulo7/1_image/3.+Fundamentos+Deep+Learning_1_page-0020.jpg\">\n"
   ]
  },
  {
   "cell_type": "markdown",
   "id": "cfbaf689",
   "metadata": {
    "slideshow": {
     "slide_type": "slide"
    }
   },
   "source": [
    "<img src=\"https://raw.githubusercontent.com/pelaokano/inel_ML/main/Modulo7/1_image/3.+Fundamentos+Deep+Learning_1_page-0021.jpg\">\n"
   ]
  },
  {
   "cell_type": "markdown",
   "id": "464c8730",
   "metadata": {
    "slideshow": {
     "slide_type": "slide"
    }
   },
   "source": [
    "<h1 align=\"center\">Simulación</h1>"
   ]
  },
  {
   "cell_type": "markdown",
   "id": "899bfb9f",
   "metadata": {
    "slideshow": {
     "slide_type": "slide"
    }
   },
   "source": [
    "<img src=\"https://raw.githubusercontent.com/pelaokano/inel_ML/main/Modulo7/1_image/3.+Fundamentos+Deep+Learning_1_page-0023.jpg\">\n"
   ]
  },
  {
   "cell_type": "markdown",
   "id": "c9ddcb90",
   "metadata": {
    "slideshow": {
     "slide_type": "slide"
    }
   },
   "source": [
    "<img src=\"https://raw.githubusercontent.com/pelaokano/inel_ML/main/Modulo7/1_image/3.+Fundamentos+Deep+Learning_1_page-0024.jpg\">\n"
   ]
  },
  {
   "cell_type": "markdown",
   "id": "23a982d5",
   "metadata": {
    "slideshow": {
     "slide_type": "slide"
    }
   },
   "source": [
    "<img src=\"https://raw.githubusercontent.com/pelaokano/inel_ML/main/Modulo7/1_image/3.+Fundamentos+Deep+Learning_1_page-0025.jpg\">\n"
   ]
  },
  {
   "cell_type": "markdown",
   "id": "2379ac05",
   "metadata": {
    "slideshow": {
     "slide_type": "slide"
    }
   },
   "source": [
    "<img src=\"https://raw.githubusercontent.com/pelaokano/inel_ML/main/Modulo7/1_image/3.+Fundamentos+Deep+Learning_1_page-0026.jpg\">\n"
   ]
  },
  {
   "cell_type": "markdown",
   "id": "ce55e753",
   "metadata": {
    "slideshow": {
     "slide_type": "slide"
    }
   },
   "source": [
    "<img src=\"https://raw.githubusercontent.com/pelaokano/inel_ML/main/Modulo7/1_image/3.+Fundamentos+Deep+Learning_1_page-0027.jpg\">\n"
   ]
  },
  {
   "cell_type": "markdown",
   "id": "863dffd8",
   "metadata": {
    "slideshow": {
     "slide_type": "slide"
    }
   },
   "source": [
    "<img src=\"https://raw.githubusercontent.com/pelaokano/inel_ML/main/Modulo7/1_image/3.+Fundamentos+Deep+Learning_1_page-0028.jpg\">\n"
   ]
  },
  {
   "cell_type": "markdown",
   "id": "3e909e5a",
   "metadata": {
    "slideshow": {
     "slide_type": "slide"
    }
   },
   "source": [
    "<img src=\"https://raw.githubusercontent.com/pelaokano/inel_ML/main/Modulo7/1_image/3.+Fundamentos+Deep+Learning_1_page-0029.jpg\">\n"
   ]
  },
  {
   "cell_type": "markdown",
   "id": "4d4e5e41",
   "metadata": {
    "slideshow": {
     "slide_type": "slide"
    }
   },
   "source": [
    "<img src=\"https://raw.githubusercontent.com/pelaokano/inel_ML/main/Modulo7/1_image/3.+Fundamentos+Deep+Learning_1_page-0030.jpg\">\n"
   ]
  },
  {
   "cell_type": "markdown",
   "id": "b77d88c2",
   "metadata": {
    "slideshow": {
     "slide_type": "slide"
    }
   },
   "source": [
    "<img src=\"https://raw.githubusercontent.com/pelaokano/inel_ML/main/Modulo7/1_image/3.+Fundamentos+Deep+Learning_1_page-0031.jpg\">\n"
   ]
  },
  {
   "cell_type": "markdown",
   "id": "29bcc8df",
   "metadata": {
    "slideshow": {
     "slide_type": "slide"
    }
   },
   "source": [
    "<img src=\"https://raw.githubusercontent.com/pelaokano/inel_ML/main/Modulo7/1_image/3.+Fundamentos+Deep+Learning_1_page-0032.jpg\">\n"
   ]
  },
  {
   "cell_type": "markdown",
   "id": "e87a50b2",
   "metadata": {
    "slideshow": {
     "slide_type": "slide"
    }
   },
   "source": [
    "<img src=\"https://raw.githubusercontent.com/pelaokano/inel_ML/main/Modulo7/1_image/3.+Fundamentos+Deep+Learning_1_page-0033.jpg\">\n"
   ]
  },
  {
   "cell_type": "markdown",
   "id": "a4d19710",
   "metadata": {
    "slideshow": {
     "slide_type": "slide"
    }
   },
   "source": [
    "<img src=\"https://raw.githubusercontent.com/pelaokano/inel_ML/main/Modulo7/1_image/3.+Fundamentos+Deep+Learning_1_page-0034.jpg\">\n"
   ]
  },
  {
   "cell_type": "markdown",
   "id": "b2758ce3",
   "metadata": {
    "slideshow": {
     "slide_type": "slide"
    }
   },
   "source": [
    "<img src=\"https://raw.githubusercontent.com/pelaokano/inel_ML/main/Modulo7/1_image/3.+Fundamentos+Deep+Learning_1_page-0035.jpg\">\n"
   ]
  },
  {
   "cell_type": "markdown",
   "id": "37d4fbe7",
   "metadata": {
    "slideshow": {
     "slide_type": "slide"
    }
   },
   "source": [
    "<img src=\"https://raw.githubusercontent.com/pelaokano/inel_ML/main/Modulo7/1_image/3.+Fundamentos+Deep+Learning_1_page-0036.jpg\">\n"
   ]
  },
  {
   "cell_type": "markdown",
   "id": "9e55c084",
   "metadata": {
    "slideshow": {
     "slide_type": "slide"
    }
   },
   "source": [
    "<img src=\"https://raw.githubusercontent.com/pelaokano/inel_ML/main/Modulo7/1_image/3.+Fundamentos+Deep+Learning_1_page-0037.jpg\">\n"
   ]
  },
  {
   "cell_type": "markdown",
   "id": "83769283",
   "metadata": {
    "slideshow": {
     "slide_type": "slide"
    }
   },
   "source": [
    "<img src=\"https://raw.githubusercontent.com/pelaokano/inel_ML/main/Modulo7/1_image/3.+Fundamentos+Deep+Learning_1_page-0038.jpg\">\n"
   ]
  },
  {
   "cell_type": "markdown",
   "id": "b4946b10",
   "metadata": {
    "slideshow": {
     "slide_type": "slide"
    }
   },
   "source": [
    "<img src=\"https://raw.githubusercontent.com/pelaokano/inel_ML/main/Modulo7/1_image/3.+Fundamentos+Deep+Learning_1_page-0039.jpg\">\n"
   ]
  },
  {
   "cell_type": "markdown",
   "id": "78daa897",
   "metadata": {
    "slideshow": {
     "slide_type": "slide"
    }
   },
   "source": [
    "<img src=\"https://raw.githubusercontent.com/pelaokano/inel_ML/main/Modulo7/1_image/3.+Fundamentos+Deep+Learning_1_page-0040.jpg\">\n"
   ]
  },
  {
   "cell_type": "markdown",
   "id": "e921ede7",
   "metadata": {
    "slideshow": {
     "slide_type": "slide"
    }
   },
   "source": [
    "<img src=\"https://raw.githubusercontent.com/pelaokano/inel_ML/main/Modulo7/1_image/3.+Fundamentos+Deep+Learning_1_page-0041.jpg\">\n"
   ]
  },
  {
   "cell_type": "markdown",
   "id": "a4c10919",
   "metadata": {
    "slideshow": {
     "slide_type": "slide"
    }
   },
   "source": [
    "<img src=\"https://raw.githubusercontent.com/pelaokano/inel_ML/main/Modulo7/1_image/3.+Fundamentos+Deep+Learning_1_page-0042.jpg\">\n"
   ]
  },
  {
   "cell_type": "markdown",
   "id": "a4bd3be6",
   "metadata": {
    "slideshow": {
     "slide_type": "slide"
    }
   },
   "source": [
    "<img src=\"https://raw.githubusercontent.com/pelaokano/inel_ML/main/Modulo7/1_image/3.+Fundamentos+Deep+Learning_1_page-0043.jpg\">\n"
   ]
  },
  {
   "cell_type": "markdown",
   "id": "55569b85",
   "metadata": {
    "slideshow": {
     "slide_type": "slide"
    }
   },
   "source": [
    "<img src=\"https://raw.githubusercontent.com/pelaokano/inel_ML/main/Modulo7/1_image/3.+Fundamentos+Deep+Learning_1_page-0044.jpg\">\n"
   ]
  },
  {
   "cell_type": "markdown",
   "id": "a0287c00",
   "metadata": {
    "slideshow": {
     "slide_type": "slide"
    }
   },
   "source": [
    "<img src=\"https://raw.githubusercontent.com/pelaokano/inel_ML/main/Modulo7/1_image/3.+Fundamentos+Deep+Learning_1_page-0045.jpg\">\n"
   ]
  },
  {
   "cell_type": "markdown",
   "id": "e63e4482",
   "metadata": {
    "slideshow": {
     "slide_type": "slide"
    }
   },
   "source": [
    "<img src=\"https://raw.githubusercontent.com/pelaokano/inel_ML/main/Modulo7/1_image/3.+Fundamentos+Deep+Learning_1_page-0046.jpg\">\n"
   ]
  },
  {
   "cell_type": "markdown",
   "id": "d143918d",
   "metadata": {
    "slideshow": {
     "slide_type": "slide"
    }
   },
   "source": [
    "<img src=\"https://raw.githubusercontent.com/pelaokano/inel_ML/main/Modulo7/1_image/3.+Fundamentos+Deep+Learning_1_page-0047.jpg\">\n"
   ]
  },
  {
   "cell_type": "markdown",
   "id": "7cdb5c90",
   "metadata": {
    "slideshow": {
     "slide_type": "slide"
    }
   },
   "source": [
    "<img src=\"https://raw.githubusercontent.com/pelaokano/inel_ML/main/Modulo7/1_image/3.+Fundamentos+Deep+Learning_1_page-0048.jpg\">\n"
   ]
  },
  {
   "cell_type": "markdown",
   "id": "adce4ac8",
   "metadata": {
    "slideshow": {
     "slide_type": "slide"
    }
   },
   "source": [
    "<img src=\"https://raw.githubusercontent.com/pelaokano/inel_ML/main/Modulo7/1_image/3.+Fundamentos+Deep+Learning_1_page-0049.jpg\">\n"
   ]
  },
  {
   "cell_type": "markdown",
   "id": "201839a6",
   "metadata": {
    "slideshow": {
     "slide_type": "slide"
    }
   },
   "source": [
    "<img src=\"https://raw.githubusercontent.com/pelaokano/inel_ML/main/Modulo7/1_image/3.+Fundamentos+Deep+Learning_1_page-0050.jpg\">\n"
   ]
  },
  {
   "cell_type": "markdown",
   "id": "3f46faff",
   "metadata": {
    "slideshow": {
     "slide_type": "slide"
    }
   },
   "source": [
    "<img src=\"https://raw.githubusercontent.com/pelaokano/inel_ML/main/Modulo7/1_image/3.+Fundamentos+Deep+Learning_1_page-0051.jpg\">\n"
   ]
  },
  {
   "cell_type": "markdown",
   "id": "67a58f59",
   "metadata": {
    "slideshow": {
     "slide_type": "slide"
    }
   },
   "source": [
    "<img src=\"https://raw.githubusercontent.com/pelaokano/inel_ML/main/Modulo7/1_image/3.+Fundamentos+Deep+Learning_1_page-0052.jpg\">\n"
   ]
  },
  {
   "cell_type": "markdown",
   "id": "262b3fb5",
   "metadata": {
    "slideshow": {
     "slide_type": "slide"
    }
   },
   "source": [
    "<img src=\"https://raw.githubusercontent.com/pelaokano/inel_ML/main/Modulo7/1_image/3.+Fundamentos+Deep+Learning_1_page-0053.jpg\">\n"
   ]
  },
  {
   "cell_type": "markdown",
   "id": "29f69e4a",
   "metadata": {
    "slideshow": {
     "slide_type": "slide"
    }
   },
   "source": [
    "<img src=\"https://raw.githubusercontent.com/pelaokano/inel_ML/main/Modulo7/1_image/3.+Fundamentos+Deep+Learning_1_page-0054.jpg\">\n"
   ]
  },
  {
   "cell_type": "markdown",
   "id": "6167e15d",
   "metadata": {
    "slideshow": {
     "slide_type": "slide"
    }
   },
   "source": [
    "<img src=\"https://raw.githubusercontent.com/pelaokano/inel_ML/main/Modulo7/1_image/3.+Fundamentos+Deep+Learning_1_page-0055.jpg\">\n"
   ]
  },
  {
   "cell_type": "markdown",
   "id": "3da7c2bc",
   "metadata": {
    "slideshow": {
     "slide_type": "slide"
    }
   },
   "source": [
    "<img src=\"https://raw.githubusercontent.com/pelaokano/inel_ML/main/Modulo7/1_image/3.+Fundamentos+Deep+Learning_1_page-0056.jpg\">\n"
   ]
  },
  {
   "cell_type": "markdown",
   "id": "cceac340",
   "metadata": {
    "slideshow": {
     "slide_type": "slide"
    }
   },
   "source": [
    "<img src=\"https://raw.githubusercontent.com/pelaokano/inel_ML/main/Modulo7/1_image/3.+Fundamentos+Deep+Learning_1_page-0057.jpg\">\n"
   ]
  },
  {
   "cell_type": "markdown",
   "id": "6926abda",
   "metadata": {
    "slideshow": {
     "slide_type": "slide"
    }
   },
   "source": [
    "<img src=\"https://raw.githubusercontent.com/pelaokano/inel_ML/main/Modulo7/1_image/3.+Fundamentos+Deep+Learning_1_page-0058.jpg\">\n"
   ]
  },
  {
   "cell_type": "markdown",
   "id": "afc927a0",
   "metadata": {
    "slideshow": {
     "slide_type": "slide"
    }
   },
   "source": [
    "<img src=\"https://raw.githubusercontent.com/pelaokano/inel_ML/main/Modulo7/1_image/3.+Fundamentos+Deep+Learning_1_page-0059.jpg\">\n"
   ]
  },
  {
   "cell_type": "markdown",
   "id": "ab5400db",
   "metadata": {
    "slideshow": {
     "slide_type": "slide"
    }
   },
   "source": [
    "<img src=\"https://raw.githubusercontent.com/pelaokano/inel_ML/main/Modulo7/1_image/3.+Fundamentos+Deep+Learning_1_page-0060.jpg\">\n"
   ]
  },
  {
   "cell_type": "markdown",
   "id": "58b4d529",
   "metadata": {
    "slideshow": {
     "slide_type": "slide"
    }
   },
   "source": [
    "<img src=\"https://raw.githubusercontent.com/pelaokano/inel_ML/main/Modulo7/1_image/3.+Fundamentos+Deep+Learning_1_page-0061.jpg\">\n"
   ]
  },
  {
   "cell_type": "markdown",
   "id": "98967886",
   "metadata": {},
   "source": [
    "<h1 align=\"center\">Perceptrón Multicapa</h1>"
   ]
  },
  {
   "cell_type": "markdown",
   "id": "67881ea2",
   "metadata": {
    "slideshow": {
     "slide_type": "slide"
    }
   },
   "source": [
    "<img src=\"https://raw.githubusercontent.com/pelaokano/inel_ML/main/Modulo7/1_image/3.+Fundamentos+Deep+Learning_1_page-0063.jpg\">\n"
   ]
  },
  {
   "cell_type": "markdown",
   "id": "3628302b",
   "metadata": {
    "slideshow": {
     "slide_type": "slide"
    }
   },
   "source": [
    "<img src=\"https://raw.githubusercontent.com/pelaokano/inel_ML/main/Modulo7/1_image/3.+Fundamentos+Deep+Learning_1_page-0064.jpg\">\n"
   ]
  },
  {
   "cell_type": "markdown",
   "id": "18d268bb",
   "metadata": {
    "slideshow": {
     "slide_type": "slide"
    }
   },
   "source": [
    "<img src=\"https://raw.githubusercontent.com/pelaokano/inel_ML/main/Modulo7/1_image/3.+Fundamentos+Deep+Learning_1_page-0065.jpg\">\n"
   ]
  },
  {
   "cell_type": "markdown",
   "id": "161e0a54",
   "metadata": {
    "slideshow": {
     "slide_type": "slide"
    }
   },
   "source": [
    "<img src=\"https://raw.githubusercontent.com/pelaokano/inel_ML/main/Modulo7/1_image/3.+Fundamentos+Deep+Learning_1_page-0066.jpg\">\n"
   ]
  },
  {
   "cell_type": "markdown",
   "id": "f5522044",
   "metadata": {
    "slideshow": {
     "slide_type": "slide"
    }
   },
   "source": [
    "<img src=\"https://raw.githubusercontent.com/pelaokano/inel_ML/main/Modulo7/1_image/3.+Fundamentos+Deep+Learning_1_page-0067.jpg\">\n"
   ]
  },
  {
   "cell_type": "markdown",
   "id": "a616a364",
   "metadata": {
    "slideshow": {
     "slide_type": "slide"
    }
   },
   "source": [
    "<img src=\"https://raw.githubusercontent.com/pelaokano/inel_ML/main/Modulo7/1_image/3.+Fundamentos+Deep+Learning_1_page-0068.jpg\">\n"
   ]
  },
  {
   "cell_type": "markdown",
   "id": "a00e0d7d",
   "metadata": {
    "slideshow": {
     "slide_type": "slide"
    }
   },
   "source": [
    "<img src=\"https://raw.githubusercontent.com/pelaokano/inel_ML/main/Modulo7/1_image/3.+Fundamentos+Deep+Learning_1_page-0069.jpg\">\n"
   ]
  },
  {
   "cell_type": "markdown",
   "id": "7607858d",
   "metadata": {
    "slideshow": {
     "slide_type": "slide"
    }
   },
   "source": [
    "<img src=\"https://raw.githubusercontent.com/pelaokano/inel_ML/main/Modulo7/1_image/3.+Fundamentos+Deep+Learning_1_page-0070.jpg\">\n"
   ]
  },
  {
   "cell_type": "markdown",
   "id": "2823492f",
   "metadata": {
    "slideshow": {
     "slide_type": "slide"
    }
   },
   "source": [
    "<img src=\"https://raw.githubusercontent.com/pelaokano/inel_ML/main/Modulo7/1_image/3.+Fundamentos+Deep+Learning_1_page-0071.jpg\">\n"
   ]
  },
  {
   "cell_type": "markdown",
   "id": "94b69a1a",
   "metadata": {
    "slideshow": {
     "slide_type": "slide"
    }
   },
   "source": [
    "<img src=\"https://raw.githubusercontent.com/pelaokano/inel_ML/main/Modulo7/1_image/3.+Fundamentos+Deep+Learning_1_page-0072.jpg\">\n"
   ]
  },
  {
   "cell_type": "markdown",
   "id": "735459fc",
   "metadata": {
    "slideshow": {
     "slide_type": "slide"
    }
   },
   "source": [
    "<img src=\"https://raw.githubusercontent.com/pelaokano/inel_ML/main/Modulo7/1_image/3.+Fundamentos+Deep+Learning_1_page-0073.jpg\">\n"
   ]
  },
  {
   "cell_type": "markdown",
   "id": "76b3f669",
   "metadata": {
    "slideshow": {
     "slide_type": "slide"
    }
   },
   "source": [
    "<img src=\"https://raw.githubusercontent.com/pelaokano/inel_ML/main/Modulo7/1_image/3.+Fundamentos+Deep+Learning_1_page-0074.jpg\">\n"
   ]
  },
  {
   "cell_type": "markdown",
   "id": "1adcf380",
   "metadata": {
    "slideshow": {
     "slide_type": "slide"
    }
   },
   "source": [
    "<img src=\"https://raw.githubusercontent.com/pelaokano/inel_ML/main/Modulo7/1_image/3.+Fundamentos+Deep+Learning_1_page-0075.jpg\">\n"
   ]
  },
  {
   "cell_type": "markdown",
   "id": "4d986c81",
   "metadata": {
    "slideshow": {
     "slide_type": "slide"
    }
   },
   "source": [
    "<img src=\"https://raw.githubusercontent.com/pelaokano/inel_ML/main/Modulo7/1_image/3.+Fundamentos+Deep+Learning_1_page-0076.jpg\">\n"
   ]
  },
  {
   "cell_type": "markdown",
   "id": "26b19d0c",
   "metadata": {
    "slideshow": {
     "slide_type": "slide"
    }
   },
   "source": [
    "<img src=\"https://raw.githubusercontent.com/pelaokano/inel_ML/main/Modulo7/1_image/3.+Fundamentos+Deep+Learning_1_page-0077.jpg\">\n"
   ]
  },
  {
   "cell_type": "markdown",
   "id": "502b2496",
   "metadata": {
    "slideshow": {
     "slide_type": "slide"
    }
   },
   "source": [
    "<img src=\"https://raw.githubusercontent.com/pelaokano/inel_ML/main/Modulo7/1_image/3.+Fundamentos+Deep+Learning_1_page-0078.jpg\">\n"
   ]
  },
  {
   "cell_type": "markdown",
   "id": "23034d06",
   "metadata": {
    "slideshow": {
     "slide_type": "slide"
    }
   },
   "source": [
    "<img src=\"https://raw.githubusercontent.com/pelaokano/inel_ML/main/Modulo7/1_image/3.+Fundamentos+Deep+Learning_1_page-0079.jpg\">\n"
   ]
  },
  {
   "cell_type": "markdown",
   "id": "3953f950",
   "metadata": {
    "slideshow": {
     "slide_type": "slide"
    }
   },
   "source": [
    "<img src=\"https://raw.githubusercontent.com/pelaokano/inel_ML/main/Modulo7/1_image/3.+Fundamentos+Deep+Learning_1_page-0080.jpg\">\n"
   ]
  },
  {
   "cell_type": "markdown",
   "id": "0e6a5aa6",
   "metadata": {
    "slideshow": {
     "slide_type": "slide"
    }
   },
   "source": [
    "<img src=\"https://raw.githubusercontent.com/pelaokano/inel_ML/main/Modulo7/1_image/3.+Fundamentos+Deep+Learning_1_page-0081.jpg\">\n"
   ]
  },
  {
   "cell_type": "markdown",
   "id": "f651c4e0",
   "metadata": {
    "slideshow": {
     "slide_type": "slide"
    }
   },
   "source": [
    "<img src=\"https://raw.githubusercontent.com/pelaokano/inel_ML/main/Modulo7/1_image/3.+Fundamentos+Deep+Learning_1_page-0082.jpg\">\n"
   ]
  },
  {
   "cell_type": "markdown",
   "id": "03ded4d4",
   "metadata": {
    "slideshow": {
     "slide_type": "slide"
    }
   },
   "source": [
    "<img src=\"https://raw.githubusercontent.com/pelaokano/inel_ML/main/Modulo7/1_image/3.+Fundamentos+Deep+Learning_1_page-0083.jpg\">\n"
   ]
  },
  {
   "cell_type": "markdown",
   "id": "15974885",
   "metadata": {
    "slideshow": {
     "slide_type": "slide"
    }
   },
   "source": [
    "<h1 align=\"center\">Función de Activación</h1>"
   ]
  },
  {
   "cell_type": "markdown",
   "id": "8ad399cd",
   "metadata": {
    "slideshow": {
     "slide_type": "slide"
    }
   },
   "source": [
    "<img src=\"https://raw.githubusercontent.com/pelaokano/inel_ML/main/Modulo7/1_image/3.+Fundamentos+Deep+Learning_1_page-0085.jpg\">\n"
   ]
  },
  {
   "cell_type": "markdown",
   "id": "0346331a",
   "metadata": {
    "slideshow": {
     "slide_type": "slide"
    }
   },
   "source": [
    "<img src=\"https://raw.githubusercontent.com/pelaokano/inel_ML/main/Modulo7/1_image/3.+Fundamentos+Deep+Learning_1_page-0086.jpg\">\n"
   ]
  },
  {
   "cell_type": "markdown",
   "id": "628de0a0",
   "metadata": {
    "slideshow": {
     "slide_type": "slide"
    }
   },
   "source": [
    "<img src=\"https://raw.githubusercontent.com/pelaokano/inel_ML/main/Modulo7/1_image/3.+Fundamentos+Deep+Learning_1_page-0087.jpg\">\n"
   ]
  },
  {
   "cell_type": "markdown",
   "id": "d6696a36",
   "metadata": {
    "slideshow": {
     "slide_type": "slide"
    }
   },
   "source": [
    "<img src=\"https://raw.githubusercontent.com/pelaokano/inel_ML/main/Modulo7/1_image/3.+Fundamentos+Deep+Learning_1_page-0088.jpg\">\n"
   ]
  },
  {
   "cell_type": "markdown",
   "id": "62158596",
   "metadata": {
    "slideshow": {
     "slide_type": "slide"
    }
   },
   "source": [
    "<img src=\"https://raw.githubusercontent.com/pelaokano/inel_ML/main/Modulo7/1_image/3.+Fundamentos+Deep+Learning_1_page-0089.jpg\">\n"
   ]
  },
  {
   "cell_type": "markdown",
   "id": "d6efdb3e",
   "metadata": {
    "slideshow": {
     "slide_type": "slide"
    }
   },
   "source": [
    "<img src=\"https://raw.githubusercontent.com/pelaokano/inel_ML/main/Modulo7/1_image/3.+Fundamentos+Deep+Learning_1_page-0090.jpg\">\n"
   ]
  },
  {
   "cell_type": "markdown",
   "id": "aa2ec358",
   "metadata": {
    "slideshow": {
     "slide_type": "slide"
    }
   },
   "source": [
    "<img src=\"https://raw.githubusercontent.com/pelaokano/inel_ML/main/Modulo7/1_image/3.+Fundamentos+Deep+Learning_1_page-0091.jpg\">\n"
   ]
  },
  {
   "cell_type": "markdown",
   "id": "9783e803",
   "metadata": {
    "slideshow": {
     "slide_type": "slide"
    }
   },
   "source": [
    "<img src=\"https://raw.githubusercontent.com/pelaokano/inel_ML/main/Modulo7/1_image/3.+Fundamentos+Deep+Learning_1_page-0092.jpg\">\n"
   ]
  },
  {
   "cell_type": "markdown",
   "id": "25cefb59",
   "metadata": {
    "slideshow": {
     "slide_type": "slide"
    }
   },
   "source": [
    "<img src=\"https://raw.githubusercontent.com/pelaokano/inel_ML/main/Modulo7/1_image/3.+Fundamentos+Deep+Learning_1_page-0093.jpg\">\n"
   ]
  },
  {
   "cell_type": "markdown",
   "id": "aadaae13",
   "metadata": {
    "slideshow": {
     "slide_type": "slide"
    }
   },
   "source": [
    "<img src=\"https://raw.githubusercontent.com/pelaokano/inel_ML/main/Modulo7/1_image/3.+Fundamentos+Deep+Learning_1_page-0094.jpg\">\n"
   ]
  },
  {
   "cell_type": "markdown",
   "id": "c37cba8e",
   "metadata": {
    "slideshow": {
     "slide_type": "slide"
    }
   },
   "source": [
    "<img src=\"https://raw.githubusercontent.com/pelaokano/inel_ML/main/Modulo7/1_image/3.+Fundamentos+Deep+Learning_1_page-0095.jpg\">\n"
   ]
  },
  {
   "cell_type": "markdown",
   "id": "f7e6a382",
   "metadata": {
    "slideshow": {
     "slide_type": "slide"
    }
   },
   "source": [
    "<img src=\"https://raw.githubusercontent.com/pelaokano/inel_ML/main/Modulo7/1_image/3.+Fundamentos+Deep+Learning_1_page-0096.jpg\">\n"
   ]
  },
  {
   "cell_type": "markdown",
   "id": "8df97802",
   "metadata": {
    "slideshow": {
     "slide_type": "slide"
    }
   },
   "source": [
    "<img src=\"https://raw.githubusercontent.com/pelaokano/inel_ML/main/Modulo7/1_image/3.+Fundamentos+Deep+Learning_1_page-0097.jpg\">\n"
   ]
  },
  {
   "cell_type": "markdown",
   "id": "396940e4",
   "metadata": {
    "slideshow": {
     "slide_type": "slide"
    }
   },
   "source": [
    "<img src=\"https://raw.githubusercontent.com/pelaokano/inel_ML/main/Modulo7/1_image/3.+Fundamentos+Deep+Learning_1_page-0098.jpg\">\n"
   ]
  },
  {
   "cell_type": "markdown",
   "id": "debb0995",
   "metadata": {
    "slideshow": {
     "slide_type": "slide"
    }
   },
   "source": [
    "<img src=\"https://raw.githubusercontent.com/pelaokano/inel_ML/main/Modulo7/1_image/3.+Fundamentos+Deep+Learning_1_page-0099.jpg\">\n"
   ]
  },
  {
   "cell_type": "markdown",
   "id": "cdc1ce32",
   "metadata": {
    "slideshow": {
     "slide_type": "slide"
    }
   },
   "source": [
    "<img src=\"https://raw.githubusercontent.com/pelaokano/inel_ML/main/Modulo7/1_image/3.+Fundamentos+Deep+Learning_1_page-0100.jpg\">\n"
   ]
  },
  {
   "cell_type": "markdown",
   "id": "97b52b12",
   "metadata": {
    "slideshow": {
     "slide_type": "slide"
    }
   },
   "source": [
    "<img src=\"https://raw.githubusercontent.com/pelaokano/inel_ML/main/Modulo7/1_image/3.+Fundamentos+Deep+Learning_1_page-0101.jpg\">\n"
   ]
  },
  {
   "cell_type": "markdown",
   "id": "5de46a11",
   "metadata": {
    "slideshow": {
     "slide_type": "slide"
    }
   },
   "source": [
    "<img src=\"https://raw.githubusercontent.com/pelaokano/inel_ML/main/Modulo7/1_image/3.+Fundamentos+Deep+Learning_1_page-0103.jpg\">\n"
   ]
  },
  {
   "cell_type": "markdown",
   "id": "2b332771",
   "metadata": {
    "slideshow": {
     "slide_type": "slide"
    }
   },
   "source": [
    "<img src=\"https://raw.githubusercontent.com/pelaokano/inel_ML/main/Modulo7/1_image/3.+Fundamentos+Deep+Learning_1_page-0104.jpg\">\n"
   ]
  },
  {
   "cell_type": "markdown",
   "id": "3f468d98",
   "metadata": {
    "slideshow": {
     "slide_type": "slide"
    }
   },
   "source": [
    "<img src=\"https://raw.githubusercontent.com/pelaokano/inel_ML/main/Modulo7/1_image/3.+Fundamentos+Deep+Learning_1_page-0105.jpg\">\n"
   ]
  },
  {
   "cell_type": "markdown",
   "id": "2d28bf57",
   "metadata": {
    "slideshow": {
     "slide_type": "slide"
    }
   },
   "source": [
    "<img src=\"https://raw.githubusercontent.com/pelaokano/inel_ML/main/Modulo7/1_image/3.+Fundamentos+Deep+Learning_1_page-0106.jpg\">\n"
   ]
  },
  {
   "cell_type": "markdown",
   "id": "879177e5",
   "metadata": {
    "slideshow": {
     "slide_type": "slide"
    }
   },
   "source": [
    "<img src=\"https://raw.githubusercontent.com/pelaokano/inel_ML/main/Modulo7/1_image/3.+Fundamentos+Deep+Learning_1_page-0107.jpg\">\n"
   ]
  },
  {
   "cell_type": "markdown",
   "id": "a92b6907",
   "metadata": {
    "slideshow": {
     "slide_type": "slide"
    }
   },
   "source": [
    "<img src=\"https://raw.githubusercontent.com/pelaokano/inel_ML/main/Modulo7/1_image/3.+Fundamentos+Deep+Learning_1_page-0108.jpg\">\n"
   ]
  },
  {
   "cell_type": "markdown",
   "id": "5d253b2b",
   "metadata": {
    "slideshow": {
     "slide_type": "slide"
    }
   },
   "source": [
    "<img src=\"https://raw.githubusercontent.com/pelaokano/inel_ML/main/Modulo7/1_image/3.+Fundamentos+Deep+Learning_1_page-0109.jpg\">\n"
   ]
  },
  {
   "cell_type": "markdown",
   "id": "da24fb4b",
   "metadata": {
    "slideshow": {
     "slide_type": "slide"
    }
   },
   "source": [
    "<img src=\"https://raw.githubusercontent.com/pelaokano/inel_ML/main/Modulo7/1_image/3.+Fundamentos+Deep+Learning_1_page-0110.jpg\">\n"
   ]
  },
  {
   "cell_type": "markdown",
   "id": "4d1f8567",
   "metadata": {
    "slideshow": {
     "slide_type": "slide"
    }
   },
   "source": [
    "<img src=\"https://raw.githubusercontent.com/pelaokano/inel_ML/main/Modulo7/1_image/3.+Fundamentos+Deep+Learning_1_page-0111.jpg\">\n"
   ]
  },
  {
   "cell_type": "markdown",
   "id": "28bea9cf",
   "metadata": {
    "slideshow": {
     "slide_type": "slide"
    }
   },
   "source": [
    "<img src=\"https://raw.githubusercontent.com/pelaokano/inel_ML/main/Modulo7/1_image/3.+Fundamentos+Deep+Learning_1_page-0112.jpg\">\n"
   ]
  },
  {
   "cell_type": "markdown",
   "id": "a7cba025",
   "metadata": {
    "slideshow": {
     "slide_type": "slide"
    }
   },
   "source": [
    "<img src=\"https://raw.githubusercontent.com/pelaokano/inel_ML/main/Modulo7/1_image/3.+Fundamentos+Deep+Learning_1_page-0113.jpg\">\n"
   ]
  },
  {
   "cell_type": "markdown",
   "id": "120f162e",
   "metadata": {
    "slideshow": {
     "slide_type": "slide"
    }
   },
   "source": [
    "<img src=\"https://raw.githubusercontent.com/pelaokano/inel_ML/main/Modulo7/1_image/3.+Fundamentos+Deep+Learning_1_page-0114.jpg\">\n"
   ]
  },
  {
   "cell_type": "markdown",
   "id": "e29ce46f",
   "metadata": {
    "slideshow": {
     "slide_type": "slide"
    }
   },
   "source": [
    "<img src=\"https://raw.githubusercontent.com/pelaokano/inel_ML/main/Modulo7/1_image/3.+Fundamentos+Deep+Learning_1_page-0115.jpg\">\n"
   ]
  },
  {
   "cell_type": "markdown",
   "id": "846f47aa",
   "metadata": {
    "slideshow": {
     "slide_type": "slide"
    }
   },
   "source": [
    "<img src=\"https://raw.githubusercontent.com/pelaokano/inel_ML/main/Modulo7/1_image/3.+Fundamentos+Deep+Learning_1_page-0116.jpg\">\n"
   ]
  },
  {
   "cell_type": "markdown",
   "id": "66bb3d4b",
   "metadata": {
    "slideshow": {
     "slide_type": "slide"
    }
   },
   "source": [
    "<img src=\"https://raw.githubusercontent.com/pelaokano/inel_ML/main/Modulo7/1_image/3.+Fundamentos+Deep+Learning_1_page-0117.jpg\">\n"
   ]
  },
  {
   "cell_type": "markdown",
   "id": "04275081",
   "metadata": {
    "slideshow": {
     "slide_type": "slide"
    }
   },
   "source": [
    "<img src=\"https://raw.githubusercontent.com/pelaokano/inel_ML/main/Modulo7/1_image/3.+Fundamentos+Deep+Learning_1_page-0118.jpg\">\n"
   ]
  },
  {
   "cell_type": "markdown",
   "id": "91ee664f",
   "metadata": {
    "slideshow": {
     "slide_type": "slide"
    }
   },
   "source": [
    "<img src=\"https://raw.githubusercontent.com/pelaokano/inel_ML/main/Modulo7/1_image/3.+Fundamentos+Deep+Learning_1_page-0119.jpg\">\n"
   ]
  },
  {
   "cell_type": "markdown",
   "id": "41e2df8b",
   "metadata": {
    "slideshow": {
     "slide_type": "slide"
    }
   },
   "source": [
    "<img src=\"https://raw.githubusercontent.com/pelaokano/inel_ML/main/Modulo7/1_image/3.+Fundamentos+Deep+Learning_1_page-0120.jpg\">\n"
   ]
  },
  {
   "cell_type": "markdown",
   "id": "ec50c596",
   "metadata": {
    "slideshow": {
     "slide_type": "slide"
    }
   },
   "source": [
    "<img src=\"https://raw.githubusercontent.com/pelaokano/inel_ML/main/Modulo7/1_image/3.+Fundamentos+Deep+Learning_1_page-0121.jpg\">\n"
   ]
  },
  {
   "cell_type": "markdown",
   "id": "ac124149",
   "metadata": {
    "slideshow": {
     "slide_type": "slide"
    }
   },
   "source": [
    "<img src=\"https://raw.githubusercontent.com/pelaokano/inel_ML/main/Modulo7/1_image/3.+Fundamentos+Deep+Learning_1_page-0122.jpg\">\n"
   ]
  },
  {
   "cell_type": "markdown",
   "id": "4f22c343",
   "metadata": {
    "slideshow": {
     "slide_type": "slide"
    }
   },
   "source": [
    "<img src=\"https://raw.githubusercontent.com/pelaokano/inel_ML/main/Modulo7/1_image/3.+Fundamentos+Deep+Learning_1_page-0123.jpg\">\n"
   ]
  },
  {
   "cell_type": "markdown",
   "id": "7f78ffca",
   "metadata": {
    "slideshow": {
     "slide_type": "slide"
    }
   },
   "source": [
    "<img src=\"https://raw.githubusercontent.com/pelaokano/inel_ML/main/Modulo7/1_image/3.+Fundamentos+Deep+Learning_1_page-0124.jpg\">\n"
   ]
  },
  {
   "cell_type": "markdown",
   "id": "ee7144b3",
   "metadata": {
    "slideshow": {
     "slide_type": "slide"
    }
   },
   "source": [
    "<img src=\"https://raw.githubusercontent.com/pelaokano/inel_ML/main/Modulo7/1_image/3.+Fundamentos+Deep+Learning_1_page-0125.jpg\">\n"
   ]
  },
  {
   "cell_type": "markdown",
   "id": "8f5395cd",
   "metadata": {
    "slideshow": {
     "slide_type": "slide"
    }
   },
   "source": [
    "<img src=\"https://raw.githubusercontent.com/pelaokano/inel_ML/main/Modulo7/1_image/3.+Fundamentos+Deep+Learning_1_page-0126.jpg\">\n"
   ]
  },
  {
   "cell_type": "markdown",
   "id": "409a54d9",
   "metadata": {
    "slideshow": {
     "slide_type": "slide"
    }
   },
   "source": [
    "<img src=\"https://raw.githubusercontent.com/pelaokano/inel_ML/main/Modulo7/1_image/3.+Fundamentos+Deep+Learning_1_page-0127.jpg\">\n"
   ]
  },
  {
   "cell_type": "markdown",
   "id": "c05968e0",
   "metadata": {
    "slideshow": {
     "slide_type": "slide"
    }
   },
   "source": [
    "<img src=\"https://raw.githubusercontent.com/pelaokano/inel_ML/main/Modulo7/1_image/3.+Fundamentos+Deep+Learning_1_page-0128.jpg\">\n"
   ]
  },
  {
   "cell_type": "markdown",
   "id": "575b3e68",
   "metadata": {},
   "source": [
    "<h1 align=\"center\">Backpropagation</h1>"
   ]
  },
  {
   "cell_type": "markdown",
   "id": "a9097d93",
   "metadata": {
    "slideshow": {
     "slide_type": "slide"
    }
   },
   "source": [
    "<img src=\"https://raw.githubusercontent.com/pelaokano/inel_ML/main/Modulo7/1_image/3.+Fundamentos+Deep+Learning_1_page-0130.jpg\">\n"
   ]
  },
  {
   "cell_type": "markdown",
   "id": "046a7925",
   "metadata": {
    "slideshow": {
     "slide_type": "slide"
    }
   },
   "source": [
    "<img src=\"https://raw.githubusercontent.com/pelaokano/inel_ML/main/Modulo7/1_image/3.+Fundamentos+Deep+Learning_1_page-0131.jpg\">\n"
   ]
  },
  {
   "cell_type": "markdown",
   "id": "c86cd084",
   "metadata": {
    "slideshow": {
     "slide_type": "slide"
    }
   },
   "source": [
    "<img src=\"https://raw.githubusercontent.com/pelaokano/inel_ML/main/Modulo7/1_image/3.+Fundamentos+Deep+Learning_1_page-0132.jpg\">\n"
   ]
  },
  {
   "cell_type": "markdown",
   "id": "7d4f6674",
   "metadata": {
    "slideshow": {
     "slide_type": "slide"
    }
   },
   "source": [
    "<img src=\"https://raw.githubusercontent.com/pelaokano/inel_ML/main/Modulo7/1_image/3.+Fundamentos+Deep+Learning_1_page-0133.jpg\">\n"
   ]
  },
  {
   "cell_type": "markdown",
   "id": "ef5f0fad",
   "metadata": {
    "slideshow": {
     "slide_type": "slide"
    }
   },
   "source": [
    "<img src=\"https://raw.githubusercontent.com/pelaokano/inel_ML/main/Modulo7/1_image/3.+Fundamentos+Deep+Learning_1_page-0134.jpg\">\n"
   ]
  },
  {
   "cell_type": "markdown",
   "id": "46f2b58f",
   "metadata": {
    "slideshow": {
     "slide_type": "slide"
    }
   },
   "source": [
    "<img src=\"https://raw.githubusercontent.com/pelaokano/inel_ML/main/Modulo7/1_image/3.+Fundamentos+Deep+Learning_1_page-0135.jpg\">\n"
   ]
  },
  {
   "cell_type": "markdown",
   "id": "abd1985f",
   "metadata": {
    "slideshow": {
     "slide_type": "slide"
    }
   },
   "source": [
    "<img src=\"https://raw.githubusercontent.com/pelaokano/inel_ML/main/Modulo7/1_image/3.+Fundamentos+Deep+Learning_1_page-0136.jpg\">\n"
   ]
  },
  {
   "cell_type": "markdown",
   "id": "76484b15",
   "metadata": {
    "slideshow": {
     "slide_type": "slide"
    }
   },
   "source": [
    "<img src=\"https://raw.githubusercontent.com/pelaokano/inel_ML/main/Modulo7/1_image/3.+Fundamentos+Deep+Learning_1_page-0137.jpg\">\n"
   ]
  },
  {
   "cell_type": "markdown",
   "id": "365fbc2f",
   "metadata": {
    "slideshow": {
     "slide_type": "slide"
    }
   },
   "source": [
    "<img src=\"https://raw.githubusercontent.com/pelaokano/inel_ML/main/Modulo7/1_image/3.+Fundamentos+Deep+Learning_1_page-0138.jpg\">\n"
   ]
  },
  {
   "cell_type": "markdown",
   "id": "bf10f345",
   "metadata": {
    "slideshow": {
     "slide_type": "slide"
    }
   },
   "source": [
    "<img src=\"https://raw.githubusercontent.com/pelaokano/inel_ML/main/Modulo7/1_image/3.+Fundamentos+Deep+Learning_1_page-0139.jpg\">\n"
   ]
  },
  {
   "cell_type": "markdown",
   "id": "d7e5247e",
   "metadata": {
    "slideshow": {
     "slide_type": "slide"
    }
   },
   "source": [
    "<img src=\"https://raw.githubusercontent.com/pelaokano/inel_ML/main/Modulo7/1_image/3.+Fundamentos+Deep+Learning_1_page-0140.jpg\">\n"
   ]
  },
  {
   "cell_type": "markdown",
   "id": "ce88a266",
   "metadata": {
    "slideshow": {
     "slide_type": "slide"
    }
   },
   "source": [
    "<img src=\"https://raw.githubusercontent.com/pelaokano/inel_ML/main/Modulo7/1_image/3.+Fundamentos+Deep+Learning_1_page-0141.jpg\">\n"
   ]
  },
  {
   "cell_type": "markdown",
   "id": "db77f736",
   "metadata": {
    "slideshow": {
     "slide_type": "slide"
    }
   },
   "source": [
    "<img src=\"https://raw.githubusercontent.com/pelaokano/inel_ML/main/Modulo7/1_image/3.+Fundamentos+Deep+Learning_1_page-0142.jpg\">\n"
   ]
  },
  {
   "cell_type": "markdown",
   "id": "9c9b237b",
   "metadata": {
    "slideshow": {
     "slide_type": "slide"
    }
   },
   "source": [
    "<img src=\"https://raw.githubusercontent.com/pelaokano/inel_ML/main/Modulo7/1_image/3.+Fundamentos+Deep+Learning_1_page-0143.jpg\">\n"
   ]
  },
  {
   "cell_type": "markdown",
   "id": "7d281521",
   "metadata": {
    "slideshow": {
     "slide_type": "slide"
    }
   },
   "source": [
    "<img src=\"https://raw.githubusercontent.com/pelaokano/inel_ML/main/Modulo7/1_image/3.+Fundamentos+Deep+Learning_1_page-0144.jpg\">\n"
   ]
  },
  {
   "cell_type": "markdown",
   "id": "057b18f5",
   "metadata": {
    "slideshow": {
     "slide_type": "slide"
    }
   },
   "source": [
    "<img src=\"https://raw.githubusercontent.com/pelaokano/inel_ML/main/Modulo7/1_image/3.+Fundamentos+Deep+Learning_1_page-0145.jpg\">\n"
   ]
  },
  {
   "cell_type": "markdown",
   "id": "64bb2380",
   "metadata": {
    "slideshow": {
     "slide_type": "slide"
    }
   },
   "source": [
    "<img src=\"https://raw.githubusercontent.com/pelaokano/inel_ML/main/Modulo7/1_image/3.+Fundamentos+Deep+Learning_1_page-0146.jpg\">\n"
   ]
  },
  {
   "cell_type": "markdown",
   "id": "cbb5be67",
   "metadata": {
    "slideshow": {
     "slide_type": "slide"
    }
   },
   "source": [
    "<img src=\"https://raw.githubusercontent.com/pelaokano/inel_ML/main/Modulo7/1_image/3.+Fundamentos+Deep+Learning_1_page-0147.jpg\">\n"
   ]
  },
  {
   "cell_type": "markdown",
   "id": "e99e6730",
   "metadata": {
    "slideshow": {
     "slide_type": "slide"
    }
   },
   "source": [
    "<img src=\"https://raw.githubusercontent.com/pelaokano/inel_ML/main/Modulo7/1_image/3.+Fundamentos+Deep+Learning_1_page-0148.jpg\">\n"
   ]
  }
 ],
 "metadata": {
  "celltoolbar": "Slideshow",
  "kernelspec": {
   "display_name": "Python 3 (ipykernel)",
   "language": "python",
   "name": "python3"
  },
  "language_info": {
   "codemirror_mode": {
    "name": "ipython",
    "version": 3
   },
   "file_extension": ".py",
   "mimetype": "text/x-python",
   "name": "python",
   "nbconvert_exporter": "python",
   "pygments_lexer": "ipython3",
   "version": "3.9.12"
  }
 },
 "nbformat": 4,
 "nbformat_minor": 5
}
