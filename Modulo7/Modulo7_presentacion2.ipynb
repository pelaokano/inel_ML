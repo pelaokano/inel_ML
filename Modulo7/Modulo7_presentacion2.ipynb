{
 "cells": [
  {
   "cell_type": "markdown",
   "id": "a175be9d",
   "metadata": {
    "slideshow": {
     "slide_type": "slide"
    }
   },
   "source": [
    "<img src=\"https://raw.githubusercontent.com/pelaokano/inel_ML/main/Modulo4/logo_inel.png\">\n",
    "<h1 align=\"center\">Machine Learning Aplicado a la Ingeniería Eléctrica</h1>\n",
    "\n",
    "<h2 align=\"center\">Modulo 7: Introducción a las Redes Neuronales parte 2</h2>\n",
    "\n",
    "<h3 align=\"center\">Innstructor: Adrian Alarcón Becerra</h3>"
   ]
  },
  {
   "cell_type": "markdown",
   "id": "0eccbe22",
   "metadata": {
    "slideshow": {
     "slide_type": "slide"
    }
   },
   "source": [
    "<h1 align=\"center\">Diseño de Redes Neuronales</h1>"
   ]
  },
  {
   "cell_type": "markdown",
   "id": "c87a8ea1",
   "metadata": {
    "slideshow": {
     "slide_type": "slide"
    }
   },
   "source": [
    "<img src=\"https://raw.githubusercontent.com/pelaokano/inel_ML/main/Modulo7/2_image/3.+Fundamentos+Deep+Learning_page-0002.jpg\">\n"
   ]
  },
  {
   "cell_type": "markdown",
   "id": "40edad6e",
   "metadata": {
    "slideshow": {
     "slide_type": "slide"
    }
   },
   "source": [
    "<img src=\"https://raw.githubusercontent.com/pelaokano/inel_ML/main/Modulo7/2_image/3.+Fundamentos+Deep+Learning_page-0004.jpg\">\n"
   ]
  },
  {
   "cell_type": "markdown",
   "id": "ac704bd7",
   "metadata": {
    "slideshow": {
     "slide_type": "slide"
    }
   },
   "source": [
    "<img src=\"https://raw.githubusercontent.com/pelaokano/inel_ML/main/Modulo7/2_image/3.+Fundamentos+Deep+Learning_page-0005.jpg\">\n"
   ]
  },
  {
   "cell_type": "markdown",
   "id": "a7157ecf",
   "metadata": {
    "slideshow": {
     "slide_type": "slide"
    }
   },
   "source": [
    "<img src=\"https://raw.githubusercontent.com/pelaokano/inel_ML/main/Modulo7/2_image/3.+Fundamentos+Deep+Learning_page-0006.jpg\">\n"
   ]
  },
  {
   "cell_type": "markdown",
   "id": "da78023e",
   "metadata": {
    "slideshow": {
     "slide_type": "slide"
    }
   },
   "source": [
    "<h1 align=\"center\">Red Neuronal Artificial</h1>"
   ]
  },
  {
   "cell_type": "markdown",
   "id": "a4066b35",
   "metadata": {
    "slideshow": {
     "slide_type": "slide"
    }
   },
   "source": [
    "<img src=\"https://raw.githubusercontent.com/pelaokano/inel_ML/main/Modulo7/2_image/3.+Fundamentos+Deep+Learning_page-0008.jpg\">\n"
   ]
  },
  {
   "cell_type": "markdown",
   "id": "a9dc02ac",
   "metadata": {
    "slideshow": {
     "slide_type": "slide"
    }
   },
   "source": [
    "<img src=\"https://raw.githubusercontent.com/pelaokano/inel_ML/main/Modulo7/2_image/3.+Fundamentos+Deep+Learning_page-0009.jpg\">\n"
   ]
  },
  {
   "cell_type": "markdown",
   "id": "9cb03160",
   "metadata": {
    "slideshow": {
     "slide_type": "slide"
    }
   },
   "source": [
    "<img src=\"https://raw.githubusercontent.com/pelaokano/inel_ML/main/Modulo7/2_image/3.+Fundamentos+Deep+Learning_page-0010.jpg\">\n"
   ]
  },
  {
   "cell_type": "markdown",
   "id": "a38c38d8",
   "metadata": {
    "slideshow": {
     "slide_type": "slide"
    }
   },
   "source": [
    "<img src=\"https://raw.githubusercontent.com/pelaokano/inel_ML/main/Modulo7/2_image/3.+Fundamentos+Deep+Learning_page-0011.jpg\">\n"
   ]
  },
  {
   "cell_type": "markdown",
   "id": "1ce7bdb1",
   "metadata": {
    "slideshow": {
     "slide_type": "slide"
    }
   },
   "source": [
    "<img src=\"https://raw.githubusercontent.com/pelaokano/inel_ML/main/Modulo7/2_image/3.+Fundamentos+Deep+Learning_page-0012.jpg\">\n"
   ]
  },
  {
   "cell_type": "markdown",
   "id": "fbd00d6a",
   "metadata": {
    "slideshow": {
     "slide_type": "slide"
    }
   },
   "source": [
    "<img src=\"https://raw.githubusercontent.com/pelaokano/inel_ML/main/Modulo7/2_image/3.+Fundamentos+Deep+Learning_page-0013.jpg\">\n"
   ]
  },
  {
   "cell_type": "markdown",
   "id": "1b040674",
   "metadata": {
    "slideshow": {
     "slide_type": "slide"
    }
   },
   "source": [
    "<img src=\"https://raw.githubusercontent.com/pelaokano/inel_ML/main/Modulo7/2_image/3.+Fundamentos+Deep+Learning_page-0014.jpg\">\n"
   ]
  },
  {
   "cell_type": "markdown",
   "id": "a899e3ff",
   "metadata": {
    "slideshow": {
     "slide_type": "slide"
    }
   },
   "source": [
    "<img src=\"https://raw.githubusercontent.com/pelaokano/inel_ML/main/Modulo7/2_image/3.+Fundamentos+Deep+Learning_page-0015.jpg\">\n"
   ]
  },
  {
   "cell_type": "markdown",
   "id": "54afafb9",
   "metadata": {
    "slideshow": {
     "slide_type": "slide"
    }
   },
   "source": [
    "<img src=\"https://raw.githubusercontent.com/pelaokano/inel_ML/main/Modulo7/2_image/3.+Fundamentos+Deep+Learning_page-0016.jpg\">\n"
   ]
  },
  {
   "cell_type": "markdown",
   "id": "f1b7282c",
   "metadata": {
    "slideshow": {
     "slide_type": "slide"
    }
   },
   "source": [
    "<img src=\"https://raw.githubusercontent.com/pelaokano/inel_ML/main/Modulo7/2_image/3.+Fundamentos+Deep+Learning_page-0017.jpg\">\n"
   ]
  },
  {
   "cell_type": "markdown",
   "id": "f276bac9",
   "metadata": {
    "slideshow": {
     "slide_type": "slide"
    }
   },
   "source": [
    "<img src=\"https://raw.githubusercontent.com/pelaokano/inel_ML/main/Modulo7/2_image/3.+Fundamentos+Deep+Learning_page-0018.jpg\">\n"
   ]
  },
  {
   "cell_type": "markdown",
   "id": "1ff53713",
   "metadata": {
    "slideshow": {
     "slide_type": "slide"
    }
   },
   "source": [
    "<img src=\"https://raw.githubusercontent.com/pelaokano/inel_ML/main/Modulo7/2_image/3.+Fundamentos+Deep+Learning_page-0019.jpg\">\n"
   ]
  },
  {
   "cell_type": "markdown",
   "id": "a29d1470",
   "metadata": {
    "slideshow": {
     "slide_type": "slide"
    }
   },
   "source": [
    "<img src=\"https://raw.githubusercontent.com/pelaokano/inel_ML/main/Modulo7/2_image/3.+Fundamentos+Deep+Learning_page-0020.jpg\">\n"
   ]
  },
  {
   "cell_type": "markdown",
   "id": "d440e151",
   "metadata": {
    "slideshow": {
     "slide_type": "slide"
    }
   },
   "source": [
    "<img src=\"https://raw.githubusercontent.com/pelaokano/inel_ML/main/Modulo7/2_image/3.+Fundamentos+Deep+Learning_page-0021.jpg\">\n"
   ]
  },
  {
   "cell_type": "markdown",
   "id": "e75703cb",
   "metadata": {
    "slideshow": {
     "slide_type": "slide"
    }
   },
   "source": [
    "<img src=\"https://raw.githubusercontent.com/pelaokano/inel_ML/main/Modulo7/2_image/3.+Fundamentos+Deep+Learning_page-0022.jpg\">\n"
   ]
  },
  {
   "cell_type": "markdown",
   "id": "6f475524",
   "metadata": {
    "slideshow": {
     "slide_type": "slide"
    }
   },
   "source": [
    "<img src=\"https://raw.githubusercontent.com/pelaokano/inel_ML/main/Modulo7/2_image/3.+Fundamentos+Deep+Learning_page-0023.jpg\">\n"
   ]
  },
  {
   "cell_type": "markdown",
   "id": "43588a31",
   "metadata": {
    "slideshow": {
     "slide_type": "slide"
    }
   },
   "source": [
    "<img src=\"https://raw.githubusercontent.com/pelaokano/inel_ML/main/Modulo7/2_image/3.+Fundamentos+Deep+Learning_page-0024.jpg\">\n"
   ]
  },
  {
   "cell_type": "markdown",
   "id": "2b3b37ca",
   "metadata": {
    "slideshow": {
     "slide_type": "slide"
    }
   },
   "source": [
    "<img src=\"https://raw.githubusercontent.com/pelaokano/inel_ML/main/Modulo7/2_image/3.+Fundamentos+Deep+Learning_page-0025.jpg\">\n"
   ]
  },
  {
   "cell_type": "markdown",
   "id": "19a835c4",
   "metadata": {
    "slideshow": {
     "slide_type": "slide"
    }
   },
   "source": [
    "<img src=\"https://raw.githubusercontent.com/pelaokano/inel_ML/main/Modulo7/2_image/3.+Fundamentos+Deep+Learning_page-0026.jpg\">\n"
   ]
  },
  {
   "cell_type": "markdown",
   "id": "01c832fa",
   "metadata": {
    "slideshow": {
     "slide_type": "slide"
    }
   },
   "source": [
    "<img src=\"https://raw.githubusercontent.com/pelaokano/inel_ML/main/Modulo7/2_image/3.+Fundamentos+Deep+Learning_page-0027.jpg\">\n"
   ]
  },
  {
   "cell_type": "markdown",
   "id": "985a126e",
   "metadata": {
    "slideshow": {
     "slide_type": "slide"
    }
   },
   "source": [
    "<h1 align=\"center\">Gradiente Descendiente</h1>"
   ]
  },
  {
   "cell_type": "markdown",
   "id": "77a2a96f",
   "metadata": {
    "slideshow": {
     "slide_type": "slide"
    }
   },
   "source": [
    "<img src=\"https://raw.githubusercontent.com/pelaokano/inel_ML/main/Modulo7/2_image/3.+Fundamentos+Deep+Learning_page-0029.jpg\">\n"
   ]
  },
  {
   "cell_type": "markdown",
   "id": "28e4cc17",
   "metadata": {
    "slideshow": {
     "slide_type": "slide"
    }
   },
   "source": [
    "<img src=\"https://raw.githubusercontent.com/pelaokano/inel_ML/main/Modulo7/2_image/3.+Fundamentos+Deep+Learning_page-0030.jpg\">\n"
   ]
  },
  {
   "cell_type": "markdown",
   "id": "caacfe97",
   "metadata": {
    "slideshow": {
     "slide_type": "slide"
    }
   },
   "source": [
    "<img src=\"https://raw.githubusercontent.com/pelaokano/inel_ML/main/Modulo7/2_image/3.+Fundamentos+Deep+Learning_page-0031.jpg\">\n"
   ]
  },
  {
   "cell_type": "markdown",
   "id": "df98d342",
   "metadata": {
    "slideshow": {
     "slide_type": "slide"
    }
   },
   "source": [
    "<img src=\"https://raw.githubusercontent.com/pelaokano/inel_ML/main/Modulo7/2_image/3.+Fundamentos+Deep+Learning_page-0032.jpg\">\n"
   ]
  },
  {
   "cell_type": "markdown",
   "id": "0930ece2",
   "metadata": {
    "slideshow": {
     "slide_type": "slide"
    }
   },
   "source": [
    "<img src=\"https://raw.githubusercontent.com/pelaokano/inel_ML/main/Modulo7/2_image/3.+Fundamentos+Deep+Learning_page-0033.jpg\">\n"
   ]
  },
  {
   "cell_type": "markdown",
   "id": "04b445a9",
   "metadata": {
    "slideshow": {
     "slide_type": "slide"
    }
   },
   "source": [
    "<img src=\"https://raw.githubusercontent.com/pelaokano/inel_ML/main/Modulo7/2_image/3.+Fundamentos+Deep+Learning_page-0034.jpg\">\n"
   ]
  },
  {
   "cell_type": "markdown",
   "id": "c23d4942",
   "metadata": {
    "slideshow": {
     "slide_type": "slide"
    }
   },
   "source": [
    "<img src=\"https://raw.githubusercontent.com/pelaokano/inel_ML/main/Modulo7/2_image/3.+Fundamentos+Deep+Learning_page-0035.jpg\">\n"
   ]
  },
  {
   "cell_type": "markdown",
   "id": "c8981170",
   "metadata": {
    "slideshow": {
     "slide_type": "slide"
    }
   },
   "source": [
    "<img src=\"https://raw.githubusercontent.com/pelaokano/inel_ML/main/Modulo7/2_image/3.+Fundamentos+Deep+Learning_page-0036.jpg\">\n"
   ]
  },
  {
   "cell_type": "markdown",
   "id": "2bcbe2df",
   "metadata": {
    "slideshow": {
     "slide_type": "slide"
    }
   },
   "source": [
    "<img src=\"https://raw.githubusercontent.com/pelaokano/inel_ML/main/Modulo7/2_image/3.+Fundamentos+Deep+Learning_page-0037.jpg\">\n"
   ]
  },
  {
   "cell_type": "markdown",
   "id": "9b8dedcd",
   "metadata": {
    "slideshow": {
     "slide_type": "slide"
    }
   },
   "source": [
    "<img src=\"https://raw.githubusercontent.com/pelaokano/inel_ML/main/Modulo7/2_image/3.+Fundamentos+Deep+Learning_page-0038.jpg\">\n"
   ]
  },
  {
   "cell_type": "markdown",
   "id": "ab18a7e9",
   "metadata": {
    "slideshow": {
     "slide_type": "slide"
    }
   },
   "source": [
    "<img src=\"https://raw.githubusercontent.com/pelaokano/inel_ML/main/Modulo7/2_image/3.+Fundamentos+Deep+Learning_page-0039.jpg\">\n"
   ]
  },
  {
   "cell_type": "markdown",
   "id": "adbd890a",
   "metadata": {
    "slideshow": {
     "slide_type": "slide"
    }
   },
   "source": [
    "<img src=\"https://raw.githubusercontent.com/pelaokano/inel_ML/main/Modulo7/2_image/3.+Fundamentos+Deep+Learning_page-0040.jpg\">\n"
   ]
  },
  {
   "cell_type": "markdown",
   "id": "ec57eb10",
   "metadata": {
    "slideshow": {
     "slide_type": "slide"
    }
   },
   "source": [
    "<img src=\"https://raw.githubusercontent.com/pelaokano/inel_ML/main/Modulo7/2_image/3.+Fundamentos+Deep+Learning_page-0041.jpg\">\n"
   ]
  },
  {
   "cell_type": "markdown",
   "id": "3ce8b4a8",
   "metadata": {
    "slideshow": {
     "slide_type": "slide"
    }
   },
   "source": [
    "<img src=\"https://raw.githubusercontent.com/pelaokano/inel_ML/main/Modulo7/2_image/3.+Fundamentos+Deep+Learning_page-0042.jpg\">\n"
   ]
  },
  {
   "cell_type": "markdown",
   "id": "182969e5",
   "metadata": {
    "slideshow": {
     "slide_type": "slide"
    }
   },
   "source": [
    "<img src=\"https://raw.githubusercontent.com/pelaokano/inel_ML/main/Modulo7/2_image/3.+Fundamentos+Deep+Learning_page-0043.jpg\">\n"
   ]
  },
  {
   "cell_type": "markdown",
   "id": "b1947cf4",
   "metadata": {
    "slideshow": {
     "slide_type": "slide"
    }
   },
   "source": [
    "<img src=\"https://raw.githubusercontent.com/pelaokano/inel_ML/main/Modulo7/2_image/3.+Fundamentos+Deep+Learning_page-0044.jpg\">\n"
   ]
  },
  {
   "cell_type": "markdown",
   "id": "2bb544c9",
   "metadata": {
    "slideshow": {
     "slide_type": "slide"
    }
   },
   "source": [
    "<img src=\"https://raw.githubusercontent.com/pelaokano/inel_ML/main/Modulo7/2_image/3.+Fundamentos+Deep+Learning_page-0045.jpg\">\n"
   ]
  },
  {
   "cell_type": "markdown",
   "id": "823a2f12",
   "metadata": {
    "slideshow": {
     "slide_type": "slide"
    }
   },
   "source": [
    "<img src=\"https://raw.githubusercontent.com/pelaokano/inel_ML/main/Modulo7/2_image/3.+Fundamentos+Deep+Learning_page-0046.jpg\">\n"
   ]
  },
  {
   "cell_type": "markdown",
   "id": "d43704d7",
   "metadata": {
    "slideshow": {
     "slide_type": "slide"
    }
   },
   "source": [
    "<img src=\"https://raw.githubusercontent.com/pelaokano/inel_ML/main/Modulo7/2_image/3.+Fundamentos+Deep+Learning_page-0047.jpg\">\n"
   ]
  },
  {
   "cell_type": "markdown",
   "id": "93cc2d7d",
   "metadata": {
    "slideshow": {
     "slide_type": "slide"
    }
   },
   "source": [
    "<h1 align=\"center\">Perceptron Multicapa / Redes Neuronales</h1>"
   ]
  },
  {
   "cell_type": "markdown",
   "id": "3b4f14af",
   "metadata": {
    "slideshow": {
     "slide_type": "slide"
    }
   },
   "source": [
    "<img src=\"https://raw.githubusercontent.com/pelaokano/inel_ML/main/Modulo7/2_image/3.+Fundamentos+Deep+Learning_page-0049.jpg\">\n"
   ]
  },
  {
   "cell_type": "markdown",
   "id": "b501a0b0",
   "metadata": {
    "slideshow": {
     "slide_type": "slide"
    }
   },
   "source": [
    "<img src=\"https://raw.githubusercontent.com/pelaokano/inel_ML/main/Modulo7/2_image/3.+Fundamentos+Deep+Learning_page-0050.jpg\">\n"
   ]
  },
  {
   "cell_type": "markdown",
   "id": "b0e2d581",
   "metadata": {
    "slideshow": {
     "slide_type": "slide"
    }
   },
   "source": [
    "<img src=\"https://raw.githubusercontent.com/pelaokano/inel_ML/main/Modulo7/2_image/3.+Fundamentos+Deep+Learning_page-0051.jpg\">\n"
   ]
  },
  {
   "cell_type": "markdown",
   "id": "968b95c9",
   "metadata": {
    "slideshow": {
     "slide_type": "slide"
    }
   },
   "source": [
    "<img src=\"https://raw.githubusercontent.com/pelaokano/inel_ML/main/Modulo7/2_image/3.+Fundamentos+Deep+Learning_page-0052.jpg\">\n"
   ]
  },
  {
   "cell_type": "markdown",
   "id": "4800ad11",
   "metadata": {
    "slideshow": {
     "slide_type": "slide"
    }
   },
   "source": [
    "<img src=\"https://raw.githubusercontent.com/pelaokano/inel_ML/main/Modulo7/2_image/3.+Fundamentos+Deep+Learning_page-0053.jpg\">\n"
   ]
  },
  {
   "cell_type": "markdown",
   "id": "36cf5468",
   "metadata": {
    "slideshow": {
     "slide_type": "slide"
    }
   },
   "source": [
    "<img src=\"https://raw.githubusercontent.com/pelaokano/inel_ML/main/Modulo7/2_image/3.+Fundamentos+Deep+Learning_page-0054.jpg\">\n"
   ]
  },
  {
   "cell_type": "markdown",
   "id": "ab9c913c",
   "metadata": {
    "slideshow": {
     "slide_type": "slide"
    }
   },
   "source": [
    "<img src=\"https://raw.githubusercontent.com/pelaokano/inel_ML/main/Modulo7/2_image/3.+Fundamentos+Deep+Learning_page-0055.jpg\">\n"
   ]
  },
  {
   "cell_type": "markdown",
   "id": "04850214",
   "metadata": {
    "slideshow": {
     "slide_type": "slide"
    }
   },
   "source": [
    "<img src=\"https://raw.githubusercontent.com/pelaokano/inel_ML/main/Modulo7/2_image/3.+Fundamentos+Deep+Learning_page-0056.jpg\">\n"
   ]
  },
  {
   "cell_type": "markdown",
   "id": "830164da",
   "metadata": {
    "slideshow": {
     "slide_type": "slide"
    }
   },
   "source": [
    "<img src=\"https://raw.githubusercontent.com/pelaokano/inel_ML/main/Modulo7/2_image/3.+Fundamentos+Deep+Learning_page-0057.jpg\">\n"
   ]
  },
  {
   "cell_type": "markdown",
   "id": "dd3dc8b6",
   "metadata": {
    "slideshow": {
     "slide_type": "slide"
    }
   },
   "source": [
    "<img src=\"https://raw.githubusercontent.com/pelaokano/inel_ML/main/Modulo7/2_image/3.+Fundamentos+Deep+Learning_page-0058.jpg\">\n"
   ]
  },
  {
   "cell_type": "markdown",
   "id": "d3e4302c",
   "metadata": {
    "slideshow": {
     "slide_type": "slide"
    }
   },
   "source": [
    "<h1 align=\"center\">Redes Feed Forward y Recurrent Neural Networks</h1>"
   ]
  },
  {
   "cell_type": "markdown",
   "id": "f0d60418",
   "metadata": {
    "slideshow": {
     "slide_type": "slide"
    }
   },
   "source": [
    "<img src=\"https://raw.githubusercontent.com/pelaokano/inel_ML/main/Modulo7/2_image/3.+Fundamentos+Deep+Learning_page-0060.jpg\">\n"
   ]
  },
  {
   "cell_type": "markdown",
   "id": "e0789c42",
   "metadata": {
    "slideshow": {
     "slide_type": "slide"
    }
   },
   "source": [
    "<img src=\"https://raw.githubusercontent.com/pelaokano/inel_ML/main/Modulo7/2_image/3.+Fundamentos+Deep+Learning_page-0061.jpg\">\n"
   ]
  },
  {
   "cell_type": "markdown",
   "id": "0650d59e",
   "metadata": {
    "slideshow": {
     "slide_type": "slide"
    }
   },
   "source": [
    "<img src=\"https://raw.githubusercontent.com/pelaokano/inel_ML/main/Modulo7/2_image/3.+Fundamentos+Deep+Learning_page-0062.jpg\">\n"
   ]
  },
  {
   "cell_type": "markdown",
   "id": "b9d05571",
   "metadata": {
    "slideshow": {
     "slide_type": "slide"
    }
   },
   "source": [
    "<h1 align=\"center\">Pesos, parámetros sesgo y activación</h1>"
   ]
  },
  {
   "cell_type": "markdown",
   "id": "ae24c737",
   "metadata": {
    "slideshow": {
     "slide_type": "slide"
    }
   },
   "source": [
    "<img src=\"https://raw.githubusercontent.com/pelaokano/inel_ML/main/Modulo7/2_image/3.+Fundamentos+Deep+Learning_page-0064.jpg\">\n"
   ]
  },
  {
   "cell_type": "markdown",
   "id": "edea6bc8",
   "metadata": {
    "slideshow": {
     "slide_type": "slide"
    }
   },
   "source": [
    "<img src=\"https://raw.githubusercontent.com/pelaokano/inel_ML/main/Modulo7/2_image/3.+Fundamentos+Deep+Learning_page-0065.jpg\">\n"
   ]
  },
  {
   "cell_type": "markdown",
   "id": "04a14a49",
   "metadata": {
    "slideshow": {
     "slide_type": "slide"
    }
   },
   "source": [
    "<img src=\"https://raw.githubusercontent.com/pelaokano/inel_ML/main/Modulo7/2_image/3.+Fundamentos+Deep+Learning_page-0066.jpg\">\n"
   ]
  },
  {
   "cell_type": "markdown",
   "id": "06cffd97",
   "metadata": {
    "slideshow": {
     "slide_type": "slide"
    }
   },
   "source": [
    "<img src=\"https://raw.githubusercontent.com/pelaokano/inel_ML/main/Modulo7/2_image/3.+Fundamentos+Deep+Learning_page-0067.jpg\">\n"
   ]
  },
  {
   "cell_type": "markdown",
   "id": "1d5e467b",
   "metadata": {
    "slideshow": {
     "slide_type": "slide"
    }
   },
   "source": [
    "<img src=\"https://raw.githubusercontent.com/pelaokano/inel_ML/main/Modulo7/2_image/3.+Fundamentos+Deep+Learning_page-0068.jpg\">\n"
   ]
  },
  {
   "cell_type": "markdown",
   "id": "6232a300",
   "metadata": {
    "slideshow": {
     "slide_type": "slide"
    }
   },
   "source": [
    "<img src=\"https://raw.githubusercontent.com/pelaokano/inel_ML/main/Modulo7/2_image/3.+Fundamentos+Deep+Learning_page-0069.jpg\">\n"
   ]
  },
  {
   "cell_type": "markdown",
   "id": "67aed721",
   "metadata": {
    "slideshow": {
     "slide_type": "slide"
    }
   },
   "source": [
    "<img src=\"https://raw.githubusercontent.com/pelaokano/inel_ML/main/Modulo7/2_image/3.+Fundamentos+Deep+Learning_page-0070.jpg\">\n"
   ]
  },
  {
   "cell_type": "markdown",
   "id": "86808572",
   "metadata": {
    "slideshow": {
     "slide_type": "slide"
    }
   },
   "source": [
    "<img src=\"https://raw.githubusercontent.com/pelaokano/inel_ML/main/Modulo7/2_image/3.+Fundamentos+Deep+Learning_page-0071.jpg\">\n"
   ]
  },
  {
   "cell_type": "markdown",
   "id": "3dc059b0",
   "metadata": {
    "slideshow": {
     "slide_type": "slide"
    }
   },
   "source": [
    "<img src=\"https://raw.githubusercontent.com/pelaokano/inel_ML/main/Modulo7/2_image/3.+Fundamentos+Deep+Learning_page-0072.jpg\">\n"
   ]
  },
  {
   "cell_type": "markdown",
   "id": "32e7164f",
   "metadata": {
    "slideshow": {
     "slide_type": "slide"
    }
   },
   "source": [
    "<img src=\"https://raw.githubusercontent.com/pelaokano/inel_ML/main/Modulo7/2_image/3.+Fundamentos+Deep+Learning_page-0073.jpg\">\n"
   ]
  },
  {
   "cell_type": "markdown",
   "id": "74ae0519",
   "metadata": {
    "slideshow": {
     "slide_type": "slide"
    }
   },
   "source": [
    "<h1 align=\"center\">Softmax</h1>"
   ]
  },
  {
   "cell_type": "markdown",
   "id": "5ca7b9e0",
   "metadata": {
    "slideshow": {
     "slide_type": "slide"
    }
   },
   "source": [
    "<img src=\"https://raw.githubusercontent.com/pelaokano/inel_ML/main/Modulo7/2_image/3.+Fundamentos+Deep+Learning_page-0075.jpg\">\n"
   ]
  },
  {
   "cell_type": "markdown",
   "id": "be77c2cd",
   "metadata": {
    "slideshow": {
     "slide_type": "slide"
    }
   },
   "source": [
    "<img src=\"https://raw.githubusercontent.com/pelaokano/inel_ML/main/Modulo7/2_image/3.+Fundamentos+Deep+Learning_page-0076.jpg\">\n"
   ]
  },
  {
   "cell_type": "markdown",
   "id": "de1a8303",
   "metadata": {
    "slideshow": {
     "slide_type": "slide"
    }
   },
   "source": [
    "<img src=\"https://raw.githubusercontent.com/pelaokano/inel_ML/main/Modulo7/2_image/3.+Fundamentos+Deep+Learning_page-0077.jpg\">\n"
   ]
  },
  {
   "cell_type": "markdown",
   "id": "8abe51f5",
   "metadata": {
    "slideshow": {
     "slide_type": "slide"
    }
   },
   "source": [
    "<img src=\"https://raw.githubusercontent.com/pelaokano/inel_ML/main/Modulo7/2_image/3.+Fundamentos+Deep+Learning_page-0078.jpg\">\n"
   ]
  },
  {
   "cell_type": "markdown",
   "id": "d107489c",
   "metadata": {
    "slideshow": {
     "slide_type": "slide"
    }
   },
   "source": [
    "<img src=\"https://raw.githubusercontent.com/pelaokano/inel_ML/main/Modulo7/2_image/3.+Fundamentos+Deep+Learning_page-0079.jpg\">\n"
   ]
  },
  {
   "cell_type": "markdown",
   "id": "226a3df4",
   "metadata": {
    "slideshow": {
     "slide_type": "slide"
    }
   },
   "source": [
    "<img src=\"https://raw.githubusercontent.com/pelaokano/inel_ML/main/Modulo7/2_image/3.+Fundamentos+Deep+Learning_page-0080.jpg\">\n"
   ]
  },
  {
   "cell_type": "markdown",
   "id": "965e23bd",
   "metadata": {
    "slideshow": {
     "slide_type": "slide"
    }
   },
   "source": [
    "<h1 align=\"center\">Gradiente descendiente y Backpropagation</h1>"
   ]
  },
  {
   "cell_type": "markdown",
   "id": "bf882887",
   "metadata": {
    "slideshow": {
     "slide_type": "slide"
    }
   },
   "source": [
    "<img src=\"https://raw.githubusercontent.com/pelaokano/inel_ML/main/Modulo7/2_image/3.+Fundamentos+Deep+Learning_page-0082.jpg\">\n"
   ]
  },
  {
   "cell_type": "markdown",
   "id": "a23e6606",
   "metadata": {
    "slideshow": {
     "slide_type": "slide"
    }
   },
   "source": [
    "<h1 align=\"center\">Backpropagation</h1>"
   ]
  },
  {
   "cell_type": "markdown",
   "id": "88020311",
   "metadata": {
    "slideshow": {
     "slide_type": "slide"
    }
   },
   "source": [
    "<img src=\"https://raw.githubusercontent.com/pelaokano/inel_ML/main/Modulo7/2_image/3.+Fundamentos+Deep+Learning_page-0084.jpg\">\n"
   ]
  },
  {
   "cell_type": "markdown",
   "id": "0cc1e515",
   "metadata": {
    "slideshow": {
     "slide_type": "slide"
    }
   },
   "source": [
    "<img src=\"https://raw.githubusercontent.com/pelaokano/inel_ML/main/Modulo7/2_image/3.+Fundamentos+Deep+Learning_page-0085.jpg\">\n"
   ]
  },
  {
   "cell_type": "markdown",
   "id": "14392a7b",
   "metadata": {
    "slideshow": {
     "slide_type": "slide"
    }
   },
   "source": [
    "<img src=\"https://raw.githubusercontent.com/pelaokano/inel_ML/main/Modulo7/2_image/3.+Fundamentos+Deep+Learning_page-0086.jpg\">\n"
   ]
  },
  {
   "cell_type": "markdown",
   "id": "bceaccec",
   "metadata": {
    "slideshow": {
     "slide_type": "slide"
    }
   },
   "source": [
    "<img src=\"https://raw.githubusercontent.com/pelaokano/inel_ML/main/Modulo7/2_image/3.+Fundamentos+Deep+Learning_page-0087.jpg\">\n"
   ]
  },
  {
   "cell_type": "markdown",
   "id": "26e80882",
   "metadata": {
    "slideshow": {
     "slide_type": "slide"
    }
   },
   "source": [
    "<img src=\"https://raw.githubusercontent.com/pelaokano/inel_ML/main/Modulo7/2_image/3.+Fundamentos+Deep+Learning_page-0088.jpg\">\n"
   ]
  },
  {
   "cell_type": "markdown",
   "id": "ae2646d5",
   "metadata": {
    "slideshow": {
     "slide_type": "slide"
    }
   },
   "source": [
    "<img src=\"https://raw.githubusercontent.com/pelaokano/inel_ML/main/Modulo7/2_image/3.+Fundamentos+Deep+Learning_page-0089.jpg\">\n"
   ]
  },
  {
   "cell_type": "markdown",
   "id": "3d055724",
   "metadata": {
    "slideshow": {
     "slide_type": "slide"
    }
   },
   "source": [
    "<img src=\"https://raw.githubusercontent.com/pelaokano/inel_ML/main/Modulo7/2_image/3.+Fundamentos+Deep+Learning_page-0090.jpg\">\n"
   ]
  },
  {
   "cell_type": "markdown",
   "id": "2c277f06",
   "metadata": {
    "slideshow": {
     "slide_type": "slide"
    }
   },
   "source": [
    "<img src=\"https://raw.githubusercontent.com/pelaokano/inel_ML/main/Modulo7/2_image/3.+Fundamentos+Deep+Learning_page-0091.jpg\">\n"
   ]
  },
  {
   "cell_type": "markdown",
   "id": "94e75de0",
   "metadata": {
    "slideshow": {
     "slide_type": "slide"
    }
   },
   "source": [
    "<img src=\"https://raw.githubusercontent.com/pelaokano/inel_ML/main/Modulo7/2_image/3.+Fundamentos+Deep+Learning_page-0092.jpg\">\n"
   ]
  },
  {
   "cell_type": "markdown",
   "id": "fc6312f9",
   "metadata": {
    "slideshow": {
     "slide_type": "slide"
    }
   },
   "source": [
    "<img src=\"https://raw.githubusercontent.com/pelaokano/inel_ML/main/Modulo7/2_image/3.+Fundamentos+Deep+Learning_page-0093.jpg\">\n"
   ]
  },
  {
   "cell_type": "markdown",
   "id": "0c2b0f19",
   "metadata": {
    "slideshow": {
     "slide_type": "slide"
    }
   },
   "source": [
    "<img src=\"https://raw.githubusercontent.com/pelaokano/inel_ML/main/Modulo7/2_image/3.+Fundamentos+Deep+Learning_page-0094.jpg\">\n"
   ]
  },
  {
   "cell_type": "markdown",
   "id": "c70b81ad",
   "metadata": {
    "slideshow": {
     "slide_type": "slide"
    }
   },
   "source": [
    "<img src=\"https://raw.githubusercontent.com/pelaokano/inel_ML/main/Modulo7/2_image/3.+Fundamentos+Deep+Learning_page-0095.jpg\">\n"
   ]
  },
  {
   "cell_type": "markdown",
   "id": "18ec7a73",
   "metadata": {
    "slideshow": {
     "slide_type": "slide"
    }
   },
   "source": [
    "<img src=\"https://raw.githubusercontent.com/pelaokano/inel_ML/main/Modulo7/2_image/3.+Fundamentos+Deep+Learning_page-0096.jpg\">\n"
   ]
  },
  {
   "cell_type": "markdown",
   "id": "7fba4a82",
   "metadata": {
    "slideshow": {
     "slide_type": "slide"
    }
   },
   "source": [
    "<img src=\"https://raw.githubusercontent.com/pelaokano/inel_ML/main/Modulo7/2_image/3.+Fundamentos+Deep+Learning_page-0097.jpg\">\n"
   ]
  },
  {
   "cell_type": "markdown",
   "id": "3964a689",
   "metadata": {
    "slideshow": {
     "slide_type": "slide"
    }
   },
   "source": [
    "<h1 align=\"center\">Conclusiones</h1>"
   ]
  },
  {
   "cell_type": "markdown",
   "id": "43e9c586",
   "metadata": {
    "slideshow": {
     "slide_type": "slide"
    }
   },
   "source": [
    "<img src=\"https://raw.githubusercontent.com/pelaokano/inel_ML/main/Modulo7/2_image/3.+Fundamentos+Deep+Learning_page-0099.jpg\">\n"
   ]
  }
 ],
 "metadata": {
  "celltoolbar": "Slideshow",
  "kernelspec": {
   "display_name": "Python 3 (ipykernel)",
   "language": "python",
   "name": "python3"
  },
  "language_info": {
   "codemirror_mode": {
    "name": "ipython",
    "version": 3
   },
   "file_extension": ".py",
   "mimetype": "text/x-python",
   "name": "python",
   "nbconvert_exporter": "python",
   "pygments_lexer": "ipython3",
   "version": "3.9.12"
  }
 },
 "nbformat": 4,
 "nbformat_minor": 5
}
