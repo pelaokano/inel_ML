{
  "nbformat": 4,
  "nbformat_minor": 0,
  "metadata": {
    "colab": {
      "name": "04_Redes_neuronales_densamente_conectadas.ipynb",
      "provenance": []
    },
    "kernelspec": {
      "name": "python3",
      "display_name": "Python 3"
    },
    "accelerator": "GPU"
  },
  "cells": [
    {
      "cell_type": "markdown",
      "metadata": {
        "id": "0M4J-yXFSOTa",
        "colab_type": "text"
      },
      "source": [
        "# 04. Redes neuronales densamente conectadas\n",
        "[**Python Deep Learning** Introducción práctica con Keras y TensorFlow 2. Jordi Torres. Editorial Marcombo ISBN: 9788426728289 ](https://www.marcombo.com/python-deep-learning-9788426728289/)"
      ]
    },
    {
      "cell_type": "markdown",
      "metadata": {
        "id": "ryl6ALGLSdUP",
        "colab_type": "text"
      },
      "source": [
        "## Inicializaciones"
      ]
    },
    {
      "cell_type": "code",
      "metadata": {
        "id": "s3KzA9ZUuLRB",
        "colab_type": "code",
        "outputId": "5e07b15d-84e7-4f5d-e2a0-652d3d5b0524",
        "colab": {
          "base_uri": "https://localhost:8080/",
          "height": 52
        }
      },
      "source": [
        "try:\n",
        "  # %tensorflow_version solo existe en Colab.\n",
        "  %tensorflow_version 2.x\n",
        "except Exception:\n",
        "  pass\n",
        "\n",
        "import tensorflow as tf\n",
        "import numpy as np\n",
        "import matplotlib.pyplot as plt\n",
        "\n",
        "print(tf.__version__)"
      ],
      "execution_count": 1,
      "outputs": [
        {
          "output_type": "stream",
          "text": [
            "TensorFlow 2.x selected.\n",
            "2.1.0-rc1\n"
          ],
          "name": "stdout"
        }
      ]
    },
    {
      "cell_type": "markdown",
      "metadata": {
        "id": "w2B0J5r5SzrT",
        "colab_type": "text"
      },
      "source": [
        "## 4.1 Caso de estudio: reconocimiento de dígitos"
      ]
    },
    {
      "cell_type": "code",
      "metadata": {
        "id": "715hLvWqwPrJ",
        "colab_type": "code",
        "colab": {
          "base_uri": "https://localhost:8080/",
          "height": 52
        },
        "outputId": "4ebe1083-7586-427d-a9d1-4a12f5184391"
      },
      "source": [
        "mnist = tf.keras.datasets.mnist\n",
        "\n",
        "(x_train, y_train), (x_test, y_test) = mnist.load_data()"
      ],
      "execution_count": 2,
      "outputs": [
        {
          "output_type": "stream",
          "text": [
            "Downloading data from https://storage.googleapis.com/tensorflow/tf-keras-datasets/mnist.npz\n",
            "11493376/11490434 [==============================] - 0s 0us/step\n"
          ],
          "name": "stdout"
        }
      ]
    },
    {
      "cell_type": "code",
      "metadata": {
        "id": "RGWzf-U5TBhm",
        "colab_type": "code",
        "outputId": "5e25eba7-da8a-484a-de89-86d8d48015b0",
        "colab": {
          "base_uri": "https://localhost:8080/",
          "height": 282
        }
      },
      "source": [
        "plt.imshow(x_train[8], cmap=plt.cm.binary)\n",
        "print(y_train[8])"
      ],
      "execution_count": 3,
      "outputs": [
        {
          "output_type": "stream",
          "text": [
            "1\n"
          ],
          "name": "stdout"
        },
        {
          "output_type": "display_data",
          "data": {
            "image/png": "[encoded data removed]",
            "text/plain": [
              "<Figure size 432x288 with 1 Axes>"
            ]
          },
          "metadata": {
            "tags": []
          }
        }
      ]
    },
    {
      "cell_type": "code",
      "metadata": {
        "id": "OOVttVw2TMuU",
        "colab_type": "code",
        "outputId": "64d1edfa-5004-4ac1-ed22-5e727e096a6d",
        "colab": {
          "base_uri": "https://localhost:8080/",
          "height": 501
        }
      },
      "source": [
        "np.set_printoptions(precision=2, suppress=True, linewidth=120)\n",
        "print(np.matrix(x_train[8]))"
      ],
      "execution_count": 4,
      "outputs": [
        {
          "output_type": "stream",
          "text": [
            "[[  0   0   0   0   0   0   0   0   0   0   0   0   0   0   0   0   0   0   0   0   0   0   0   0   0   0   0   0]\n",
            " [  0   0   0   0   0   0   0   0   0   0   0   0   0   0   0   0   0   0   0   0   0   0   0   0   0   0   0   0]\n",
            " [  0   0   0   0   0   0   0   0   0   0   0   0   0   0   0   0   0   0   0   0   0   0   0   0   0   0   0   0]\n",
            " [  0   0   0   0   0   0   0   0   0   0   0   0   0   0   0   0   0   0   0   0   0   0   0   0   0   0   0   0]\n",
            " [  0   0   0   0   0   0   0   0   0   0   0   0   0   0   0   0   0   0   0   0   0   0   0   0   0   0   0   0]\n",
            " [  0   0   0   0   0   0   0   0   0   0   0   0   5  63 197   0   0   0   0   0   0   0   0   0   0   0   0   0]\n",
            " [  0   0   0   0   0   0   0   0   0   0   0   0  20 254 230  24   0   0   0   0   0   0   0   0   0   0   0   0]\n",
            " [  0   0   0   0   0   0   0   0   0   0   0   0  20 254 254  48   0   0   0   0   0   0   0   0   0   0   0   0]\n",
            " [  0   0   0   0   0   0   0   0   0   0   0   0  20 254 255  48   0   0   0   0   0   0   0   0   0   0   0   0]\n",
            " [  0   0   0   0   0   0   0   0   0   0   0   0  20 254 254  57   0   0   0   0   0   0   0   0   0   0   0   0]\n",
            " [  0   0   0   0   0   0   0   0   0   0   0   0  20 254 254 108   0   0   0   0   0   0   0   0   0   0   0   0]\n",
            " [  0   0   0   0   0   0   0   0   0   0   0   0  16 239 254 143   0   0   0   0   0   0   0   0   0   0   0   0]\n",
            " [  0   0   0   0   0   0   0   0   0   0   0   0   0 178 254 143   0   0   0   0   0   0   0   0   0   0   0   0]\n",
            " [  0   0   0   0   0   0   0   0   0   0   0   0   0 178 254 143   0   0   0   0   0   0   0   0   0   0   0   0]\n",
            " [  0   0   0   0   0   0   0   0   0   0   0   0   0 178 254 162   0   0   0   0   0   0   0   0   0   0   0   0]\n",
            " [  0   0   0   0   0   0   0   0   0   0   0   0   0 178 254 240   0   0   0   0   0   0   0   0   0   0   0   0]\n",
            " [  0   0   0   0   0   0   0   0   0   0   0   0   0 113 254 240   0   0   0   0   0   0   0   0   0   0   0   0]\n",
            " [  0   0   0   0   0   0   0   0   0   0   0   0   0  83 254 245  31   0   0   0   0   0   0   0   0   0   0   0]\n",
            " [  0   0   0   0   0   0   0   0   0   0   0   0   0  79 254 246  38   0   0   0   0   0   0   0   0   0   0   0]\n",
            " [  0   0   0   0   0   0   0   0   0   0   0   0   0   0 214 254 150   0   0   0   0   0   0   0   0   0   0   0]\n",
            " [  0   0   0   0   0   0   0   0   0   0   0   0   0   0 144 241   8   0   0   0   0   0   0   0   0   0   0   0]\n",
            " [  0   0   0   0   0   0   0   0   0   0   0   0   0   0 144 240   2   0   0   0   0   0   0   0   0   0   0   0]\n",
            " [  0   0   0   0   0   0   0   0   0   0   0   0   0   0 144 254  82   0   0   0   0   0   0   0   0   0   0   0]\n",
            " [  0   0   0   0   0   0   0   0   0   0   0   0   0   0 230 247  40   0   0   0   0   0   0   0   0   0   0   0]\n",
            " [  0   0   0   0   0   0   0   0   0   0   0   0   0   0 168 209  31   0   0   0   0   0   0   0   0   0   0   0]\n",
            " [  0   0   0   0   0   0   0   0   0   0   0   0   0   0   0   0   0   0   0   0   0   0   0   0   0   0   0   0]\n",
            " [  0   0   0   0   0   0   0   0   0   0   0   0   0   0   0   0   0   0   0   0   0   0   0   0   0   0   0   0]\n",
            " [  0   0   0   0   0   0   0   0   0   0   0   0   0   0   0   0   0   0   0   0   0   0   0   0   0   0   0   0]]\n"
          ],
          "name": "stdout"
        }
      ]
    },
    {
      "cell_type": "markdown",
      "metadata": {
        "id": "lqciPxRNU99j",
        "colab_type": "text"
      },
      "source": [
        "## 4.4 Función de activación softmax"
      ]
    },
    {
      "cell_type": "markdown",
      "metadata": {
        "id": "eY_9fDfkVExh",
        "colab_type": "text"
      },
      "source": [
        "Modelo con una capa softmax para visualizar los modelos aprendidos"
      ]
    },
    {
      "cell_type": "code",
      "metadata": {
        "id": "wpaiBuKeTNGr",
        "colab_type": "code",
        "outputId": "db2b0d59-96e9-4cc9-d10e-fe31f6490202",
        "colab": {
          "base_uri": "https://localhost:8080/",
          "height": 259
        }
      },
      "source": [
        "x_train = x_train.reshape((60000, 784))\n",
        "x_test = x_test.reshape((10000, 784))\n",
        "x_train, x_test = x_train / 255.0, x_test / 255.0\n",
        "\n",
        "model = tf.keras.models.Sequential([\n",
        "  tf.keras.layers.Dense(10, activation='softmax', name=\"FC1\", input_shape=(784,))\n",
        "])\n",
        "model.summary()\n",
        "\n",
        "model.compile(optimizer='adam',\n",
        "              loss='sparse_categorical_crossentropy',\n",
        "              metrics=['accuracy'])\n",
        "\n",
        "model.fit(x_train, y_train, epochs=1)\n",
        "\n",
        "model.evaluate(x_test,  y_test, verbose=2)"
      ],
      "execution_count": 5,
      "outputs": [
        {
          "output_type": "stream",
          "text": [
            "Model: \"sequential\"\n",
            "_________________________________________________________________\n",
            "Layer (type)                 Output Shape              Param #   \n",
            "=================================================================\n",
            "FC1 (Dense)                  (None, 10)                7850      \n",
            "=================================================================\n",
            "Total params: 7,850\n",
            "Trainable params: 7,850\n",
            "Non-trainable params: 0\n",
            "_________________________________________________________________\n",
            "Train on 60000 samples\n",
            "60000/60000 [==============================] - 6s 98us/sample - loss: 0.4711 - accuracy: 0.8768\n",
            "10000/10000 - 1s - loss: 0.3086 - accuracy: 0.9162\n"
          ],
          "name": "stdout"
        },
        {
          "output_type": "execute_result",
          "data": {
            "text/plain": [
              "[0.3085567438960075, 0.9162]"
            ]
          },
          "metadata": {
            "tags": []
          },
          "execution_count": 5
        }
      ]
    },
    {
      "cell_type": "markdown",
      "metadata": {
        "id": "Nhi-XHXoVqpn",
        "colab_type": "text"
      },
      "source": [
        "Figura 4.14 Modelo aprendido correspondiente al número 0"
      ]
    },
    {
      "cell_type": "code",
      "metadata": {
        "id": "2L96kEYlVSdQ",
        "colab_type": "code",
        "outputId": "90a74549-adeb-49ff-c41b-693508130ee1",
        "colab": {
          "base_uri": "https://localhost:8080/",
          "height": 282
        }
      },
      "source": [
        "w = model.get_weights()\n",
        "w = np.asarray(w[0])\n",
        "plt.figure()\n",
        "plt.imshow(w[:,0].reshape([28,28]), cmap=plt.get_cmap('seismic_r'))"
      ],
      "execution_count": 6,
      "outputs": [
        {
          "output_type": "execute_result",
          "data": {
            "text/plain": [
              "<matplotlib.image.AxesImage at 0x7f7a0eb5d240>"
            ]
          },
          "metadata": {
            "tags": []
          },
          "execution_count": 6
        },
        {
          "output_type": "display_data",
          "data": {
            "image/png": "[encoded data removed]",
            "text/plain": [
              "<Figure size 432x288 with 1 Axes>"
            ]
          },
          "metadata": {
            "tags": []
          }
        }
      ]
    },
    {
      "cell_type": "markdown",
      "metadata": {
        "id": "JF1cc6xoWtGE",
        "colab_type": "text"
      },
      "source": [
        "Figura 4.5 Matriz de parámetros correspondiente al modelo de la categoría cero"
      ]
    },
    {
      "cell_type": "code",
      "metadata": {
        "id": "Z0EhD5-QVSgA",
        "colab_type": "code",
        "outputId": "a4b81181-c72f-4c28-de1b-f51b67123cc5",
        "colab": {
          "base_uri": "https://localhost:8080/",
          "height": 521
        }
      },
      "source": [
        "np.set_printoptions(precision=0, suppress = True, linewidth=220)\n",
        "print(np.matrix (255*(w[:,0].reshape([28,28]))))"
      ],
      "execution_count": 7,
      "outputs": [
        {
          "output_type": "stream",
          "text": [
            "[[  13.   19.   18.   17.  -21.  -12.   10.  -11.  -16.   20.    3.   22.   15.   -8.  -15.   -7.    1.   14.   -6.  -20.  -13.   17.   -6.   18.  -15.  -12.   12.    1.]\n",
            " [  10.   -8.    8.   19.   11.   15.    2.   12.   16.   -2.  -20.  -21.    4.    9.   -7.   -2.  -33.  -18.  -17.  -46.  -37.  -28.  -30.  -18.   -5.    6.   21.    7.]\n",
            " [   9.    4.   -6.    3.   14.  -34.  -11.  -30.  -32.  -37.  -39.  -53.  -18.  -18.  -37.  -37.  -67.  -79.  -41.  -60.  -24.  -53.  -23.   -1.   -2.  -13.  -19.    8.]\n",
            " [   5.   18.   -0.   17.  -28.  -28.  -32.  -21.  -15.  -24.  -52.  -20.  -15.  -13.  -51.  -46.  -51.  -22.  -52.  -36.  -63.  -41.  -38.  -29.   -5.  -23.    1.   -8.]\n",
            " [ -16.   15.    6.  -21.  -47.  -53.  -43.  -45.  -26.  -19.   -2.  -13.  -25.   -5.  -12.  -10.   16.  -25.   -9.   -5.   -2.  -34.  -32.  -18.  -33.  -26.  -12.  -25.]\n",
            " [  12.   -6.   12.    3.  -36.  -74.  -24.  -24.  -22.  -38.  -22.  -31.   14.   19.   22.   19.   19.   18.    9.   20.    8.   -2.   -1.  -43.  -38.  -81.  -31.   -2.]\n",
            " [   0.   13.   -5.  -33.  -26.  -17.  -19.  -25.  -25.  -10.  -15.  -20.  -11.    3.   16.   10.   44.   45.   21.   27.    7.   22.   -6.  -26.  -60.  -72.  -31.  -25.]\n",
            " [  -4.   -7.  -10.  -42.  -29.  -39.  -34.  -46.  -28.  -38.   -1.    5.  -18.   24.   15.   29.   32.   46.   36.   18.    5.   -7.   20.    9.  -41.  -79.  -66.    7.]\n",
            " [   8.    9.  -17.  -37.  -53.  -46.  -25.  -13.  -39.  -20.    4.   -0.  -13.   -6.   18.    4.   39.   57.   28.   43.   31.    3.   14.   -3.  -42.  -89.  -57.  -28.]\n",
            " [ -18.   -5.   -2.  -22.  -51.  -29.  -16.  -29.  -13.  -14.  -27.   -8.   -9.   32.    9.   -0.   16.   19.   26.   21.    7.    2.   11.   33.  -18.  -61.  -74.   -1.]\n",
            " [  -4.  -25.  -20.   -7.  -42.  -11.  -34.  -14.    0.    4.   -3.    1.   21.   31.   15.  -19.  -20.    0.   43.   30.   23.   20.   44.   34.   23.  -80.  -64.  -27.]\n",
            " [  11.   13.  -10.  -38.  -60.   -3.  -24.   10.  -30.  -11.    3.   10.   -3.  -33.  -65.  -76.  -66.  -44.    7.   25.   33.   48.   25.   36.   28.  -53.  -57.  -27.]\n",
            " [  -0.  -13.  -30.  -52.  -46.  -20.   -7.  -10.  -15.   -6.   28.   -5.   12.  -44.  -75.  -87.  -97.  -54.  -38.  -15.   -4.   26.   41.   59.   30.  -26.  -43.  -22.]\n",
            " [ -20.   15.    4.  -24.   -6.    1.   36.   14.   11.   -5.   27.   -1.   -9.  -56. -106. -109.  -81.  -69.  -12.   13.   -4.   36.   50.   69.   40.   11.  -13.   -2.]\n",
            " [ -24.  -21.    4.  -51.  -28.    1.   35.    9.   29.   15.   25.    4.  -44. -107. -120. -122.  -96.  -57.  -44.  -14.   -8.   31.   45.   49.   33.   -5.  -27.  -17.]\n",
            " [  -8.  -28.  -29.  -39.  -17.    8.   25.   36.   44.   36.   44.  -13.  -58.  -87.  -89. -116.  -94.  -37.    3.    3.   30.    7.   34.   21.   31.   -9.  -40.  -37.]\n",
            " [ -16.  -25.  -39.  -67.    8.   31.   24.   21.   23.   42.   35.  -21.  -71.  -88. -118.  -99.  -38.  -40.   -7.   -8.   15.   18.    8.   37.   -9.  -16.  -30.   -6.]\n",
            " [  16.  -10.  -42.  -44.  -25.   34.   17.   42.   19.   23.   47.  -38.  -60. -107.  -90.  -71.  -51.  -13.   -1.   16.  -15.   26.   20.    8.    8.   -8.   -8.   10.]\n",
            " [ -13.    8.  -33.  -49.  -25.    0.   11.   22.   37.   43.   41.   -9.  -33.  -86.  -59.  -30.  -15.    7.   17.  -21.  -16.   19.   20.  -16.   -0.  -13.  -29.  -22.]\n",
            " [  -7.    3.  -22.  -40.   -7.   14.    8.   23.   13.   16.   42.   11.  -21.  -31.  -26.  -22.  -11.  -19.    2.   -4.   -8.    6.    5.   -1.    1.  -28.  -57.  -34.]\n",
            " [  -5.   -3.  -21.  -61.  -21.    1.  -15.    5.   19.   44.   37.   30.   -1.   -0.    5.    3.    1.    9.   -3.   -3.  -21.  -18.  -25.   -5.  -17.  -25.   -3.  -14.]\n",
            " [ -17.    8.    5.  -17.  -39.  -12.   24.   15.   -7.   30.   13.   52.   19.   16.   13.   -3.   -7.  -13.  -25.  -29.   -4.  -13.  -11.  -44.   -5.  -11.  -21.   12.]\n",
            " [ -16.  -19.  -21.  -15.  -32.   -6.   -1.   23.   -1.   35.   35.   28.   21.   24.   20.   13.  -14.   -7.   -7.    1.  -30.   -5.  -39.  -38.  -11.   11.   20.    2.]\n",
            " [  -0.   -6.    2.  -24.  -60.  -42.  -29.   17.  -10.   36.   49.   33.   37.   39.   16.   28.   12.   -4.  -44.  -38.  -35.  -31.  -35.  -44.   -2.  -42.   -7.  -11.]\n",
            " [  -9.   -0.   -4.  -15.  -24.  -19.  -29.  -18.  -40.  -17.  -12.  -15.   -6.   -3.  -17.  -36.  -46.  -24.  -44.  -54.  -73.  -56.  -33.  -17.  -18.   -7.    9.   12.]\n",
            " [  13.   -2.   16.   -4.  -24.  -48.  -43.  -72.  -67.  -74.  -76.  -76.  -70.  -74.  -95. -101.  -93.  -69.  -68.  -76.  -51.  -49.  -21.  -35.   -6.  -17.   -9.  -17.]\n",
            " [  -1.    5.   21.   16.  -12.   -8.   -6.  -37.  -19.  -61.  -70.  -52.  -41.  -78.  -36.  -38.  -41.  -60.  -54.  -17.  -45.  -31.  -32.  -29.  -18.   12.   -0.  -20.]\n",
            " [   4.   -8.   -1.   14.  -21.   -4.  -22.   -5.  -39.    1.  -14.  -18.   -7.  -22.   -9.  -12.   -4.   -9.  -22.  -23.  -12.  -31.   -4.  -10.  -21.  -19.   10.  -11.]]\n"
          ],
          "name": "stdout"
        }
      ]
    },
    {
      "cell_type": "markdown",
      "metadata": {
        "id": "vDEEuEtgW9qV",
        "colab_type": "text"
      },
      "source": [
        "Figura 4.16 Modelo aprendido correspondiente al número 3"
      ]
    },
    {
      "cell_type": "code",
      "metadata": {
        "id": "227dP4lWVSji",
        "colab_type": "code",
        "outputId": "a7bd822d-72ed-4bd0-fa95-965c4f706a8b",
        "colab": {
          "base_uri": "https://localhost:8080/",
          "height": 282
        }
      },
      "source": [
        "w = model.get_weights()\n",
        "w = np.asarray(w[0])\n",
        "plt.figure()\n",
        "plt.imshow(w[:,3].reshape([28,28]), cmap=plt.get_cmap('seismic_r'))"
      ],
      "execution_count": 8,
      "outputs": [
        {
          "output_type": "execute_result",
          "data": {
            "text/plain": [
              "<matplotlib.image.AxesImage at 0x7f7a003039b0>"
            ]
          },
          "metadata": {
            "tags": []
          },
          "execution_count": 8
        },
        {
          "output_type": "display_data",
          "data": {
            "image/png": "[encoded data removed]",
            "text/plain": [
              "<Figure size 432x288 with 1 Axes>"
            ]
          },
          "metadata": {
            "tags": []
          }
        }
      ]
    }
  ]
}