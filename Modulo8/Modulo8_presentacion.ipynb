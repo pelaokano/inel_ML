{
 "cells": [
  {
   "cell_type": "markdown",
   "id": "7415769c",
   "metadata": {
    "slideshow": {
     "slide_type": "slide"
    }
   },
   "source": [
    "<img src=\"https://raw.githubusercontent.com/pelaokano/inel_ML/main/Modulo4/logo_inel.png\">\n",
    "<h1 align=\"center\">Machine Learning Aplicado a la Ingeniería Eléctrica</h1>\n",
    "\n",
    "<h2 align=\"center\">Modulo 8: Modelamiento Redes Neuronales con Python</h2>\n",
    "\n",
    "<h3 align=\"center\">Innstructor: Adrian Alarcón Becerra</h3>"
   ]
  },
  {
   "cell_type": "markdown",
   "id": "293a8e50",
   "metadata": {
    "slideshow": {
     "slide_type": "slide"
    }
   },
   "source": [
    "<img src=\"https://raw.githubusercontent.com/pelaokano/inel_ML/main/Modulo8/image/4.+Redes+Convolucionales_page-0002.jpg\">\n"
   ]
  },
  {
   "cell_type": "markdown",
   "id": "8c3e1353",
   "metadata": {
    "slideshow": {
     "slide_type": "slide"
    }
   },
   "source": [
    "<img src=\"https://raw.githubusercontent.com/pelaokano/inel_ML/main/Modulo8/image/4.+Redes+Convolucionales_page-0004.jpg\">\n"
   ]
  },
  {
   "cell_type": "markdown",
   "id": "1fd3539b",
   "metadata": {
    "slideshow": {
     "slide_type": "slide"
    }
   },
   "source": [
    "<img src=\"https://raw.githubusercontent.com/pelaokano/inel_ML/main/Modulo8/image/4.+Redes+Convolucionales_page-0005.jpg\">\n"
   ]
  },
  {
   "cell_type": "markdown",
   "id": "829b81b3",
   "metadata": {
    "slideshow": {
     "slide_type": "slide"
    }
   },
   "source": [
    "<img src=\"https://raw.githubusercontent.com/pelaokano/inel_ML/main/Modulo8/image/4.+Redes+Convolucionales_page-0006.jpg\">\n"
   ]
  },
  {
   "cell_type": "markdown",
   "id": "3a1fec1b",
   "metadata": {
    "slideshow": {
     "slide_type": "slide"
    }
   },
   "source": [
    "<img src=\"https://raw.githubusercontent.com/pelaokano/inel_ML/main/Modulo8/image/4.+Redes+Convolucionales_page-0007.jpg\">\n"
   ]
  },
  {
   "cell_type": "markdown",
   "id": "ee246ded",
   "metadata": {
    "slideshow": {
     "slide_type": "slide"
    }
   },
   "source": [
    "<img src=\"https://raw.githubusercontent.com/pelaokano/inel_ML/main/Modulo8/image/4.+Redes+Convolucionales_page-0008.jpg\">\n"
   ]
  },
  {
   "cell_type": "markdown",
   "id": "f881144a",
   "metadata": {
    "slideshow": {
     "slide_type": "slide"
    }
   },
   "source": [
    "<img src=\"https://raw.githubusercontent.com/pelaokano/inel_ML/main/Modulo8/image/4.+Redes+Convolucionales_page-0009.jpg\">\n"
   ]
  },
  {
   "cell_type": "markdown",
   "id": "a7e96353",
   "metadata": {
    "slideshow": {
     "slide_type": "slide"
    }
   },
   "source": [
    "<img src=\"https://raw.githubusercontent.com/pelaokano/inel_ML/main/Modulo8/image/4.+Redes+Convolucionales_page-0010.jpg\">\n"
   ]
  },
  {
   "cell_type": "markdown",
   "id": "11880e0e",
   "metadata": {
    "slideshow": {
     "slide_type": "slide"
    }
   },
   "source": [
    "<img src=\"https://raw.githubusercontent.com/pelaokano/inel_ML/main/Modulo8/image/4.+Redes+Convolucionales_page-0011.jpg\">\n"
   ]
  },
  {
   "cell_type": "markdown",
   "id": "f58c4d95",
   "metadata": {
    "slideshow": {
     "slide_type": "slide"
    }
   },
   "source": [
    "<img src=\"https://raw.githubusercontent.com/pelaokano/inel_ML/main/Modulo8/image/4.+Redes+Convolucionales_page-0012.jpg\">\n"
   ]
  },
  {
   "cell_type": "markdown",
   "id": "7a11a52f",
   "metadata": {
    "slideshow": {
     "slide_type": "slide"
    }
   },
   "source": [
    "<img src=\"https://raw.githubusercontent.com/pelaokano/inel_ML/main/Modulo8/image/4.+Redes+Convolucionales_page-0014.jpg\">\n"
   ]
  },
  {
   "cell_type": "markdown",
   "id": "5f12cebc",
   "metadata": {
    "slideshow": {
     "slide_type": "slide"
    }
   },
   "source": [
    "<img src=\"https://raw.githubusercontent.com/pelaokano/inel_ML/main/Modulo8/image/convolution4.gif\">"
   ]
  },
  {
   "cell_type": "markdown",
   "id": "3d4d8342",
   "metadata": {
    "slideshow": {
     "slide_type": "slide"
    }
   },
   "source": [
    "<img src=\"https://raw.githubusercontent.com/pelaokano/inel_ML/main/Modulo8/image/4.+Redes+Convolucionales_page-0015.jpg\">\n"
   ]
  },
  {
   "cell_type": "markdown",
   "id": "526b8895",
   "metadata": {
    "slideshow": {
     "slide_type": "slide"
    }
   },
   "source": [
    "<img src=\"https://raw.githubusercontent.com/pelaokano/inel_ML/main/Modulo8/image/4.+Redes+Convolucionales_page-0016.jpg\">\n"
   ]
  },
  {
   "cell_type": "markdown",
   "id": "d152b792",
   "metadata": {
    "slideshow": {
     "slide_type": "slide"
    }
   },
   "source": [
    "<img src=\"https://raw.githubusercontent.com/pelaokano/inel_ML/main/Modulo8/image/4.+Redes+Convolucionales_page-0017.jpg\">\n"
   ]
  },
  {
   "cell_type": "markdown",
   "id": "0153560d",
   "metadata": {
    "slideshow": {
     "slide_type": "slide"
    }
   },
   "source": [
    "<img src=\"https://raw.githubusercontent.com/pelaokano/inel_ML/main/Modulo8/image/4.+Redes+Convolucionales_page-0019.jpg\">\n"
   ]
  },
  {
   "cell_type": "markdown",
   "id": "f8ab843a",
   "metadata": {
    "slideshow": {
     "slide_type": "slide"
    }
   },
   "source": [
    "<img src=\"https://raw.githubusercontent.com/pelaokano/inel_ML/main/Modulo8/image/4.+Redes+Convolucionales_page-0020.jpg\">\n"
   ]
  },
  {
   "cell_type": "markdown",
   "id": "38acf1fc",
   "metadata": {
    "slideshow": {
     "slide_type": "slide"
    }
   },
   "source": [
    "<img src=\"https://raw.githubusercontent.com/pelaokano/inel_ML/main/Modulo8/image/4.+Redes+Convolucionales_page-0021.jpg\">\n"
   ]
  },
  {
   "cell_type": "markdown",
   "id": "ca057482",
   "metadata": {
    "slideshow": {
     "slide_type": "slide"
    }
   },
   "source": [
    "<img src=\"https://raw.githubusercontent.com/pelaokano/inel_ML/main/Modulo8/image/4.+Redes+Convolucionales_page-0022.jpg\">\n"
   ]
  },
  {
   "cell_type": "markdown",
   "id": "054ccea6",
   "metadata": {
    "slideshow": {
     "slide_type": "slide"
    }
   },
   "source": [
    "<img src=\"https://raw.githubusercontent.com/pelaokano/inel_ML/main/Modulo8/image/4.+Redes+Convolucionales_page-0023.jpg\">\n"
   ]
  },
  {
   "cell_type": "markdown",
   "id": "7bc9256c",
   "metadata": {
    "slideshow": {
     "slide_type": "slide"
    }
   },
   "source": [
    "<img src=\"https://raw.githubusercontent.com/pelaokano/inel_ML/main/Modulo8/image/4.+Redes+Convolucionales_page-0024.jpg\">\n"
   ]
  },
  {
   "cell_type": "markdown",
   "id": "a43a48fb",
   "metadata": {
    "slideshow": {
     "slide_type": "slide"
    }
   },
   "source": [
    "<img src=\"https://raw.githubusercontent.com/pelaokano/inel_ML/main/Modulo8/image/4.+Redes+Convolucionales_page-0025.jpg\">\n"
   ]
  },
  {
   "cell_type": "markdown",
   "id": "f6238d60",
   "metadata": {
    "slideshow": {
     "slide_type": "slide"
    }
   },
   "source": [
    "<img src=\"https://raw.githubusercontent.com/pelaokano/inel_ML/main/Modulo8/image/4.+Redes+Convolucionales_page-0026.jpg\">\n"
   ]
  },
  {
   "cell_type": "markdown",
   "id": "cabcba83",
   "metadata": {
    "slideshow": {
     "slide_type": "slide"
    }
   },
   "source": [
    "<img src=\"https://raw.githubusercontent.com/pelaokano/inel_ML/main/Modulo8/image/4.+Redes+Convolucionales_page-0027.jpg\">\n"
   ]
  },
  {
   "cell_type": "markdown",
   "id": "6ab200cb",
   "metadata": {
    "slideshow": {
     "slide_type": "slide"
    }
   },
   "source": [
    "<img src=\"https://raw.githubusercontent.com/pelaokano/inel_ML/main/Modulo8/image/4.+Redes+Convolucionales_page-0028.jpg\">\n"
   ]
  },
  {
   "cell_type": "markdown",
   "id": "9d729905",
   "metadata": {
    "slideshow": {
     "slide_type": "slide"
    }
   },
   "source": [
    "<img src=\"https://raw.githubusercontent.com/pelaokano/inel_ML/main/Modulo8/image/4.+Redes+Convolucionales_page-0029.jpg\">\n"
   ]
  },
  {
   "cell_type": "markdown",
   "id": "54428476",
   "metadata": {
    "slideshow": {
     "slide_type": "slide"
    }
   },
   "source": [
    "<img src=\"https://raw.githubusercontent.com/pelaokano/inel_ML/main/Modulo8/image/4.+Redes+Convolucionales_page-0030.jpg\">\n"
   ]
  },
  {
   "cell_type": "markdown",
   "id": "206f174c",
   "metadata": {
    "slideshow": {
     "slide_type": "slide"
    }
   },
   "source": [
    "<img src=\"https://raw.githubusercontent.com/pelaokano/inel_ML/main/Modulo8/image/convolution.gif\">"
   ]
  },
  {
   "cell_type": "markdown",
   "id": "107c5bb2",
   "metadata": {
    "slideshow": {
     "slide_type": "slide"
    }
   },
   "source": [
    "<img src=\"https://raw.githubusercontent.com/pelaokano/inel_ML/main/Modulo8/image/convolution2.gif\">"
   ]
  },
  {
   "cell_type": "markdown",
   "id": "f519fced",
   "metadata": {
    "slideshow": {
     "slide_type": "slide"
    }
   },
   "source": [
    "<img src=\"https://raw.githubusercontent.com/pelaokano/inel_ML/main/Modulo8/image/convolution3.gif\">"
   ]
  },
  {
   "cell_type": "markdown",
   "id": "2c9aefc0",
   "metadata": {
    "slideshow": {
     "slide_type": "slide"
    }
   },
   "source": [
    "<img src=\"https://raw.githubusercontent.com/pelaokano/inel_ML/main/Modulo8/image/4.+Redes+Convolucionales_page-0031.jpg\">\n"
   ]
  },
  {
   "cell_type": "markdown",
   "id": "46d32c8c",
   "metadata": {
    "slideshow": {
     "slide_type": "slide"
    }
   },
   "source": [
    "<img src=\"https://raw.githubusercontent.com/pelaokano/inel_ML/main/Modulo8/image/4.+Redes+Convolucionales_page-0032.jpg\">\n"
   ]
  },
  {
   "cell_type": "markdown",
   "id": "36cd6d52",
   "metadata": {
    "slideshow": {
     "slide_type": "slide"
    }
   },
   "source": [
    "<img src=\"https://raw.githubusercontent.com/pelaokano/inel_ML/main/Modulo8/image/4.+Redes+Convolucionales_page-0033.jpg\">\n"
   ]
  },
  {
   "cell_type": "markdown",
   "id": "09e7e75a",
   "metadata": {
    "slideshow": {
     "slide_type": "slide"
    }
   },
   "source": [
    "<img src=\"https://raw.githubusercontent.com/pelaokano/inel_ML/main/Modulo8/image/4.+Redes+Convolucionales_page-0034.jpg\">\n"
   ]
  },
  {
   "cell_type": "markdown",
   "id": "24f8f00b",
   "metadata": {
    "slideshow": {
     "slide_type": "slide"
    }
   },
   "source": [
    "<img src=\"https://raw.githubusercontent.com/pelaokano/inel_ML/main/Modulo8/image/4.+Redes+Convolucionales_page-0035.jpg\">\n"
   ]
  },
  {
   "cell_type": "markdown",
   "id": "763c63c4",
   "metadata": {
    "slideshow": {
     "slide_type": "slide"
    }
   },
   "source": [
    "<img src=\"https://raw.githubusercontent.com/pelaokano/inel_ML/main/Modulo8/image/4.+Redes+Convolucionales_page-0036.jpg\">\n"
   ]
  },
  {
   "cell_type": "markdown",
   "id": "9c19ba95",
   "metadata": {
    "slideshow": {
     "slide_type": "slide"
    }
   },
   "source": [
    "<img src=\"https://raw.githubusercontent.com/pelaokano/inel_ML/main/Modulo8/image/4.+Redes+Convolucionales_page-0037.jpg\">\n"
   ]
  },
  {
   "cell_type": "markdown",
   "id": "dfdd87ed",
   "metadata": {
    "slideshow": {
     "slide_type": "slide"
    }
   },
   "source": [
    "<img src=\"https://raw.githubusercontent.com/pelaokano/inel_ML/main/Modulo8/image/4.+Redes+Convolucionales_page-0038.jpg\">\n"
   ]
  },
  {
   "cell_type": "markdown",
   "id": "2fa9c33a",
   "metadata": {
    "slideshow": {
     "slide_type": "slide"
    }
   },
   "source": [
    "<img src=\"https://raw.githubusercontent.com/pelaokano/inel_ML/main/Modulo8/image/4.+Redes+Convolucionales_page-0039.jpg\">\n"
   ]
  },
  {
   "cell_type": "markdown",
   "id": "ef90cf7c",
   "metadata": {
    "slideshow": {
     "slide_type": "slide"
    }
   },
   "source": [
    "<img src=\"https://raw.githubusercontent.com/pelaokano/inel_ML/main/Modulo8/image/4.+Redes+Convolucionales_page-0040.jpg\">\n"
   ]
  },
  {
   "cell_type": "markdown",
   "id": "5f25b53f",
   "metadata": {
    "slideshow": {
     "slide_type": "slide"
    }
   },
   "source": [
    "<img src=\"https://raw.githubusercontent.com/pelaokano/inel_ML/main/Modulo8/image/4.+Redes+Convolucionales_page-0041.jpg\">\n"
   ]
  },
  {
   "cell_type": "markdown",
   "id": "a32d66af",
   "metadata": {
    "slideshow": {
     "slide_type": "slide"
    }
   },
   "source": [
    "<img src=\"https://raw.githubusercontent.com/pelaokano/inel_ML/main/Modulo8/image/4.+Redes+Convolucionales_page-0042.jpg\">\n"
   ]
  },
  {
   "cell_type": "markdown",
   "id": "f3630309",
   "metadata": {
    "slideshow": {
     "slide_type": "slide"
    }
   },
   "source": [
    "<img src=\"https://raw.githubusercontent.com/pelaokano/inel_ML/main/Modulo8/image/4.+Redes+Convolucionales_page-0043.jpg\">\n"
   ]
  },
  {
   "cell_type": "markdown",
   "id": "b3d700e6",
   "metadata": {
    "slideshow": {
     "slide_type": "slide"
    }
   },
   "source": [
    "<img src=\"https://raw.githubusercontent.com/pelaokano/inel_ML/main/Modulo8/image/4.+Redes+Convolucionales_page-0045.jpg\">\n"
   ]
  },
  {
   "cell_type": "markdown",
   "id": "7538b739",
   "metadata": {
    "slideshow": {
     "slide_type": "slide"
    }
   },
   "source": [
    "<img src=\"https://raw.githubusercontent.com/pelaokano/inel_ML/main/Modulo8/image/4.+Redes+Convolucionales_page-0046.jpg\">\n"
   ]
  },
  {
   "cell_type": "markdown",
   "id": "c4e1e17b",
   "metadata": {
    "slideshow": {
     "slide_type": "slide"
    }
   },
   "source": [
    "<img src=\"https://raw.githubusercontent.com/pelaokano/inel_ML/main/Modulo8/image/4.+Redes+Convolucionales_page-0047.jpg\">\n"
   ]
  },
  {
   "cell_type": "markdown",
   "id": "f135fc91",
   "metadata": {
    "slideshow": {
     "slide_type": "slide"
    }
   },
   "source": [
    "<img src=\"https://raw.githubusercontent.com/pelaokano/inel_ML/main/Modulo8/image/4.+Redes+Convolucionales_page-0048.jpg\">\n"
   ]
  },
  {
   "cell_type": "markdown",
   "id": "5e9dca86",
   "metadata": {
    "slideshow": {
     "slide_type": "slide"
    }
   },
   "source": [
    "<img src=\"https://raw.githubusercontent.com/pelaokano/inel_ML/main/Modulo8/image/4.+Redes+Convolucionales_page-0049.jpg\">\n"
   ]
  },
  {
   "cell_type": "markdown",
   "id": "21182994",
   "metadata": {
    "slideshow": {
     "slide_type": "slide"
    }
   },
   "source": [
    "<img src=\"https://raw.githubusercontent.com/pelaokano/inel_ML/main/Modulo8/image/4.+Redes+Convolucionales_page-0050.jpg\">\n"
   ]
  },
  {
   "cell_type": "markdown",
   "id": "3f6eca06",
   "metadata": {
    "slideshow": {
     "slide_type": "slide"
    }
   },
   "source": [
    "<img src=\"https://raw.githubusercontent.com/pelaokano/inel_ML/main/Modulo8/image/4.+Redes+Convolucionales_page-0051.jpg\">\n"
   ]
  },
  {
   "cell_type": "markdown",
   "id": "d9a7e18d",
   "metadata": {
    "slideshow": {
     "slide_type": "slide"
    }
   },
   "source": [
    "<img src=\"https://raw.githubusercontent.com/pelaokano/inel_ML/main/Modulo8/image/4.+Redes+Convolucionales_page-0053.jpg\">\n"
   ]
  },
  {
   "cell_type": "markdown",
   "id": "20649e77",
   "metadata": {
    "slideshow": {
     "slide_type": "slide"
    }
   },
   "source": [
    "<img src=\"https://raw.githubusercontent.com/pelaokano/inel_ML/main/Modulo8/image/4.+Redes+Convolucionales_page-0054.jpg\">\n"
   ]
  },
  {
   "cell_type": "markdown",
   "id": "59d9be1d",
   "metadata": {
    "slideshow": {
     "slide_type": "slide"
    }
   },
   "source": [
    "<img src=\"https://raw.githubusercontent.com/pelaokano/inel_ML/main/Modulo8/image/4.+Redes+Convolucionales_page-0056.jpg\">\n"
   ]
  },
  {
   "cell_type": "markdown",
   "id": "77997853",
   "metadata": {
    "slideshow": {
     "slide_type": "slide"
    }
   },
   "source": [
    "<img src=\"https://raw.githubusercontent.com/pelaokano/inel_ML/main/Modulo8/image/4.+Redes+Convolucionales_page-0057.jpg\">\n"
   ]
  },
  {
   "cell_type": "markdown",
   "id": "defefc8c",
   "metadata": {
    "slideshow": {
     "slide_type": "slide"
    }
   },
   "source": [
    "<img src=\"https://raw.githubusercontent.com/pelaokano/inel_ML/main/Modulo8/image/4.+Redes+Convolucionales_page-0058.jpg\">\n"
   ]
  },
  {
   "cell_type": "markdown",
   "id": "3c0c1a1e",
   "metadata": {
    "slideshow": {
     "slide_type": "slide"
    }
   },
   "source": [
    "<img src=\"https://raw.githubusercontent.com/pelaokano/inel_ML/main/Modulo8/image/4.+Redes+Convolucionales_page-0059.jpg\">\n"
   ]
  },
  {
   "cell_type": "markdown",
   "id": "4702d20b",
   "metadata": {
    "slideshow": {
     "slide_type": "slide"
    }
   },
   "source": [
    "<img src=\"https://raw.githubusercontent.com/pelaokano/inel_ML/main/Modulo8/image/4.+Redes+Convolucionales_page-0060.jpg\">\n"
   ]
  },
  {
   "cell_type": "markdown",
   "id": "ebff23bd",
   "metadata": {
    "slideshow": {
     "slide_type": "slide"
    }
   },
   "source": [
    "<img src=\"https://raw.githubusercontent.com/pelaokano/inel_ML/main/Modulo8/image/4.+Redes+Convolucionales_page-0061.jpg\">\n"
   ]
  },
  {
   "cell_type": "markdown",
   "id": "6bd45ecf",
   "metadata": {
    "slideshow": {
     "slide_type": "slide"
    }
   },
   "source": [
    "<img src=\"https://raw.githubusercontent.com/pelaokano/inel_ML/main/Modulo8/image/4.+Redes+Convolucionales_page-0062.jpg\">\n"
   ]
  },
  {
   "cell_type": "markdown",
   "id": "b98f9377",
   "metadata": {
    "slideshow": {
     "slide_type": "slide"
    }
   },
   "source": [
    "<img src=\"https://raw.githubusercontent.com/pelaokano/inel_ML/main/Modulo8/image/4.+Redes+Convolucionales_page-0063.jpg\">\n"
   ]
  },
  {
   "cell_type": "markdown",
   "id": "670498c6",
   "metadata": {
    "slideshow": {
     "slide_type": "slide"
    }
   },
   "source": [
    "<img src=\"https://raw.githubusercontent.com/pelaokano/inel_ML/main/Modulo8/image/4.+Redes+Convolucionales_page-0065.jpg\">\n"
   ]
  },
  {
   "cell_type": "markdown",
   "id": "6d738ddd",
   "metadata": {
    "slideshow": {
     "slide_type": "slide"
    }
   },
   "source": [
    "<img src=\"https://raw.githubusercontent.com/pelaokano/inel_ML/main/Modulo8/image/4.+Redes+Convolucionales_page-0066.jpg\">\n"
   ]
  },
  {
   "cell_type": "markdown",
   "id": "886fa529",
   "metadata": {
    "slideshow": {
     "slide_type": "slide"
    }
   },
   "source": [
    "<img src=\"https://raw.githubusercontent.com/pelaokano/inel_ML/main/Modulo8/image/4.+Redes+Convolucionales_page-0067.jpg\">\n"
   ]
  },
  {
   "cell_type": "markdown",
   "id": "32de9d24",
   "metadata": {
    "slideshow": {
     "slide_type": "slide"
    }
   },
   "source": [
    "<img src=\"https://raw.githubusercontent.com/pelaokano/inel_ML/main/Modulo8/image/4.+Redes+Convolucionales_page-0068.jpg\">\n"
   ]
  },
  {
   "cell_type": "markdown",
   "id": "f7e39f90",
   "metadata": {
    "slideshow": {
     "slide_type": "slide"
    }
   },
   "source": [
    "<img src=\"https://raw.githubusercontent.com/pelaokano/inel_ML/main/Modulo8/image/4.+Redes+Convolucionales_page-0069.jpg\">\n"
   ]
  },
  {
   "cell_type": "markdown",
   "id": "0bb72efb",
   "metadata": {
    "slideshow": {
     "slide_type": "slide"
    }
   },
   "source": [
    "<img src=\"https://raw.githubusercontent.com/pelaokano/inel_ML/main/Modulo8/image/4.+Redes+Convolucionales_page-0070.jpg\">\n"
   ]
  },
  {
   "cell_type": "markdown",
   "id": "78e7ed9f",
   "metadata": {
    "slideshow": {
     "slide_type": "slide"
    }
   },
   "source": [
    "<img src=\"https://raw.githubusercontent.com/pelaokano/inel_ML/main/Modulo8/image/4.+Redes+Convolucionales_page-0071.jpg\">\n"
   ]
  },
  {
   "cell_type": "markdown",
   "id": "e70492cc",
   "metadata": {
    "slideshow": {
     "slide_type": "slide"
    }
   },
   "source": [
    "<img src=\"https://raw.githubusercontent.com/pelaokano/inel_ML/main/Modulo8/image/4.+Redes+Convolucionales_page-0072.jpg\">\n"
   ]
  },
  {
   "cell_type": "markdown",
   "id": "60fc705a",
   "metadata": {
    "slideshow": {
     "slide_type": "slide"
    }
   },
   "source": [
    "<img src=\"https://raw.githubusercontent.com/pelaokano/inel_ML/main/Modulo8/image/4.+Redes+Convolucionales_page-0073.jpg\">\n"
   ]
  },
  {
   "cell_type": "markdown",
   "id": "3d6d9d7b",
   "metadata": {
    "slideshow": {
     "slide_type": "slide"
    }
   },
   "source": [
    "<img src=\"https://raw.githubusercontent.com/pelaokano/inel_ML/main/Modulo8/image/4.+Redes+Convolucionales_page-0075.jpg\">\n"
   ]
  },
  {
   "cell_type": "markdown",
   "id": "b9c7400f",
   "metadata": {
    "slideshow": {
     "slide_type": "slide"
    }
   },
   "source": [
    "<img src=\"https://raw.githubusercontent.com/pelaokano/inel_ML/main/Modulo8/image/4.+Redes+Convolucionales_page-0076.jpg\">\n"
   ]
  },
  {
   "cell_type": "markdown",
   "id": "840ace40",
   "metadata": {
    "slideshow": {
     "slide_type": "slide"
    }
   },
   "source": [
    "<img src=\"https://raw.githubusercontent.com/pelaokano/inel_ML/main/Modulo8/image/4.+Redes+Convolucionales_page-0077.jpg\">\n"
   ]
  },
  {
   "cell_type": "markdown",
   "id": "0818e888",
   "metadata": {
    "slideshow": {
     "slide_type": "slide"
    }
   },
   "source": [
    "<img src=\"https://raw.githubusercontent.com/pelaokano/inel_ML/main/Modulo8/image/4.+Redes+Convolucionales_page-0078.jpg\">\n"
   ]
  },
  {
   "cell_type": "markdown",
   "id": "fa3426d4",
   "metadata": {
    "slideshow": {
     "slide_type": "slide"
    }
   },
   "source": [
    "<img src=\"https://raw.githubusercontent.com/pelaokano/inel_ML/main/Modulo8/image/4.+Redes+Convolucionales_page-0079.jpg\">\n"
   ]
  },
  {
   "cell_type": "markdown",
   "id": "f7294f22",
   "metadata": {
    "slideshow": {
     "slide_type": "slide"
    }
   },
   "source": [
    "<img src=\"https://raw.githubusercontent.com/pelaokano/inel_ML/main/Modulo8/image/4.+Redes+Convolucionales_page-0080.jpg\">\n"
   ]
  },
  {
   "cell_type": "markdown",
   "id": "9bfbd490",
   "metadata": {
    "slideshow": {
     "slide_type": "slide"
    }
   },
   "source": [
    "<img src=\"https://raw.githubusercontent.com/pelaokano/inel_ML/main/Modulo8/image/4.+Redes+Convolucionales_page-0081.jpg\">\n"
   ]
  }
 ],
 "metadata": {
  "celltoolbar": "Slideshow",
  "kernelspec": {
   "display_name": "Python 3 (ipykernel)",
   "language": "python",
   "name": "python3"
  },
  "language_info": {
   "codemirror_mode": {
    "name": "ipython",
    "version": 3
   },
   "file_extension": ".py",
   "mimetype": "text/x-python",
   "name": "python",
   "nbconvert_exporter": "python",
   "pygments_lexer": "ipython3",
   "version": "3.9.12"
  }
 },
 "nbformat": 4,
 "nbformat_minor": 5
}
